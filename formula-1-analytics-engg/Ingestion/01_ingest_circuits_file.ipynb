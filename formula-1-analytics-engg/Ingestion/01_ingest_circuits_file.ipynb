{
 "cells": [
  {
   "cell_type": "markdown",
   "metadata": {
    "application/vnd.databricks.v1+cell": {
     "cellMetadata": {},
     "inputWidgets": {},
     "nuid": "738215a2-8f6d-4187-b69a-7dd0483af7a8",
     "showTitle": false,
     "title": ""
    }
   },
   "source": [
    "# Ingest Circuits file"
   ]
  },
  {
   "cell_type": "code",
   "execution_count": 0,
   "metadata": {
    "application/vnd.databricks.v1+cell": {
     "cellMetadata": {
      "byteLimit": 2048000,
      "rowLimit": 10000
     },
     "inputWidgets": {},
     "nuid": "870698f8-2e44-4ccf-9d17-9b3cd169fbcc",
     "showTitle": false,
     "title": ""
    }
   },
   "outputs": [
    {
     "output_type": "display_data",
     "data": {
      "text/html": [
       "<div class = \"ansiout\"><b>dbutils.widgets</b> provides utilities for working with notebook widgets. You can create\n",
       "different types of widgets and get their bound value.\n",
       "\n",
       "For more info about a method, use <b>dbutils.widgets.help(\"methodName\")</b>.\n",
       "    <h3></h3><b>combobox(name: String, defaultValue: String, choices: Seq, label: String): void</b> -> Creates a combobox input widget with a given name, default value and choices<br /><b>dropdown(name: String, defaultValue: String, choices: Seq, label: String): void</b> -> Creates a dropdown input widget a with given name, default value and choices<br /><b>get(name: String): String</b> -> Retrieves current value of an input widget<br /><b>getArgument(name: String, optional: String): String</b> -> (DEPRECATED) Equivalent to get<br /><b>multiselect(name: String, defaultValue: String, choices: Seq, label: String): void</b> -> Creates a multiselect input widget with a given name, default value and choices<br /><b>remove(name: String): void</b> -> Removes an input widget from the notebook<br /><b>removeAll: void</b> -> Removes all widgets in the notebook<br /><b>text(name: String, defaultValue: String, label: String): void</b> -> Creates a text input widget with a given name and default value<br /><br /></div>"
      ]
     },
     "metadata": {},
     "output_type": "display_data"
    }
   ],
   "source": [
    "dbutils.widgets.help()"
   ]
  },
  {
   "cell_type": "code",
   "execution_count": 0,
   "metadata": {
    "application/vnd.databricks.v1+cell": {
     "cellMetadata": {
      "byteLimit": 2048000,
      "rowLimit": 10000
     },
     "inputWidgets": {},
     "nuid": "44235b91-1b4f-4c73-8707-088455041b19",
     "showTitle": false,
     "title": ""
    }
   },
   "outputs": [],
   "source": [
    "# this widget would help us to ingest data from various sources and process it using the same notebook\n",
    "dbutils.widgets.text(\"p_data_source\",\"\")\n",
    "# we have to pass in a value at the top text box\n",
    "v_data_source = dbutils.widgets.get(\"p_data_source\")\n",
    "# add it as a column while creating the parquet file"
   ]
  },
  {
   "cell_type": "code",
   "execution_count": 0,
   "metadata": {
    "application/vnd.databricks.v1+cell": {
     "cellMetadata": {
      "byteLimit": 2048000,
      "rowLimit": 10000
     },
     "inputWidgets": {},
     "nuid": "c639746b-f082-4ff2-84d2-2d064f4789d9",
     "showTitle": false,
     "title": ""
    }
   },
   "outputs": [],
   "source": [
    "%run \"/databricks-course/Formula 1/includes/configurations.ipynb\""
   ]
  },
  {
   "cell_type": "code",
   "execution_count": 0,
   "metadata": {
    "application/vnd.databricks.v1+cell": {
     "cellMetadata": {
      "byteLimit": 2048000,
      "rowLimit": 10000
     },
     "inputWidgets": {},
     "nuid": "52a4b8a8-aa5e-43dd-b15c-db1c11cd1e65",
     "showTitle": false,
     "title": ""
    }
   },
   "outputs": [],
   "source": [
    "%run \"/databricks-course/Formula 1/includes/common_functions\""
   ]
  },
  {
   "cell_type": "code",
   "execution_count": 0,
   "metadata": {
    "application/vnd.databricks.v1+cell": {
     "cellMetadata": {
      "byteLimit": 2048000,
      "rowLimit": 10000
     },
     "inputWidgets": {},
     "nuid": "8813252f-980c-4516-982a-677c29b6358d",
     "showTitle": false,
     "title": ""
    }
   },
   "outputs": [
    {
     "output_type": "display_data",
     "data": {
      "text/html": [
       "<style scoped>\n",
       "  .table-result-container {\n",
       "    max-height: 300px;\n",
       "    overflow: auto;\n",
       "  }\n",
       "  table, th, td {\n",
       "    border: 1px solid black;\n",
       "    border-collapse: collapse;\n",
       "  }\n",
       "  th, td {\n",
       "    padding: 5px;\n",
       "  }\n",
       "  th {\n",
       "    text-align: left;\n",
       "  }\n",
       "</style><div class='table-result-container'><table class='table-result'><thead style='background-color: white'><tr><th>mountPoint</th><th>source</th><th>encryptionType</th></tr></thead><tbody><tr><td>/databricks-datasets</td><td>databricks-datasets</td><td></td></tr><tr><td>/Volumes</td><td>UnityCatalogVolumes</td><td></td></tr><tr><td>/mnt/formula1dlvb/presentation</td><td>abfss://presentation@formula1dlvb.dfs.core.windows.net/</td><td></td></tr><tr><td>/databricks/mlflow-tracking</td><td>databricks/mlflow-tracking</td><td></td></tr><tr><td>/mnt/formula1dl/demo</td><td>abfss://demo@formula1dlvb.dfs.core.windows.net/</td><td></td></tr><tr><td>/databricks-results</td><td>databricks-results</td><td></td></tr><tr><td>/databricks/mlflow-registry</td><td>databricks/mlflow-registry</td><td></td></tr><tr><td>/mnt/formula1dlvb/raw</td><td>abfss://raw@formula1dlvb.dfs.core.windows.net/</td><td></td></tr><tr><td>/mnt/formula1dlvb/processed</td><td>abfss://processed@formula1dlvb.dfs.core.windows.net/</td><td></td></tr><tr><td>/Volume</td><td>DbfsReserved</td><td></td></tr><tr><td>/volumes</td><td>DbfsReserved</td><td></td></tr><tr><td>/</td><td>DatabricksRoot</td><td></td></tr><tr><td>/volume</td><td>DbfsReserved</td><td></td></tr></tbody></table></div>"
      ]
     },
     "metadata": {
      "application/vnd.databricks.v1+output": {
       "addedWidgets": {},
       "aggData": [],
       "aggError": "",
       "aggOverflow": false,
       "aggSchema": [],
       "aggSeriesLimitReached": false,
       "aggType": "",
       "arguments": {},
       "columnCustomDisplayInfos": {},
       "data": [
        [
         "/databricks-datasets",
         "databricks-datasets",
         ""
        ],
        [
         "/Volumes",
         "UnityCatalogVolumes",
         ""
        ],
        [
         "/mnt/formula1dlvb/presentation",
         "abfss://presentation@formula1dlvb.dfs.core.windows.net/",
         ""
        ],
        [
         "/databricks/mlflow-tracking",
         "databricks/mlflow-tracking",
         ""
        ],
        [
         "/mnt/formula1dl/demo",
         "abfss://demo@formula1dlvb.dfs.core.windows.net/",
         ""
        ],
        [
         "/databricks-results",
         "databricks-results",
         ""
        ],
        [
         "/databricks/mlflow-registry",
         "databricks/mlflow-registry",
         ""
        ],
        [
         "/mnt/formula1dlvb/raw",
         "abfss://raw@formula1dlvb.dfs.core.windows.net/",
         ""
        ],
        [
         "/mnt/formula1dlvb/processed",
         "abfss://processed@formula1dlvb.dfs.core.windows.net/",
         ""
        ],
        [
         "/Volume",
         "DbfsReserved",
         ""
        ],
        [
         "/volumes",
         "DbfsReserved",
         ""
        ],
        [
         "/",
         "DatabricksRoot",
         ""
        ],
        [
         "/volume",
         "DbfsReserved",
         ""
        ]
       ],
       "datasetInfos": [],
       "dbfsResultPath": null,
       "isJsonSchema": true,
       "metadata": {},
       "overflow": false,
       "plotOptions": {
        "customPlotOptions": {},
        "displayType": "table",
        "pivotAggregation": null,
        "pivotColumns": null,
        "xColumns": null,
        "yColumns": null
       },
       "removedWidgets": [],
       "schema": [
        {
         "metadata": "{}",
         "name": "mountPoint",
         "type": "\"string\""
        },
        {
         "metadata": "{}",
         "name": "source",
         "type": "\"string\""
        },
        {
         "metadata": "{}",
         "name": "encryptionType",
         "type": "\"string\""
        }
       ],
       "type": "table"
      }
     },
     "output_type": "display_data"
    }
   ],
   "source": [
    "display(dbutils.fs.mounts())"
   ]
  },
  {
   "cell_type": "code",
   "execution_count": 0,
   "metadata": {
    "application/vnd.databricks.v1+cell": {
     "cellMetadata": {
      "byteLimit": 2048000,
      "rowLimit": 10000
     },
     "inputWidgets": {},
     "nuid": "edc63886-5042-4204-ae84-f816338db5c7",
     "showTitle": false,
     "title": ""
    }
   },
   "outputs": [
    {
     "output_type": "display_data",
     "data": {
      "text/html": [
       "<style scoped>\n",
       "  .table-result-container {\n",
       "    max-height: 300px;\n",
       "    overflow: auto;\n",
       "  }\n",
       "  table, th, td {\n",
       "    border: 1px solid black;\n",
       "    border-collapse: collapse;\n",
       "  }\n",
       "  th, td {\n",
       "    padding: 5px;\n",
       "  }\n",
       "  th {\n",
       "    text-align: left;\n",
       "  }\n",
       "</style><div class='table-result-container'><table class='table-result'><thead style='background-color: white'><tr><th>path</th><th>name</th><th>size</th><th>modificationTime</th></tr></thead><tbody><tr><td>dbfs:/mnt/formula1dlvb/raw/circuits.csv</td><td>circuits.csv</td><td>10044</td><td>1696942444000</td></tr><tr><td>dbfs:/mnt/formula1dlvb/raw/constructors.json</td><td>constructors.json</td><td>30415</td><td>1696942444000</td></tr><tr><td>dbfs:/mnt/formula1dlvb/raw/drivers.json</td><td>drivers.json</td><td>180812</td><td>1696942444000</td></tr><tr><td>dbfs:/mnt/formula1dlvb/raw/lap_times/</td><td>lap_times/</td><td>0</td><td>1696942528000</td></tr><tr><td>dbfs:/mnt/formula1dlvb/raw/pit_stops.json</td><td>pit_stops.json</td><td>1369387</td><td>1696942444000</td></tr><tr><td>dbfs:/mnt/formula1dlvb/raw/qualifying/</td><td>qualifying/</td><td>0</td><td>1696942529000</td></tr><tr><td>dbfs:/mnt/formula1dlvb/raw/races.csv</td><td>races.csv</td><td>116847</td><td>1696942444000</td></tr><tr><td>dbfs:/mnt/formula1dlvb/raw/results.json</td><td>results.json</td><td>7165641</td><td>1696942445000</td></tr></tbody></table></div>"
      ]
     },
     "metadata": {
      "application/vnd.databricks.v1+output": {
       "addedWidgets": {},
       "aggData": [],
       "aggError": "",
       "aggOverflow": false,
       "aggSchema": [],
       "aggSeriesLimitReached": false,
       "aggType": "",
       "arguments": {},
       "columnCustomDisplayInfos": {},
       "data": [
        [
         "dbfs:/mnt/formula1dlvb/raw/circuits.csv",
         "circuits.csv",
         10044,
         1696942444000
        ],
        [
         "dbfs:/mnt/formula1dlvb/raw/constructors.json",
         "constructors.json",
         30415,
         1696942444000
        ],
        [
         "dbfs:/mnt/formula1dlvb/raw/drivers.json",
         "drivers.json",
         180812,
         1696942444000
        ],
        [
         "dbfs:/mnt/formula1dlvb/raw/lap_times/",
         "lap_times/",
         0,
         1696942528000
        ],
        [
         "dbfs:/mnt/formula1dlvb/raw/pit_stops.json",
         "pit_stops.json",
         1369387,
         1696942444000
        ],
        [
         "dbfs:/mnt/formula1dlvb/raw/qualifying/",
         "qualifying/",
         0,
         1696942529000
        ],
        [
         "dbfs:/mnt/formula1dlvb/raw/races.csv",
         "races.csv",
         116847,
         1696942444000
        ],
        [
         "dbfs:/mnt/formula1dlvb/raw/results.json",
         "results.json",
         7165641,
         1696942445000
        ]
       ],
       "datasetInfos": [],
       "dbfsResultPath": null,
       "isJsonSchema": true,
       "metadata": {
        "isDbfsCommandResult": false
       },
       "overflow": false,
       "plotOptions": {
        "customPlotOptions": {},
        "displayType": "table",
        "pivotAggregation": null,
        "pivotColumns": null,
        "xColumns": null,
        "yColumns": null
       },
       "removedWidgets": [],
       "schema": [
        {
         "metadata": "{}",
         "name": "path",
         "type": "\"string\""
        },
        {
         "metadata": "{}",
         "name": "name",
         "type": "\"string\""
        },
        {
         "metadata": "{}",
         "name": "size",
         "type": "\"long\""
        },
        {
         "metadata": "{}",
         "name": "modificationTime",
         "type": "\"long\""
        }
       ],
       "type": "table"
      }
     },
     "output_type": "display_data"
    }
   ],
   "source": [
    "%fs\n",
    "ls /mnt/formula1dlvb/raw"
   ]
  },
  {
   "cell_type": "code",
   "execution_count": 0,
   "metadata": {
    "application/vnd.databricks.v1+cell": {
     "cellMetadata": {
      "byteLimit": 2048000,
      "rowLimit": 10000
     },
     "inputWidgets": {},
     "nuid": "8b346783-b530-4720-91d6-a4cf74f2f291",
     "showTitle": false,
     "title": ""
    }
   },
   "outputs": [],
   "source": [
    "circuits_df = spark.read.option(\"header\",True).option(\"inferSchema\",True).csv(f\"dbfs:{raw_folder_path}/circuits.csv\")\n",
    "\n",
    "# inferSchema goes through the data, identify what the schema is and apply it to the data.The complete data is read and this is not suitable in production environment and it can slow down reads."
   ]
  },
  {
   "cell_type": "code",
   "execution_count": 0,
   "metadata": {
    "application/vnd.databricks.v1+cell": {
     "cellMetadata": {
      "byteLimit": 2048000,
      "rowLimit": 10000
     },
     "inputWidgets": {},
     "nuid": "20dd2600-47e9-4d09-b9e1-b9b125a6b4eb",
     "showTitle": false,
     "title": ""
    }
   },
   "outputs": [
    {
     "output_type": "execute_result",
     "data": {
      "text/plain": [
       "pyspark.sql.dataframe.DataFrame"
      ]
     },
     "execution_count": 8,
     "metadata": {},
     "output_type": "execute_result"
    }
   ],
   "source": [
    "type(circuits_df)"
   ]
  },
  {
   "cell_type": "code",
   "execution_count": 0,
   "metadata": {
    "application/vnd.databricks.v1+cell": {
     "cellMetadata": {
      "byteLimit": 2048000,
      "rowLimit": 10000
     },
     "inputWidgets": {},
     "nuid": "42fc8d58-d1e6-4a97-88cc-c6676084ddaf",
     "showTitle": false,
     "title": ""
    }
   },
   "outputs": [
    {
     "output_type": "display_data",
     "data": {
      "text/html": [
       "<style scoped>\n",
       "  .table-result-container {\n",
       "    max-height: 300px;\n",
       "    overflow: auto;\n",
       "  }\n",
       "  table, th, td {\n",
       "    border: 1px solid black;\n",
       "    border-collapse: collapse;\n",
       "  }\n",
       "  th, td {\n",
       "    padding: 5px;\n",
       "  }\n",
       "  th {\n",
       "    text-align: left;\n",
       "  }\n",
       "</style><div class='table-result-container'><table class='table-result'><thead style='background-color: white'><tr><th>circuitId</th><th>circuitRef</th><th>name</th><th>location</th><th>country</th><th>lat</th><th>lng</th><th>alt</th><th>url</th></tr></thead><tbody><tr><td>1</td><td>albert_park</td><td>Albert Park Grand Prix Circuit</td><td>Melbourne</td><td>Australia</td><td>-37.8497</td><td>144.968</td><td>10</td><td>http://en.wikipedia.org/wiki/Melbourne_Grand_Prix_Circuit</td></tr><tr><td>2</td><td>sepang</td><td>Sepang International Circuit</td><td>Kuala Lumpur</td><td>Malaysia</td><td>2.76083</td><td>101.738</td><td>18</td><td>http://en.wikipedia.org/wiki/Sepang_International_Circuit</td></tr><tr><td>3</td><td>bahrain</td><td>Bahrain International Circuit</td><td>Sakhir</td><td>Bahrain</td><td>26.0325</td><td>50.5106</td><td>7</td><td>http://en.wikipedia.org/wiki/Bahrain_International_Circuit</td></tr><tr><td>4</td><td>catalunya</td><td>Circuit de Barcelona-Catalunya</td><td>Montmeló</td><td>Spain</td><td>41.57</td><td>2.26111</td><td>109</td><td>http://en.wikipedia.org/wiki/Circuit_de_Barcelona-Catalunya</td></tr><tr><td>5</td><td>istanbul</td><td>Istanbul Park</td><td>Istanbul</td><td>Turkey</td><td>40.9517</td><td>29.405</td><td>130</td><td>http://en.wikipedia.org/wiki/Istanbul_Park</td></tr><tr><td>6</td><td>monaco</td><td>Circuit de Monaco</td><td>Monte-Carlo</td><td>Monaco</td><td>43.7347</td><td>7.42056</td><td>7</td><td>http://en.wikipedia.org/wiki/Circuit_de_Monaco</td></tr><tr><td>7</td><td>villeneuve</td><td>Circuit Gilles Villeneuve</td><td>Montreal</td><td>Canada</td><td>45.5</td><td>-73.5228</td><td>13</td><td>http://en.wikipedia.org/wiki/Circuit_Gilles_Villeneuve</td></tr><tr><td>8</td><td>magny_cours</td><td>Circuit de Nevers Magny-Cours</td><td>Magny Cours</td><td>France</td><td>46.8642</td><td>3.16361</td><td>228</td><td>http://en.wikipedia.org/wiki/Circuit_de_Nevers_Magny-Cours</td></tr><tr><td>9</td><td>silverstone</td><td>Silverstone Circuit</td><td>Silverstone</td><td>UK</td><td>52.0786</td><td>-1.01694</td><td>153</td><td>http://en.wikipedia.org/wiki/Silverstone_Circuit</td></tr><tr><td>10</td><td>hockenheimring</td><td>Hockenheimring</td><td>Hockenheim</td><td>Germany</td><td>49.3278</td><td>8.56583</td><td>103</td><td>http://en.wikipedia.org/wiki/Hockenheimring</td></tr><tr><td>11</td><td>hungaroring</td><td>Hungaroring</td><td>Budapest</td><td>Hungary</td><td>47.5789</td><td>19.2486</td><td>264</td><td>http://en.wikipedia.org/wiki/Hungaroring</td></tr><tr><td>12</td><td>valencia</td><td>Valencia Street Circuit</td><td>Valencia</td><td>Spain</td><td>39.4589</td><td>-0.331667</td><td>4</td><td>http://en.wikipedia.org/wiki/Valencia_Street_Circuit</td></tr><tr><td>13</td><td>spa</td><td>Circuit de Spa-Francorchamps</td><td>Spa</td><td>Belgium</td><td>50.4372</td><td>5.97139</td><td>401</td><td>http://en.wikipedia.org/wiki/Circuit_de_Spa-Francorchamps</td></tr><tr><td>14</td><td>monza</td><td>Autodromo Nazionale di Monza</td><td>Monza</td><td>Italy</td><td>45.6156</td><td>9.28111</td><td>162</td><td>http://en.wikipedia.org/wiki/Autodromo_Nazionale_Monza</td></tr><tr><td>15</td><td>marina_bay</td><td>Marina Bay Street Circuit</td><td>Marina Bay</td><td>Singapore</td><td>1.2914</td><td>103.864</td><td>18</td><td>http://en.wikipedia.org/wiki/Marina_Bay_Street_Circuit</td></tr><tr><td>16</td><td>fuji</td><td>Fuji Speedway</td><td>Oyama</td><td>Japan</td><td>35.3717</td><td>138.927</td><td>583</td><td>http://en.wikipedia.org/wiki/Fuji_Speedway</td></tr><tr><td>17</td><td>shanghai</td><td>Shanghai International Circuit</td><td>Shanghai</td><td>China</td><td>31.3389</td><td>121.22</td><td>5</td><td>http://en.wikipedia.org/wiki/Shanghai_International_Circuit</td></tr><tr><td>18</td><td>interlagos</td><td>Autódromo José Carlos Pace</td><td>São Paulo</td><td>Brazil</td><td>-23.7036</td><td>-46.6997</td><td>785</td><td>http://en.wikipedia.org/wiki/Aut%C3%B3dromo_Jos%C3%A9_Carlos_Pace</td></tr><tr><td>19</td><td>indianapolis</td><td>Indianapolis Motor Speedway</td><td>Indianapolis</td><td>USA</td><td>39.795</td><td>-86.2347</td><td>223</td><td>http://en.wikipedia.org/wiki/Indianapolis_Motor_Speedway</td></tr><tr><td>20</td><td>nurburgring</td><td>Nürburgring</td><td>Nürburg</td><td>Germany</td><td>50.3356</td><td>6.9475</td><td>578</td><td>http://en.wikipedia.org/wiki/N%C3%BCrburgring</td></tr><tr><td>21</td><td>imola</td><td>Autodromo Enzo e Dino Ferrari</td><td>Imola</td><td>Italy</td><td>44.3439</td><td>11.7167</td><td>37</td><td>http://en.wikipedia.org/wiki/Autodromo_Enzo_e_Dino_Ferrari</td></tr><tr><td>22</td><td>suzuka</td><td>Suzuka Circuit</td><td>Suzuka</td><td>Japan</td><td>34.8431</td><td>136.541</td><td>45</td><td>http://en.wikipedia.org/wiki/Suzuka_Circuit</td></tr><tr><td>23</td><td>osterreichring</td><td>A1-Ring</td><td>Spielburg</td><td>Austria</td><td>47.2197</td><td>14.7647</td><td>678</td><td>http://en.wikipedia.org/wiki/A1-Ring</td></tr><tr><td>24</td><td>yas_marina</td><td>Yas Marina Circuit</td><td>Abu Dhabi</td><td>UAE</td><td>24.4672</td><td>54.6031</td><td>3</td><td>http://en.wikipedia.org/wiki/Yas_Marina_Circuit</td></tr><tr><td>25</td><td>galvez</td><td>Autódromo Juan y Oscar Gálvez</td><td>Buenos Aires</td><td>Argentina</td><td>-34.6943</td><td>-58.4593</td><td>8</td><td>http://en.wikipedia.org/wiki/Aut%C3%B3dromo_Oscar_Alfredo_G%C3%A1lvez</td></tr><tr><td>26</td><td>jerez</td><td>Circuito de Jerez</td><td>Jerez de la Frontera</td><td>Spain</td><td>36.7083</td><td>-6.03417</td><td>37</td><td>http://en.wikipedia.org/wiki/Circuito_Permanente_de_Jerez</td></tr><tr><td>27</td><td>estoril</td><td>Autódromo do Estoril</td><td>Estoril</td><td>Portugal</td><td>38.7506</td><td>-9.39417</td><td>130</td><td>http://en.wikipedia.org/wiki/Aut%C3%B3dromo_do_Estoril</td></tr><tr><td>28</td><td>okayama</td><td>Okayama International Circuit</td><td>Okayama</td><td>Japan</td><td>34.915</td><td>134.221</td><td>266</td><td>http://en.wikipedia.org/wiki/TI_Circuit</td></tr><tr><td>29</td><td>adelaide</td><td>Adelaide Street Circuit</td><td>Adelaide</td><td>Australia</td><td>-34.9272</td><td>138.617</td><td>58</td><td>http://en.wikipedia.org/wiki/Adelaide_Street_Circuit</td></tr><tr><td>30</td><td>kyalami</td><td>Kyalami</td><td>Midrand</td><td>South Africa</td><td>-25.9894</td><td>28.0767</td><td>1460</td><td>http://en.wikipedia.org/wiki/Kyalami</td></tr><tr><td>31</td><td>donington</td><td>Donington Park</td><td>Castle Donington</td><td>UK</td><td>52.8306</td><td>-1.37528</td><td>88</td><td>http://en.wikipedia.org/wiki/Donington_Park</td></tr><tr><td>32</td><td>rodriguez</td><td>Autódromo Hermanos Rodríguez</td><td>Mexico City</td><td>Mexico</td><td>19.4042</td><td>-99.0907</td><td>2227</td><td>http://en.wikipedia.org/wiki/Aut%C3%B3dromo_Hermanos_Rodr%C3%ADguez</td></tr><tr><td>33</td><td>phoenix</td><td>Phoenix street circuit</td><td>Phoenix</td><td>USA</td><td>33.4479</td><td>-112.075</td><td>345</td><td>http://en.wikipedia.org/wiki/Phoenix_street_circuit</td></tr><tr><td>34</td><td>ricard</td><td>Circuit Paul Ricard</td><td>Le Castellet</td><td>France</td><td>43.2506</td><td>5.79167</td><td>432</td><td>http://en.wikipedia.org/wiki/Paul_Ricard_Circuit</td></tr><tr><td>35</td><td>yeongam</td><td>Korean International Circuit</td><td>Yeongam County</td><td>Korea</td><td>34.7333</td><td>126.417</td><td>0</td><td>http://en.wikipedia.org/wiki/Korean_International_Circuit</td></tr><tr><td>36</td><td>jacarepagua</td><td>Autódromo Internacional Nelson Piquet</td><td>Rio de Janeiro</td><td>Brazil</td><td>-22.9756</td><td>-43.395</td><td>1126</td><td>http://en.wikipedia.org/wiki/Aut%C3%B3dromo_Internacional_Nelson_Piquet</td></tr><tr><td>37</td><td>detroit</td><td>Detroit Street Circuit</td><td>Detroit</td><td>USA</td><td>42.3298</td><td>-83.0401</td><td>177</td><td>http://en.wikipedia.org/wiki/Detroit_street_circuit</td></tr><tr><td>38</td><td>brands_hatch</td><td>Brands Hatch</td><td>Kent</td><td>UK</td><td>51.3569</td><td>0.263056</td><td>145</td><td>http://en.wikipedia.org/wiki/Brands_Hatch</td></tr><tr><td>39</td><td>zandvoort</td><td>Circuit Park Zandvoort</td><td>Zandvoort</td><td>Netherlands</td><td>52.3888</td><td>4.54092</td><td>6</td><td>http://en.wikipedia.org/wiki/Circuit_Zandvoort</td></tr><tr><td>40</td><td>zolder</td><td>Zolder</td><td>Heusden-Zolder</td><td>Belgium</td><td>50.9894</td><td>5.25694</td><td>36</td><td>http://en.wikipedia.org/wiki/Zolder</td></tr><tr><td>41</td><td>dijon</td><td>Dijon-Prenois</td><td>Dijon</td><td>France</td><td>47.3625</td><td>4.89913</td><td>484</td><td>http://en.wikipedia.org/wiki/Dijon-Prenois</td></tr><tr><td>42</td><td>dallas</td><td>Fair Park</td><td>Dallas</td><td>USA</td><td>32.7774</td><td>-96.7587</td><td>139</td><td>http://en.wikipedia.org/wiki/Fair_Park</td></tr><tr><td>43</td><td>long_beach</td><td>Long Beach</td><td>California</td><td>USA</td><td>33.7651</td><td>-118.189</td><td>12</td><td>http://en.wikipedia.org/wiki/Long_Beach,_California</td></tr><tr><td>44</td><td>las_vegas</td><td>Las Vegas Street Circuit</td><td>Nevada</td><td>USA</td><td>36.1162</td><td>-115.174</td><td>639</td><td>http://en.wikipedia.org/wiki/Las_Vegas,_Nevada</td></tr><tr><td>45</td><td>jarama</td><td>Jarama</td><td>Madrid</td><td>Spain</td><td>40.6171</td><td>-3.58558</td><td>609</td><td>http://en.wikipedia.org/wiki/Circuito_Permanente_Del_Jarama</td></tr><tr><td>46</td><td>watkins_glen</td><td>Watkins Glen</td><td>New York State</td><td>USA</td><td>42.3369</td><td>-76.9272</td><td>485</td><td>http://en.wikipedia.org/wiki/Watkins_Glen_International</td></tr><tr><td>47</td><td>anderstorp</td><td>Scandinavian Raceway</td><td>Anderstorp</td><td>Sweden</td><td>57.2653</td><td>13.6042</td><td>153</td><td>http://en.wikipedia.org/wiki/Scandinavian_Raceway</td></tr><tr><td>48</td><td>mosport</td><td>Mosport International Raceway</td><td>Ontario</td><td>Canada</td><td>44.0481</td><td>-78.6756</td><td>332</td><td>http://en.wikipedia.org/wiki/Mosport</td></tr><tr><td>49</td><td>montjuic</td><td>Montjuïc</td><td>Barcelona</td><td>Spain</td><td>41.3664</td><td>2.15167</td><td>79</td><td>http://en.wikipedia.org/wiki/Montju%C3%AFc_circuit</td></tr><tr><td>50</td><td>nivelles</td><td>Nivelles-Baulers</td><td>Brussels</td><td>Belgium</td><td>50.6211</td><td>4.32694</td><td>139</td><td>http://en.wikipedia.org/wiki/Nivelles-Baulers</td></tr><tr><td>51</td><td>charade</td><td>Charade Circuit</td><td>Clermont-Ferrand</td><td>France</td><td>45.7472</td><td>3.03889</td><td>790</td><td>http://en.wikipedia.org/wiki/Charade_Circuit</td></tr><tr><td>52</td><td>tremblant</td><td>Circuit Mont-Tremblant</td><td>Quebec</td><td>Canada</td><td>46.1877</td><td>-74.6099</td><td>214</td><td>http://en.wikipedia.org/wiki/Circuit_Mont-Tremblant</td></tr><tr><td>53</td><td>essarts</td><td>Rouen-Les-Essarts</td><td>Rouen</td><td>France</td><td>49.3306</td><td>1.00458</td><td>81</td><td>http://en.wikipedia.org/wiki/Rouen-Les-Essarts</td></tr><tr><td>54</td><td>lemans</td><td>Le Mans</td><td>Le Mans</td><td>France</td><td>47.95</td><td>0.224231</td><td>67</td><td>http://en.wikipedia.org/wiki/Circuit_de_la_Sarthe#Bugatti_Circuit</td></tr><tr><td>55</td><td>reims</td><td>Reims-Gueux</td><td>Reims</td><td>France</td><td>49.2542</td><td>3.93083</td><td>88</td><td>http://en.wikipedia.org/wiki/Reims-Gueux</td></tr><tr><td>56</td><td>george</td><td>Prince George Circuit</td><td>Eastern Cape Province</td><td>South Africa</td><td>-33.0486</td><td>27.8736</td><td>15</td><td>http://en.wikipedia.org/wiki/Prince_George_Circuit</td></tr><tr><td>57</td><td>zeltweg</td><td>Zeltweg</td><td>Styria</td><td>Austria</td><td>47.2039</td><td>14.7478</td><td>676</td><td>http://en.wikipedia.org/wiki/Zeltweg_Airfield</td></tr><tr><td>58</td><td>aintree</td><td>Aintree</td><td>Liverpool</td><td>UK</td><td>53.4769</td><td>-2.94056</td><td>20</td><td>http://en.wikipedia.org/wiki/Aintree_Motor_Racing_Circuit</td></tr><tr><td>59</td><td>boavista</td><td>Circuito da Boavista</td><td>Oporto</td><td>Portugal</td><td>41.1705</td><td>-8.67325</td><td>28</td><td>http://en.wikipedia.org/wiki/Circuito_da_Boavista</td></tr><tr><td>60</td><td>riverside</td><td>Riverside International Raceway</td><td>California</td><td>USA</td><td>33.937</td><td>-117.273</td><td>470</td><td>http://en.wikipedia.org/wiki/Riverside_International_Raceway</td></tr><tr><td>61</td><td>avus</td><td>AVUS</td><td>Berlin</td><td>Germany</td><td>52.4806</td><td>13.2514</td><td>53</td><td>http://en.wikipedia.org/wiki/AVUS</td></tr><tr><td>62</td><td>monsanto</td><td>Monsanto Park Circuit</td><td>Lisbon</td><td>Portugal</td><td>38.7197</td><td>-9.20306</td><td>158</td><td>http://en.wikipedia.org/wiki/Monsanto_Park_Circuit</td></tr><tr><td>63</td><td>sebring</td><td>Sebring International Raceway</td><td>Florida</td><td>USA</td><td>27.4547</td><td>-81.3483</td><td>18</td><td>http://en.wikipedia.org/wiki/Sebring_Raceway</td></tr><tr><td>64</td><td>ain-diab</td><td>Ain Diab</td><td>Casablanca</td><td>Morocco</td><td>33.5786</td><td>-7.6875</td><td>19</td><td>http://en.wikipedia.org/wiki/Ain-Diab_Circuit</td></tr><tr><td>65</td><td>pescara</td><td>Pescara Circuit</td><td>Pescara</td><td>Italy</td><td>42.475</td><td>14.1508</td><td>129</td><td>http://en.wikipedia.org/wiki/Pescara_Circuit</td></tr><tr><td>66</td><td>bremgarten</td><td>Circuit Bremgarten</td><td>Bern</td><td>Switzerland</td><td>46.9589</td><td>7.40194</td><td>551</td><td>http://en.wikipedia.org/wiki/Circuit_Bremgarten</td></tr><tr><td>67</td><td>pedralbes</td><td>Circuit de Pedralbes</td><td>Barcelona</td><td>Spain</td><td>41.3903</td><td>2.11667</td><td>85</td><td>http://en.wikipedia.org/wiki/Pedralbes_Circuit</td></tr><tr><td>68</td><td>buddh</td><td>Buddh International Circuit</td><td>Uttar Pradesh</td><td>India</td><td>28.3487</td><td>77.5331</td><td>194</td><td>http://en.wikipedia.org/wiki/Buddh_International_Circuit</td></tr><tr><td>69</td><td>americas</td><td>Circuit of the Americas</td><td>Austin</td><td>USA</td><td>30.1328</td><td>-97.6411</td><td>161</td><td>http://en.wikipedia.org/wiki/Circuit_of_the_Americas</td></tr><tr><td>70</td><td>red_bull_ring</td><td>Red Bull Ring</td><td>Spielburg</td><td>Austria</td><td>47.2197</td><td>14.7647</td><td>678</td><td>http://en.wikipedia.org/wiki/Red_Bull_Ring</td></tr><tr><td>71</td><td>sochi</td><td>Sochi Autodrom</td><td>Sochi</td><td>Russia</td><td>43.4057</td><td>39.9578</td><td>2</td><td>http://en.wikipedia.org/wiki/Sochi_Autodrom</td></tr><tr><td>72</td><td>port_imperial</td><td>Port Imperial Street Circuit</td><td>New Jersey</td><td>USA</td><td>40.7769</td><td>-74.0111</td><td>4</td><td>http://en.wikipedia.org/wiki/Port_Imperial_Street_Circuit</td></tr><tr><td>73</td><td>BAK</td><td>Baku City Circuit</td><td>Baku</td><td>Azerbaijan</td><td>40.3725</td><td>49.8533</td><td>-7</td><td>http://en.wikipedia.org/wiki/Baku_City_Circuit</td></tr><tr><td>74</td><td>hanoi</td><td>Hanoi Street Circuit</td><td>Hanoi</td><td>Vietnam</td><td>21.0166</td><td>105.766</td><td>9</td><td>http://en.wikipedia.org/wiki/Hanoi_Street_Circuit</td></tr><tr><td>75</td><td>portimao</td><td>Autódromo Internacional do Algarve</td><td>Portimão</td><td>Portugal</td><td>37.227</td><td>-8.6267</td><td>108</td><td>http://en.wikipedia.org/wiki/Algarve_International_Circuit</td></tr><tr><td>76</td><td>mugello</td><td>Autodromo Internazionale del Mugello</td><td>Mugello</td><td>Italy</td><td>43.9975</td><td>11.3719</td><td>255</td><td>http://en.wikipedia.org/wiki/Mugello_Circuit</td></tr><tr><td>77</td><td>jeddah</td><td>Jeddah Street Circuit</td><td>Jeddah</td><td>Saudi Arabia</td><td>21.5433</td><td>39.1728</td><td>15</td><td>http://en.wikipedia.org/wiki/Jeddah_Street_Circuit</td></tr></tbody></table></div>"
      ]
     },
     "metadata": {
      "application/vnd.databricks.v1+output": {
       "addedWidgets": {},
       "aggData": [],
       "aggError": "",
       "aggOverflow": false,
       "aggSchema": [],
       "aggSeriesLimitReached": false,
       "aggType": "",
       "arguments": {},
       "columnCustomDisplayInfos": {},
       "data": [
        [
         1,
         "albert_park",
         "Albert Park Grand Prix Circuit",
         "Melbourne",
         "Australia",
         -37.8497,
         144.968,
         10,
         "http://en.wikipedia.org/wiki/Melbourne_Grand_Prix_Circuit"
        ],
        [
         2,
         "sepang",
         "Sepang International Circuit",
         "Kuala Lumpur",
         "Malaysia",
         2.76083,
         101.738,
         18,
         "http://en.wikipedia.org/wiki/Sepang_International_Circuit"
        ],
        [
         3,
         "bahrain",
         "Bahrain International Circuit",
         "Sakhir",
         "Bahrain",
         26.0325,
         50.5106,
         7,
         "http://en.wikipedia.org/wiki/Bahrain_International_Circuit"
        ],
        [
         4,
         "catalunya",
         "Circuit de Barcelona-Catalunya",
         "Montmeló",
         "Spain",
         41.57,
         2.26111,
         109,
         "http://en.wikipedia.org/wiki/Circuit_de_Barcelona-Catalunya"
        ],
        [
         5,
         "istanbul",
         "Istanbul Park",
         "Istanbul",
         "Turkey",
         40.9517,
         29.405,
         130,
         "http://en.wikipedia.org/wiki/Istanbul_Park"
        ],
        [
         6,
         "monaco",
         "Circuit de Monaco",
         "Monte-Carlo",
         "Monaco",
         43.7347,
         7.42056,
         7,
         "http://en.wikipedia.org/wiki/Circuit_de_Monaco"
        ],
        [
         7,
         "villeneuve",
         "Circuit Gilles Villeneuve",
         "Montreal",
         "Canada",
         45.5,
         -73.5228,
         13,
         "http://en.wikipedia.org/wiki/Circuit_Gilles_Villeneuve"
        ],
        [
         8,
         "magny_cours",
         "Circuit de Nevers Magny-Cours",
         "Magny Cours",
         "France",
         46.8642,
         3.16361,
         228,
         "http://en.wikipedia.org/wiki/Circuit_de_Nevers_Magny-Cours"
        ],
        [
         9,
         "silverstone",
         "Silverstone Circuit",
         "Silverstone",
         "UK",
         52.0786,
         -1.01694,
         153,
         "http://en.wikipedia.org/wiki/Silverstone_Circuit"
        ],
        [
         10,
         "hockenheimring",
         "Hockenheimring",
         "Hockenheim",
         "Germany",
         49.3278,
         8.56583,
         103,
         "http://en.wikipedia.org/wiki/Hockenheimring"
        ],
        [
         11,
         "hungaroring",
         "Hungaroring",
         "Budapest",
         "Hungary",
         47.5789,
         19.2486,
         264,
         "http://en.wikipedia.org/wiki/Hungaroring"
        ],
        [
         12,
         "valencia",
         "Valencia Street Circuit",
         "Valencia",
         "Spain",
         39.4589,
         -0.331667,
         4,
         "http://en.wikipedia.org/wiki/Valencia_Street_Circuit"
        ],
        [
         13,
         "spa",
         "Circuit de Spa-Francorchamps",
         "Spa",
         "Belgium",
         50.4372,
         5.97139,
         401,
         "http://en.wikipedia.org/wiki/Circuit_de_Spa-Francorchamps"
        ],
        [
         14,
         "monza",
         "Autodromo Nazionale di Monza",
         "Monza",
         "Italy",
         45.6156,
         9.28111,
         162,
         "http://en.wikipedia.org/wiki/Autodromo_Nazionale_Monza"
        ],
        [
         15,
         "marina_bay",
         "Marina Bay Street Circuit",
         "Marina Bay",
         "Singapore",
         1.2914,
         103.864,
         18,
         "http://en.wikipedia.org/wiki/Marina_Bay_Street_Circuit"
        ],
        [
         16,
         "fuji",
         "Fuji Speedway",
         "Oyama",
         "Japan",
         35.3717,
         138.927,
         583,
         "http://en.wikipedia.org/wiki/Fuji_Speedway"
        ],
        [
         17,
         "shanghai",
         "Shanghai International Circuit",
         "Shanghai",
         "China",
         31.3389,
         121.22,
         5,
         "http://en.wikipedia.org/wiki/Shanghai_International_Circuit"
        ],
        [
         18,
         "interlagos",
         "Autódromo José Carlos Pace",
         "São Paulo",
         "Brazil",
         -23.7036,
         -46.6997,
         785,
         "http://en.wikipedia.org/wiki/Aut%C3%B3dromo_Jos%C3%A9_Carlos_Pace"
        ],
        [
         19,
         "indianapolis",
         "Indianapolis Motor Speedway",
         "Indianapolis",
         "USA",
         39.795,
         -86.2347,
         223,
         "http://en.wikipedia.org/wiki/Indianapolis_Motor_Speedway"
        ],
        [
         20,
         "nurburgring",
         "Nürburgring",
         "Nürburg",
         "Germany",
         50.3356,
         6.9475,
         578,
         "http://en.wikipedia.org/wiki/N%C3%BCrburgring"
        ],
        [
         21,
         "imola",
         "Autodromo Enzo e Dino Ferrari",
         "Imola",
         "Italy",
         44.3439,
         11.7167,
         37,
         "http://en.wikipedia.org/wiki/Autodromo_Enzo_e_Dino_Ferrari"
        ],
        [
         22,
         "suzuka",
         "Suzuka Circuit",
         "Suzuka",
         "Japan",
         34.8431,
         136.541,
         45,
         "http://en.wikipedia.org/wiki/Suzuka_Circuit"
        ],
        [
         23,
         "osterreichring",
         "A1-Ring",
         "Spielburg",
         "Austria",
         47.2197,
         14.7647,
         678,
         "http://en.wikipedia.org/wiki/A1-Ring"
        ],
        [
         24,
         "yas_marina",
         "Yas Marina Circuit",
         "Abu Dhabi",
         "UAE",
         24.4672,
         54.6031,
         3,
         "http://en.wikipedia.org/wiki/Yas_Marina_Circuit"
        ],
        [
         25,
         "galvez",
         "Autódromo Juan y Oscar Gálvez",
         "Buenos Aires",
         "Argentina",
         -34.6943,
         -58.4593,
         8,
         "http://en.wikipedia.org/wiki/Aut%C3%B3dromo_Oscar_Alfredo_G%C3%A1lvez"
        ],
        [
         26,
         "jerez",
         "Circuito de Jerez",
         "Jerez de la Frontera",
         "Spain",
         36.7083,
         -6.03417,
         37,
         "http://en.wikipedia.org/wiki/Circuito_Permanente_de_Jerez"
        ],
        [
         27,
         "estoril",
         "Autódromo do Estoril",
         "Estoril",
         "Portugal",
         38.7506,
         -9.39417,
         130,
         "http://en.wikipedia.org/wiki/Aut%C3%B3dromo_do_Estoril"
        ],
        [
         28,
         "okayama",
         "Okayama International Circuit",
         "Okayama",
         "Japan",
         34.915,
         134.221,
         266,
         "http://en.wikipedia.org/wiki/TI_Circuit"
        ],
        [
         29,
         "adelaide",
         "Adelaide Street Circuit",
         "Adelaide",
         "Australia",
         -34.9272,
         138.617,
         58,
         "http://en.wikipedia.org/wiki/Adelaide_Street_Circuit"
        ],
        [
         30,
         "kyalami",
         "Kyalami",
         "Midrand",
         "South Africa",
         -25.9894,
         28.0767,
         1460,
         "http://en.wikipedia.org/wiki/Kyalami"
        ],
        [
         31,
         "donington",
         "Donington Park",
         "Castle Donington",
         "UK",
         52.8306,
         -1.37528,
         88,
         "http://en.wikipedia.org/wiki/Donington_Park"
        ],
        [
         32,
         "rodriguez",
         "Autódromo Hermanos Rodríguez",
         "Mexico City",
         "Mexico",
         19.4042,
         -99.0907,
         2227,
         "http://en.wikipedia.org/wiki/Aut%C3%B3dromo_Hermanos_Rodr%C3%ADguez"
        ],
        [
         33,
         "phoenix",
         "Phoenix street circuit",
         "Phoenix",
         "USA",
         33.4479,
         -112.075,
         345,
         "http://en.wikipedia.org/wiki/Phoenix_street_circuit"
        ],
        [
         34,
         "ricard",
         "Circuit Paul Ricard",
         "Le Castellet",
         "France",
         43.2506,
         5.79167,
         432,
         "http://en.wikipedia.org/wiki/Paul_Ricard_Circuit"
        ],
        [
         35,
         "yeongam",
         "Korean International Circuit",
         "Yeongam County",
         "Korea",
         34.7333,
         126.417,
         0,
         "http://en.wikipedia.org/wiki/Korean_International_Circuit"
        ],
        [
         36,
         "jacarepagua",
         "Autódromo Internacional Nelson Piquet",
         "Rio de Janeiro",
         "Brazil",
         -22.9756,
         -43.395,
         1126,
         "http://en.wikipedia.org/wiki/Aut%C3%B3dromo_Internacional_Nelson_Piquet"
        ],
        [
         37,
         "detroit",
         "Detroit Street Circuit",
         "Detroit",
         "USA",
         42.3298,
         -83.0401,
         177,
         "http://en.wikipedia.org/wiki/Detroit_street_circuit"
        ],
        [
         38,
         "brands_hatch",
         "Brands Hatch",
         "Kent",
         "UK",
         51.3569,
         0.263056,
         145,
         "http://en.wikipedia.org/wiki/Brands_Hatch"
        ],
        [
         39,
         "zandvoort",
         "Circuit Park Zandvoort",
         "Zandvoort",
         "Netherlands",
         52.3888,
         4.54092,
         6,
         "http://en.wikipedia.org/wiki/Circuit_Zandvoort"
        ],
        [
         40,
         "zolder",
         "Zolder",
         "Heusden-Zolder",
         "Belgium",
         50.9894,
         5.25694,
         36,
         "http://en.wikipedia.org/wiki/Zolder"
        ],
        [
         41,
         "dijon",
         "Dijon-Prenois",
         "Dijon",
         "France",
         47.3625,
         4.89913,
         484,
         "http://en.wikipedia.org/wiki/Dijon-Prenois"
        ],
        [
         42,
         "dallas",
         "Fair Park",
         "Dallas",
         "USA",
         32.7774,
         -96.7587,
         139,
         "http://en.wikipedia.org/wiki/Fair_Park"
        ],
        [
         43,
         "long_beach",
         "Long Beach",
         "California",
         "USA",
         33.7651,
         -118.189,
         12,
         "http://en.wikipedia.org/wiki/Long_Beach,_California"
        ],
        [
         44,
         "las_vegas",
         "Las Vegas Street Circuit",
         "Nevada",
         "USA",
         36.1162,
         -115.174,
         639,
         "http://en.wikipedia.org/wiki/Las_Vegas,_Nevada"
        ],
        [
         45,
         "jarama",
         "Jarama",
         "Madrid",
         "Spain",
         40.6171,
         -3.58558,
         609,
         "http://en.wikipedia.org/wiki/Circuito_Permanente_Del_Jarama"
        ],
        [
         46,
         "watkins_glen",
         "Watkins Glen",
         "New York State",
         "USA",
         42.3369,
         -76.9272,
         485,
         "http://en.wikipedia.org/wiki/Watkins_Glen_International"
        ],
        [
         47,
         "anderstorp",
         "Scandinavian Raceway",
         "Anderstorp",
         "Sweden",
         57.2653,
         13.6042,
         153,
         "http://en.wikipedia.org/wiki/Scandinavian_Raceway"
        ],
        [
         48,
         "mosport",
         "Mosport International Raceway",
         "Ontario",
         "Canada",
         44.0481,
         -78.6756,
         332,
         "http://en.wikipedia.org/wiki/Mosport"
        ],
        [
         49,
         "montjuic",
         "Montjuïc",
         "Barcelona",
         "Spain",
         41.3664,
         2.15167,
         79,
         "http://en.wikipedia.org/wiki/Montju%C3%AFc_circuit"
        ],
        [
         50,
         "nivelles",
         "Nivelles-Baulers",
         "Brussels",
         "Belgium",
         50.6211,
         4.32694,
         139,
         "http://en.wikipedia.org/wiki/Nivelles-Baulers"
        ],
        [
         51,
         "charade",
         "Charade Circuit",
         "Clermont-Ferrand",
         "France",
         45.7472,
         3.03889,
         790,
         "http://en.wikipedia.org/wiki/Charade_Circuit"
        ],
        [
         52,
         "tremblant",
         "Circuit Mont-Tremblant",
         "Quebec",
         "Canada",
         46.1877,
         -74.6099,
         214,
         "http://en.wikipedia.org/wiki/Circuit_Mont-Tremblant"
        ],
        [
         53,
         "essarts",
         "Rouen-Les-Essarts",
         "Rouen",
         "France",
         49.3306,
         1.00458,
         81,
         "http://en.wikipedia.org/wiki/Rouen-Les-Essarts"
        ],
        [
         54,
         "lemans",
         "Le Mans",
         "Le Mans",
         "France",
         47.95,
         0.224231,
         67,
         "http://en.wikipedia.org/wiki/Circuit_de_la_Sarthe#Bugatti_Circuit"
        ],
        [
         55,
         "reims",
         "Reims-Gueux",
         "Reims",
         "France",
         49.2542,
         3.93083,
         88,
         "http://en.wikipedia.org/wiki/Reims-Gueux"
        ],
        [
         56,
         "george",
         "Prince George Circuit",
         "Eastern Cape Province",
         "South Africa",
         -33.0486,
         27.8736,
         15,
         "http://en.wikipedia.org/wiki/Prince_George_Circuit"
        ],
        [
         57,
         "zeltweg",
         "Zeltweg",
         "Styria",
         "Austria",
         47.2039,
         14.7478,
         676,
         "http://en.wikipedia.org/wiki/Zeltweg_Airfield"
        ],
        [
         58,
         "aintree",
         "Aintree",
         "Liverpool",
         "UK",
         53.4769,
         -2.94056,
         20,
         "http://en.wikipedia.org/wiki/Aintree_Motor_Racing_Circuit"
        ],
        [
         59,
         "boavista",
         "Circuito da Boavista",
         "Oporto",
         "Portugal",
         41.1705,
         -8.67325,
         28,
         "http://en.wikipedia.org/wiki/Circuito_da_Boavista"
        ],
        [
         60,
         "riverside",
         "Riverside International Raceway",
         "California",
         "USA",
         33.937,
         -117.273,
         470,
         "http://en.wikipedia.org/wiki/Riverside_International_Raceway"
        ],
        [
         61,
         "avus",
         "AVUS",
         "Berlin",
         "Germany",
         52.4806,
         13.2514,
         53,
         "http://en.wikipedia.org/wiki/AVUS"
        ],
        [
         62,
         "monsanto",
         "Monsanto Park Circuit",
         "Lisbon",
         "Portugal",
         38.7197,
         -9.20306,
         158,
         "http://en.wikipedia.org/wiki/Monsanto_Park_Circuit"
        ],
        [
         63,
         "sebring",
         "Sebring International Raceway",
         "Florida",
         "USA",
         27.4547,
         -81.3483,
         18,
         "http://en.wikipedia.org/wiki/Sebring_Raceway"
        ],
        [
         64,
         "ain-diab",
         "Ain Diab",
         "Casablanca",
         "Morocco",
         33.5786,
         -7.6875,
         19,
         "http://en.wikipedia.org/wiki/Ain-Diab_Circuit"
        ],
        [
         65,
         "pescara",
         "Pescara Circuit",
         "Pescara",
         "Italy",
         42.475,
         14.1508,
         129,
         "http://en.wikipedia.org/wiki/Pescara_Circuit"
        ],
        [
         66,
         "bremgarten",
         "Circuit Bremgarten",
         "Bern",
         "Switzerland",
         46.9589,
         7.40194,
         551,
         "http://en.wikipedia.org/wiki/Circuit_Bremgarten"
        ],
        [
         67,
         "pedralbes",
         "Circuit de Pedralbes",
         "Barcelona",
         "Spain",
         41.3903,
         2.11667,
         85,
         "http://en.wikipedia.org/wiki/Pedralbes_Circuit"
        ],
        [
         68,
         "buddh",
         "Buddh International Circuit",
         "Uttar Pradesh",
         "India",
         28.3487,
         77.5331,
         194,
         "http://en.wikipedia.org/wiki/Buddh_International_Circuit"
        ],
        [
         69,
         "americas",
         "Circuit of the Americas",
         "Austin",
         "USA",
         30.1328,
         -97.6411,
         161,
         "http://en.wikipedia.org/wiki/Circuit_of_the_Americas"
        ],
        [
         70,
         "red_bull_ring",
         "Red Bull Ring",
         "Spielburg",
         "Austria",
         47.2197,
         14.7647,
         678,
         "http://en.wikipedia.org/wiki/Red_Bull_Ring"
        ],
        [
         71,
         "sochi",
         "Sochi Autodrom",
         "Sochi",
         "Russia",
         43.4057,
         39.9578,
         2,
         "http://en.wikipedia.org/wiki/Sochi_Autodrom"
        ],
        [
         72,
         "port_imperial",
         "Port Imperial Street Circuit",
         "New Jersey",
         "USA",
         40.7769,
         -74.0111,
         4,
         "http://en.wikipedia.org/wiki/Port_Imperial_Street_Circuit"
        ],
        [
         73,
         "BAK",
         "Baku City Circuit",
         "Baku",
         "Azerbaijan",
         40.3725,
         49.8533,
         -7,
         "http://en.wikipedia.org/wiki/Baku_City_Circuit"
        ],
        [
         74,
         "hanoi",
         "Hanoi Street Circuit",
         "Hanoi",
         "Vietnam",
         21.0166,
         105.766,
         9,
         "http://en.wikipedia.org/wiki/Hanoi_Street_Circuit"
        ],
        [
         75,
         "portimao",
         "Autódromo Internacional do Algarve",
         "Portimão",
         "Portugal",
         37.227,
         -8.6267,
         108,
         "http://en.wikipedia.org/wiki/Algarve_International_Circuit"
        ],
        [
         76,
         "mugello",
         "Autodromo Internazionale del Mugello",
         "Mugello",
         "Italy",
         43.9975,
         11.3719,
         255,
         "http://en.wikipedia.org/wiki/Mugello_Circuit"
        ],
        [
         77,
         "jeddah",
         "Jeddah Street Circuit",
         "Jeddah",
         "Saudi Arabia",
         21.5433,
         39.1728,
         15,
         "http://en.wikipedia.org/wiki/Jeddah_Street_Circuit"
        ]
       ],
       "datasetInfos": [],
       "dbfsResultPath": null,
       "isJsonSchema": true,
       "metadata": {},
       "overflow": false,
       "plotOptions": {
        "customPlotOptions": {},
        "displayType": "table",
        "pivotAggregation": null,
        "pivotColumns": null,
        "xColumns": null,
        "yColumns": null
       },
       "removedWidgets": [],
       "schema": [
        {
         "metadata": "{}",
         "name": "circuitId",
         "type": "\"integer\""
        },
        {
         "metadata": "{}",
         "name": "circuitRef",
         "type": "\"string\""
        },
        {
         "metadata": "{}",
         "name": "name",
         "type": "\"string\""
        },
        {
         "metadata": "{}",
         "name": "location",
         "type": "\"string\""
        },
        {
         "metadata": "{}",
         "name": "country",
         "type": "\"string\""
        },
        {
         "metadata": "{}",
         "name": "lat",
         "type": "\"double\""
        },
        {
         "metadata": "{}",
         "name": "lng",
         "type": "\"double\""
        },
        {
         "metadata": "{}",
         "name": "alt",
         "type": "\"integer\""
        },
        {
         "metadata": "{}",
         "name": "url",
         "type": "\"string\""
        }
       ],
       "type": "table"
      }
     },
     "output_type": "display_data"
    }
   ],
   "source": [
    "display(circuits_df)"
   ]
  },
  {
   "cell_type": "code",
   "execution_count": 0,
   "metadata": {
    "application/vnd.databricks.v1+cell": {
     "cellMetadata": {
      "byteLimit": 2048000,
      "rowLimit": 10000
     },
     "inputWidgets": {},
     "nuid": "fc7f3866-8a64-4a72-9cfc-a5a73520bff9",
     "showTitle": false,
     "title": ""
    }
   },
   "outputs": [
    {
     "output_type": "stream",
     "name": "stdout",
     "output_type": "stream",
     "text": [
      "root\n |-- circuitId: integer (nullable = true)\n |-- circuitRef: string (nullable = true)\n |-- name: string (nullable = true)\n |-- location: string (nullable = true)\n |-- country: string (nullable = true)\n |-- lat: double (nullable = true)\n |-- lng: double (nullable = true)\n |-- alt: integer (nullable = true)\n |-- url: string (nullable = true)\n\n"
     ]
    }
   ],
   "source": [
    "circuits_df.printSchema()"
   ]
  },
  {
   "cell_type": "code",
   "execution_count": 0,
   "metadata": {
    "application/vnd.databricks.v1+cell": {
     "cellMetadata": {
      "byteLimit": 2048000,
      "rowLimit": 10000
     },
     "inputWidgets": {},
     "nuid": "63a00dad-e07e-45aa-b364-0893a66987b1",
     "showTitle": false,
     "title": ""
    }
   },
   "outputs": [
    {
     "output_type": "display_data",
     "data": {
      "text/html": [
       "<style scoped>\n",
       "  .table-result-container {\n",
       "    max-height: 300px;\n",
       "    overflow: auto;\n",
       "  }\n",
       "  table, th, td {\n",
       "    border: 1px solid black;\n",
       "    border-collapse: collapse;\n",
       "  }\n",
       "  th, td {\n",
       "    padding: 5px;\n",
       "  }\n",
       "  th {\n",
       "    text-align: left;\n",
       "  }\n",
       "</style><div class='table-result-container'><table class='table-result'><thead style='background-color: white'><tr><th>summary</th><th>circuitId</th><th>circuitRef</th><th>name</th><th>location</th><th>country</th><th>lat</th><th>lng</th><th>alt</th><th>url</th></tr></thead><tbody><tr><td>count</td><td>77</td><td>77</td><td>77</td><td>77</td><td>77</td><td>77</td><td>77</td><td>77</td><td>77</td></tr><tr><td>mean</td><td>39.0</td><td>null</td><td>null</td><td>null</td><td>null</td><td>33.72035103896102</td><td>3.551302597402597</td><td>247.4935064935065</td><td>null</td></tr><tr><td>stddev</td><td>22.371857321197094</td><td>null</td><td>null</td><td>null</td><td>null</td><td>22.885969000074535</td><td>64.8766790440326</td><td>363.2672505910991</td><td>null</td></tr><tr><td>min</td><td>1</td><td>BAK</td><td>A1-Ring</td><td>Abu Dhabi</td><td>Argentina</td><td>-37.8497</td><td>-118.189</td><td>-7</td><td>http://en.wikipedia.org/wiki/A1-Ring</td></tr><tr><td>max</td><td>77</td><td>zolder</td><td>Zolder</td><td>Zandvoort</td><td>Vietnam</td><td>57.2653</td><td>144.968</td><td>2227</td><td>http://en.wikipedia.org/wiki/Zolder</td></tr></tbody></table></div>"
      ]
     },
     "metadata": {
      "application/vnd.databricks.v1+output": {
       "addedWidgets": {},
       "aggData": [],
       "aggError": "",
       "aggOverflow": false,
       "aggSchema": [],
       "aggSeriesLimitReached": false,
       "aggType": "",
       "arguments": {},
       "columnCustomDisplayInfos": {},
       "data": [
        [
         "count",
         "77",
         "77",
         "77",
         "77",
         "77",
         "77",
         "77",
         "77",
         "77"
        ],
        [
         "mean",
         "39.0",
         null,
         null,
         null,
         null,
         "33.72035103896102",
         "3.551302597402597",
         "247.4935064935065",
         null
        ],
        [
         "stddev",
         "22.371857321197094",
         null,
         null,
         null,
         null,
         "22.885969000074535",
         "64.8766790440326",
         "363.2672505910991",
         null
        ],
        [
         "min",
         "1",
         "BAK",
         "A1-Ring",
         "Abu Dhabi",
         "Argentina",
         "-37.8497",
         "-118.189",
         "-7",
         "http://en.wikipedia.org/wiki/A1-Ring"
        ],
        [
         "max",
         "77",
         "zolder",
         "Zolder",
         "Zandvoort",
         "Vietnam",
         "57.2653",
         "144.968",
         "2227",
         "http://en.wikipedia.org/wiki/Zolder"
        ]
       ],
       "datasetInfos": [],
       "dbfsResultPath": null,
       "isJsonSchema": true,
       "metadata": {},
       "overflow": false,
       "plotOptions": {
        "customPlotOptions": {},
        "displayType": "table",
        "pivotAggregation": null,
        "pivotColumns": null,
        "xColumns": null,
        "yColumns": null
       },
       "removedWidgets": [],
       "schema": [
        {
         "metadata": "{}",
         "name": "summary",
         "type": "\"string\""
        },
        {
         "metadata": "{}",
         "name": "circuitId",
         "type": "\"string\""
        },
        {
         "metadata": "{}",
         "name": "circuitRef",
         "type": "\"string\""
        },
        {
         "metadata": "{}",
         "name": "name",
         "type": "\"string\""
        },
        {
         "metadata": "{}",
         "name": "location",
         "type": "\"string\""
        },
        {
         "metadata": "{}",
         "name": "country",
         "type": "\"string\""
        },
        {
         "metadata": "{}",
         "name": "lat",
         "type": "\"string\""
        },
        {
         "metadata": "{}",
         "name": "lng",
         "type": "\"string\""
        },
        {
         "metadata": "{}",
         "name": "alt",
         "type": "\"string\""
        },
        {
         "metadata": "{}",
         "name": "url",
         "type": "\"string\""
        }
       ],
       "type": "table"
      }
     },
     "output_type": "display_data"
    }
   ],
   "source": [
    "display(circuits_df.describe())"
   ]
  },
  {
   "cell_type": "markdown",
   "metadata": {
    "application/vnd.databricks.v1+cell": {
     "cellMetadata": {},
     "inputWidgets": {},
     "nuid": "e7b8675b-89f7-42a2-9934-76787df4fc2e",
     "showTitle": false,
     "title": ""
    }
   },
   "source": [
    "**Schema Definition**"
   ]
  },
  {
   "cell_type": "code",
   "execution_count": 0,
   "metadata": {
    "application/vnd.databricks.v1+cell": {
     "cellMetadata": {
      "byteLimit": 2048000,
      "rowLimit": 10000
     },
     "inputWidgets": {},
     "nuid": "a2ff58a7-f6e6-48c7-ad3f-05334eed252d",
     "showTitle": false,
     "title": ""
    }
   },
   "outputs": [],
   "source": [
    "# struct_type -> row\n",
    "# struct_field -> column\n",
    "\n",
    "from pyspark.sql.types import StructType,StructField,IntegerType, StringType, DoubleType"
   ]
  },
  {
   "cell_type": "code",
   "execution_count": 0,
   "metadata": {
    "application/vnd.databricks.v1+cell": {
     "cellMetadata": {
      "byteLimit": 2048000,
      "rowLimit": 10000
     },
     "inputWidgets": {},
     "nuid": "d71e30e1-b723-47fc-b3cd-b063d67ba758",
     "showTitle": false,
     "title": ""
    }
   },
   "outputs": [],
   "source": [
    "circuits_schema = StructType(fields = [\n",
    "    StructField(\"circuitId\",IntegerType(),False),\n",
    "    StructField(\"circuitRef\",StringType(),True),\n",
    "    StructField(\"name\",StringType(),True),\n",
    "    StructField(\"location\",StringType(),True),\n",
    "    StructField(\"country\",StringType(),True),\n",
    "    StructField(\"lat\",StringType(),True),\n",
    "    StructField(\"lng\",StringType(),True),\n",
    "    StructField(\"alt\",IntegerType(),True),\n",
    "    StructField(\"url\",StringType(),True)\n",
    "])"
   ]
  },
  {
   "cell_type": "code",
   "execution_count": 0,
   "metadata": {
    "application/vnd.databricks.v1+cell": {
     "cellMetadata": {
      "byteLimit": 2048000,
      "rowLimit": 10000
     },
     "inputWidgets": {},
     "nuid": "58e00cc7-bb5e-4b97-af89-d1aadbee9e7b",
     "showTitle": false,
     "title": ""
    }
   },
   "outputs": [],
   "source": [
    "circuits_df = spark.read.option(\"header\",True).schema(circuits_schema).csv(\"dbfs:/mnt/formula1dlvb/raw/circuits.csv\")"
   ]
  },
  {
   "cell_type": "code",
   "execution_count": 0,
   "metadata": {
    "application/vnd.databricks.v1+cell": {
     "cellMetadata": {
      "byteLimit": 2048000,
      "rowLimit": 10000
     },
     "inputWidgets": {},
     "nuid": "03fae7a7-6234-49ea-9150-9d319b538949",
     "showTitle": false,
     "title": ""
    }
   },
   "outputs": [
    {
     "output_type": "stream",
     "name": "stdout",
     "output_type": "stream",
     "text": [
      "root\n |-- circuitId: integer (nullable = true)\n |-- circuitRef: string (nullable = true)\n |-- name: string (nullable = true)\n |-- location: string (nullable = true)\n |-- country: string (nullable = true)\n |-- lat: string (nullable = true)\n |-- lng: string (nullable = true)\n |-- alt: integer (nullable = true)\n |-- url: string (nullable = true)\n\n"
     ]
    }
   ],
   "source": [
    "circuits_df.printSchema()"
   ]
  },
  {
   "cell_type": "markdown",
   "metadata": {
    "application/vnd.databricks.v1+cell": {
     "cellMetadata": {},
     "inputWidgets": {},
     "nuid": "518d1d3e-db39-46ec-9115-6d9cd40b3eb6",
     "showTitle": false,
     "title": ""
    }
   },
   "source": [
    "\n",
    "**Selecting Only Required Columns**"
   ]
  },
  {
   "cell_type": "code",
   "execution_count": 0,
   "metadata": {
    "application/vnd.databricks.v1+cell": {
     "cellMetadata": {
      "byteLimit": 2048000,
      "rowLimit": 10000
     },
     "inputWidgets": {},
     "nuid": "05bd7e0a-e772-4646-8fd5-554354c257f8",
     "showTitle": false,
     "title": ""
    }
   },
   "outputs": [],
   "source": [
    "circuits_selected = circuits_df.select(\"circuitId\",\"circuitRef\",\"name\",\"location\",\"lat\",\"lng\",\"alt\")"
   ]
  },
  {
   "cell_type": "code",
   "execution_count": 0,
   "metadata": {
    "application/vnd.databricks.v1+cell": {
     "cellMetadata": {
      "byteLimit": 2048000,
      "rowLimit": 10000
     },
     "inputWidgets": {},
     "nuid": "fb7e61c6-e08a-4422-bb8b-9c0dd5cb39be",
     "showTitle": false,
     "title": ""
    }
   },
   "outputs": [],
   "source": [
    "from pyspark.sql.functions import col"
   ]
  },
  {
   "cell_type": "code",
   "execution_count": 0,
   "metadata": {
    "application/vnd.databricks.v1+cell": {
     "cellMetadata": {
      "byteLimit": 2048000,
      "rowLimit": 10000
     },
     "inputWidgets": {},
     "nuid": "7869e708-a68b-4abe-8f78-d2c892f0f757",
     "showTitle": false,
     "title": ""
    }
   },
   "outputs": [],
   "source": [
    "circuits_selected = circuits_df.select(col(\"circuitId\"),col(\"circuitRef\"),col(\"name\"),col(\"location\").alias(\"race_location\"),col(\"lat\"),col(\"lng\"),col(\"alt\"))"
   ]
  },
  {
   "cell_type": "code",
   "execution_count": 0,
   "metadata": {
    "application/vnd.databricks.v1+cell": {
     "cellMetadata": {
      "byteLimit": 2048000,
      "rowLimit": 10000
     },
     "inputWidgets": {},
     "nuid": "1624c1e9-ad47-4166-8217-b02840000a88",
     "showTitle": false,
     "title": ""
    }
   },
   "outputs": [
    {
     "output_type": "display_data",
     "data": {
      "text/html": [
       "<style scoped>\n",
       "  .table-result-container {\n",
       "    max-height: 300px;\n",
       "    overflow: auto;\n",
       "  }\n",
       "  table, th, td {\n",
       "    border: 1px solid black;\n",
       "    border-collapse: collapse;\n",
       "  }\n",
       "  th, td {\n",
       "    padding: 5px;\n",
       "  }\n",
       "  th {\n",
       "    text-align: left;\n",
       "  }\n",
       "</style><div class='table-result-container'><table class='table-result'><thead style='background-color: white'><tr><th>circuitId</th><th>circuitRef</th><th>name</th><th>race_location</th><th>lat</th><th>lng</th><th>alt</th></tr></thead><tbody><tr><td>1</td><td>albert_park</td><td>Albert Park Grand Prix Circuit</td><td>Melbourne</td><td>-37.8497</td><td>144.968</td><td>10</td></tr><tr><td>2</td><td>sepang</td><td>Sepang International Circuit</td><td>Kuala Lumpur</td><td>2.76083</td><td>101.738</td><td>18</td></tr><tr><td>3</td><td>bahrain</td><td>Bahrain International Circuit</td><td>Sakhir</td><td>26.0325</td><td>50.5106</td><td>7</td></tr><tr><td>4</td><td>catalunya</td><td>Circuit de Barcelona-Catalunya</td><td>Montmeló</td><td>41.57</td><td>2.26111</td><td>109</td></tr><tr><td>5</td><td>istanbul</td><td>Istanbul Park</td><td>Istanbul</td><td>40.9517</td><td>29.405</td><td>130</td></tr><tr><td>6</td><td>monaco</td><td>Circuit de Monaco</td><td>Monte-Carlo</td><td>43.7347</td><td>7.42056</td><td>7</td></tr><tr><td>7</td><td>villeneuve</td><td>Circuit Gilles Villeneuve</td><td>Montreal</td><td>45.5</td><td>-73.5228</td><td>13</td></tr><tr><td>8</td><td>magny_cours</td><td>Circuit de Nevers Magny-Cours</td><td>Magny Cours</td><td>46.8642</td><td>3.16361</td><td>228</td></tr><tr><td>9</td><td>silverstone</td><td>Silverstone Circuit</td><td>Silverstone</td><td>52.0786</td><td>-1.01694</td><td>153</td></tr><tr><td>10</td><td>hockenheimring</td><td>Hockenheimring</td><td>Hockenheim</td><td>49.3278</td><td>8.56583</td><td>103</td></tr><tr><td>11</td><td>hungaroring</td><td>Hungaroring</td><td>Budapest</td><td>47.5789</td><td>19.2486</td><td>264</td></tr><tr><td>12</td><td>valencia</td><td>Valencia Street Circuit</td><td>Valencia</td><td>39.4589</td><td>-0.331667</td><td>4</td></tr><tr><td>13</td><td>spa</td><td>Circuit de Spa-Francorchamps</td><td>Spa</td><td>50.4372</td><td>5.97139</td><td>401</td></tr><tr><td>14</td><td>monza</td><td>Autodromo Nazionale di Monza</td><td>Monza</td><td>45.6156</td><td>9.28111</td><td>162</td></tr><tr><td>15</td><td>marina_bay</td><td>Marina Bay Street Circuit</td><td>Marina Bay</td><td>1.2914</td><td>103.864</td><td>18</td></tr><tr><td>16</td><td>fuji</td><td>Fuji Speedway</td><td>Oyama</td><td>35.3717</td><td>138.927</td><td>583</td></tr><tr><td>17</td><td>shanghai</td><td>Shanghai International Circuit</td><td>Shanghai</td><td>31.3389</td><td>121.22</td><td>5</td></tr><tr><td>18</td><td>interlagos</td><td>Autódromo José Carlos Pace</td><td>São Paulo</td><td>-23.7036</td><td>-46.6997</td><td>785</td></tr><tr><td>19</td><td>indianapolis</td><td>Indianapolis Motor Speedway</td><td>Indianapolis</td><td>39.795</td><td>-86.2347</td><td>223</td></tr><tr><td>20</td><td>nurburgring</td><td>Nürburgring</td><td>Nürburg</td><td>50.3356</td><td>6.9475</td><td>578</td></tr><tr><td>21</td><td>imola</td><td>Autodromo Enzo e Dino Ferrari</td><td>Imola</td><td>44.3439</td><td>11.7167</td><td>37</td></tr><tr><td>22</td><td>suzuka</td><td>Suzuka Circuit</td><td>Suzuka</td><td>34.8431</td><td>136.541</td><td>45</td></tr><tr><td>23</td><td>osterreichring</td><td>A1-Ring</td><td>Spielburg</td><td>47.2197</td><td>14.7647</td><td>678</td></tr><tr><td>24</td><td>yas_marina</td><td>Yas Marina Circuit</td><td>Abu Dhabi</td><td>24.4672</td><td>54.6031</td><td>3</td></tr><tr><td>25</td><td>galvez</td><td>Autódromo Juan y Oscar Gálvez</td><td>Buenos Aires</td><td>-34.6943</td><td>-58.4593</td><td>8</td></tr><tr><td>26</td><td>jerez</td><td>Circuito de Jerez</td><td>Jerez de la Frontera</td><td>36.7083</td><td>-6.03417</td><td>37</td></tr><tr><td>27</td><td>estoril</td><td>Autódromo do Estoril</td><td>Estoril</td><td>38.7506</td><td>-9.39417</td><td>130</td></tr><tr><td>28</td><td>okayama</td><td>Okayama International Circuit</td><td>Okayama</td><td>34.915</td><td>134.221</td><td>266</td></tr><tr><td>29</td><td>adelaide</td><td>Adelaide Street Circuit</td><td>Adelaide</td><td>-34.9272</td><td>138.617</td><td>58</td></tr><tr><td>30</td><td>kyalami</td><td>Kyalami</td><td>Midrand</td><td>-25.9894</td><td>28.0767</td><td>1460</td></tr><tr><td>31</td><td>donington</td><td>Donington Park</td><td>Castle Donington</td><td>52.8306</td><td>-1.37528</td><td>88</td></tr><tr><td>32</td><td>rodriguez</td><td>Autódromo Hermanos Rodríguez</td><td>Mexico City</td><td>19.4042</td><td>-99.0907</td><td>2227</td></tr><tr><td>33</td><td>phoenix</td><td>Phoenix street circuit</td><td>Phoenix</td><td>33.4479</td><td>-112.075</td><td>345</td></tr><tr><td>34</td><td>ricard</td><td>Circuit Paul Ricard</td><td>Le Castellet</td><td>43.2506</td><td>5.79167</td><td>432</td></tr><tr><td>35</td><td>yeongam</td><td>Korean International Circuit</td><td>Yeongam County</td><td>34.7333</td><td>126.417</td><td>0</td></tr><tr><td>36</td><td>jacarepagua</td><td>Autódromo Internacional Nelson Piquet</td><td>Rio de Janeiro</td><td>-22.9756</td><td>-43.395</td><td>1126</td></tr><tr><td>37</td><td>detroit</td><td>Detroit Street Circuit</td><td>Detroit</td><td>42.3298</td><td>-83.0401</td><td>177</td></tr><tr><td>38</td><td>brands_hatch</td><td>Brands Hatch</td><td>Kent</td><td>51.3569</td><td>0.263056</td><td>145</td></tr><tr><td>39</td><td>zandvoort</td><td>Circuit Park Zandvoort</td><td>Zandvoort</td><td>52.3888</td><td>4.54092</td><td>6</td></tr><tr><td>40</td><td>zolder</td><td>Zolder</td><td>Heusden-Zolder</td><td>50.9894</td><td>5.25694</td><td>36</td></tr><tr><td>41</td><td>dijon</td><td>Dijon-Prenois</td><td>Dijon</td><td>47.3625</td><td>4.89913</td><td>484</td></tr><tr><td>42</td><td>dallas</td><td>Fair Park</td><td>Dallas</td><td>32.7774</td><td>-96.7587</td><td>139</td></tr><tr><td>43</td><td>long_beach</td><td>Long Beach</td><td>California</td><td>33.7651</td><td>-118.189</td><td>12</td></tr><tr><td>44</td><td>las_vegas</td><td>Las Vegas Street Circuit</td><td>Nevada</td><td>36.1162</td><td>-115.174</td><td>639</td></tr><tr><td>45</td><td>jarama</td><td>Jarama</td><td>Madrid</td><td>40.6171</td><td>-3.58558</td><td>609</td></tr><tr><td>46</td><td>watkins_glen</td><td>Watkins Glen</td><td>New York State</td><td>42.3369</td><td>-76.9272</td><td>485</td></tr><tr><td>47</td><td>anderstorp</td><td>Scandinavian Raceway</td><td>Anderstorp</td><td>57.2653</td><td>13.6042</td><td>153</td></tr><tr><td>48</td><td>mosport</td><td>Mosport International Raceway</td><td>Ontario</td><td>44.0481</td><td>-78.6756</td><td>332</td></tr><tr><td>49</td><td>montjuic</td><td>Montjuïc</td><td>Barcelona</td><td>41.3664</td><td>2.15167</td><td>79</td></tr><tr><td>50</td><td>nivelles</td><td>Nivelles-Baulers</td><td>Brussels</td><td>50.6211</td><td>4.32694</td><td>139</td></tr><tr><td>51</td><td>charade</td><td>Charade Circuit</td><td>Clermont-Ferrand</td><td>45.7472</td><td>3.03889</td><td>790</td></tr><tr><td>52</td><td>tremblant</td><td>Circuit Mont-Tremblant</td><td>Quebec</td><td>46.1877</td><td>-74.6099</td><td>214</td></tr><tr><td>53</td><td>essarts</td><td>Rouen-Les-Essarts</td><td>Rouen</td><td>49.3306</td><td>1.00458</td><td>81</td></tr><tr><td>54</td><td>lemans</td><td>Le Mans</td><td>Le Mans</td><td>47.95</td><td>0.224231</td><td>67</td></tr><tr><td>55</td><td>reims</td><td>Reims-Gueux</td><td>Reims</td><td>49.2542</td><td>3.93083</td><td>88</td></tr><tr><td>56</td><td>george</td><td>Prince George Circuit</td><td>Eastern Cape Province</td><td>-33.0486</td><td>27.8736</td><td>15</td></tr><tr><td>57</td><td>zeltweg</td><td>Zeltweg</td><td>Styria</td><td>47.2039</td><td>14.7478</td><td>676</td></tr><tr><td>58</td><td>aintree</td><td>Aintree</td><td>Liverpool</td><td>53.4769</td><td>-2.94056</td><td>20</td></tr><tr><td>59</td><td>boavista</td><td>Circuito da Boavista</td><td>Oporto</td><td>41.1705</td><td>-8.67325</td><td>28</td></tr><tr><td>60</td><td>riverside</td><td>Riverside International Raceway</td><td>California</td><td>33.937</td><td>-117.273</td><td>470</td></tr><tr><td>61</td><td>avus</td><td>AVUS</td><td>Berlin</td><td>52.4806</td><td>13.2514</td><td>53</td></tr><tr><td>62</td><td>monsanto</td><td>Monsanto Park Circuit</td><td>Lisbon</td><td>38.7197</td><td>-9.20306</td><td>158</td></tr><tr><td>63</td><td>sebring</td><td>Sebring International Raceway</td><td>Florida</td><td>27.4547</td><td>-81.3483</td><td>18</td></tr><tr><td>64</td><td>ain-diab</td><td>Ain Diab</td><td>Casablanca</td><td>33.5786</td><td>-7.6875</td><td>19</td></tr><tr><td>65</td><td>pescara</td><td>Pescara Circuit</td><td>Pescara</td><td>42.475</td><td>14.1508</td><td>129</td></tr><tr><td>66</td><td>bremgarten</td><td>Circuit Bremgarten</td><td>Bern</td><td>46.9589</td><td>7.40194</td><td>551</td></tr><tr><td>67</td><td>pedralbes</td><td>Circuit de Pedralbes</td><td>Barcelona</td><td>41.3903</td><td>2.11667</td><td>85</td></tr><tr><td>68</td><td>buddh</td><td>Buddh International Circuit</td><td>Uttar Pradesh</td><td>28.3487</td><td>77.5331</td><td>194</td></tr><tr><td>69</td><td>americas</td><td>Circuit of the Americas</td><td>Austin</td><td>30.1328</td><td>-97.6411</td><td>161</td></tr><tr><td>70</td><td>red_bull_ring</td><td>Red Bull Ring</td><td>Spielburg</td><td>47.2197</td><td>14.7647</td><td>678</td></tr><tr><td>71</td><td>sochi</td><td>Sochi Autodrom</td><td>Sochi</td><td>43.4057</td><td>39.9578</td><td>2</td></tr><tr><td>72</td><td>port_imperial</td><td>Port Imperial Street Circuit</td><td>New Jersey</td><td>40.7769</td><td>-74.0111</td><td>4</td></tr><tr><td>73</td><td>BAK</td><td>Baku City Circuit</td><td>Baku</td><td>40.3725</td><td>49.8533</td><td>-7</td></tr><tr><td>74</td><td>hanoi</td><td>Hanoi Street Circuit</td><td>Hanoi</td><td>21.0166</td><td>105.766</td><td>9</td></tr><tr><td>75</td><td>portimao</td><td>Autódromo Internacional do Algarve</td><td>Portimão</td><td>37.227</td><td>-8.6267</td><td>108</td></tr><tr><td>76</td><td>mugello</td><td>Autodromo Internazionale del Mugello</td><td>Mugello</td><td>43.9975</td><td>11.3719</td><td>255</td></tr><tr><td>77</td><td>jeddah</td><td>Jeddah Street Circuit</td><td>Jeddah</td><td>21.5433</td><td>39.1728</td><td>15</td></tr></tbody></table></div>"
      ]
     },
     "metadata": {
      "application/vnd.databricks.v1+output": {
       "addedWidgets": {},
       "aggData": [],
       "aggError": "",
       "aggOverflow": false,
       "aggSchema": [],
       "aggSeriesLimitReached": false,
       "aggType": "",
       "arguments": {},
       "columnCustomDisplayInfos": {},
       "data": [
        [
         1,
         "albert_park",
         "Albert Park Grand Prix Circuit",
         "Melbourne",
         "-37.8497",
         "144.968",
         10
        ],
        [
         2,
         "sepang",
         "Sepang International Circuit",
         "Kuala Lumpur",
         "2.76083",
         "101.738",
         18
        ],
        [
         3,
         "bahrain",
         "Bahrain International Circuit",
         "Sakhir",
         "26.0325",
         "50.5106",
         7
        ],
        [
         4,
         "catalunya",
         "Circuit de Barcelona-Catalunya",
         "Montmeló",
         "41.57",
         "2.26111",
         109
        ],
        [
         5,
         "istanbul",
         "Istanbul Park",
         "Istanbul",
         "40.9517",
         "29.405",
         130
        ],
        [
         6,
         "monaco",
         "Circuit de Monaco",
         "Monte-Carlo",
         "43.7347",
         "7.42056",
         7
        ],
        [
         7,
         "villeneuve",
         "Circuit Gilles Villeneuve",
         "Montreal",
         "45.5",
         "-73.5228",
         13
        ],
        [
         8,
         "magny_cours",
         "Circuit de Nevers Magny-Cours",
         "Magny Cours",
         "46.8642",
         "3.16361",
         228
        ],
        [
         9,
         "silverstone",
         "Silverstone Circuit",
         "Silverstone",
         "52.0786",
         "-1.01694",
         153
        ],
        [
         10,
         "hockenheimring",
         "Hockenheimring",
         "Hockenheim",
         "49.3278",
         "8.56583",
         103
        ],
        [
         11,
         "hungaroring",
         "Hungaroring",
         "Budapest",
         "47.5789",
         "19.2486",
         264
        ],
        [
         12,
         "valencia",
         "Valencia Street Circuit",
         "Valencia",
         "39.4589",
         "-0.331667",
         4
        ],
        [
         13,
         "spa",
         "Circuit de Spa-Francorchamps",
         "Spa",
         "50.4372",
         "5.97139",
         401
        ],
        [
         14,
         "monza",
         "Autodromo Nazionale di Monza",
         "Monza",
         "45.6156",
         "9.28111",
         162
        ],
        [
         15,
         "marina_bay",
         "Marina Bay Street Circuit",
         "Marina Bay",
         "1.2914",
         "103.864",
         18
        ],
        [
         16,
         "fuji",
         "Fuji Speedway",
         "Oyama",
         "35.3717",
         "138.927",
         583
        ],
        [
         17,
         "shanghai",
         "Shanghai International Circuit",
         "Shanghai",
         "31.3389",
         "121.22",
         5
        ],
        [
         18,
         "interlagos",
         "Autódromo José Carlos Pace",
         "São Paulo",
         "-23.7036",
         "-46.6997",
         785
        ],
        [
         19,
         "indianapolis",
         "Indianapolis Motor Speedway",
         "Indianapolis",
         "39.795",
         "-86.2347",
         223
        ],
        [
         20,
         "nurburgring",
         "Nürburgring",
         "Nürburg",
         "50.3356",
         "6.9475",
         578
        ],
        [
         21,
         "imola",
         "Autodromo Enzo e Dino Ferrari",
         "Imola",
         "44.3439",
         "11.7167",
         37
        ],
        [
         22,
         "suzuka",
         "Suzuka Circuit",
         "Suzuka",
         "34.8431",
         "136.541",
         45
        ],
        [
         23,
         "osterreichring",
         "A1-Ring",
         "Spielburg",
         "47.2197",
         "14.7647",
         678
        ],
        [
         24,
         "yas_marina",
         "Yas Marina Circuit",
         "Abu Dhabi",
         "24.4672",
         "54.6031",
         3
        ],
        [
         25,
         "galvez",
         "Autódromo Juan y Oscar Gálvez",
         "Buenos Aires",
         "-34.6943",
         "-58.4593",
         8
        ],
        [
         26,
         "jerez",
         "Circuito de Jerez",
         "Jerez de la Frontera",
         "36.7083",
         "-6.03417",
         37
        ],
        [
         27,
         "estoril",
         "Autódromo do Estoril",
         "Estoril",
         "38.7506",
         "-9.39417",
         130
        ],
        [
         28,
         "okayama",
         "Okayama International Circuit",
         "Okayama",
         "34.915",
         "134.221",
         266
        ],
        [
         29,
         "adelaide",
         "Adelaide Street Circuit",
         "Adelaide",
         "-34.9272",
         "138.617",
         58
        ],
        [
         30,
         "kyalami",
         "Kyalami",
         "Midrand",
         "-25.9894",
         "28.0767",
         1460
        ],
        [
         31,
         "donington",
         "Donington Park",
         "Castle Donington",
         "52.8306",
         "-1.37528",
         88
        ],
        [
         32,
         "rodriguez",
         "Autódromo Hermanos Rodríguez",
         "Mexico City",
         "19.4042",
         "-99.0907",
         2227
        ],
        [
         33,
         "phoenix",
         "Phoenix street circuit",
         "Phoenix",
         "33.4479",
         "-112.075",
         345
        ],
        [
         34,
         "ricard",
         "Circuit Paul Ricard",
         "Le Castellet",
         "43.2506",
         "5.79167",
         432
        ],
        [
         35,
         "yeongam",
         "Korean International Circuit",
         "Yeongam County",
         "34.7333",
         "126.417",
         0
        ],
        [
         36,
         "jacarepagua",
         "Autódromo Internacional Nelson Piquet",
         "Rio de Janeiro",
         "-22.9756",
         "-43.395",
         1126
        ],
        [
         37,
         "detroit",
         "Detroit Street Circuit",
         "Detroit",
         "42.3298",
         "-83.0401",
         177
        ],
        [
         38,
         "brands_hatch",
         "Brands Hatch",
         "Kent",
         "51.3569",
         "0.263056",
         145
        ],
        [
         39,
         "zandvoort",
         "Circuit Park Zandvoort",
         "Zandvoort",
         "52.3888",
         "4.54092",
         6
        ],
        [
         40,
         "zolder",
         "Zolder",
         "Heusden-Zolder",
         "50.9894",
         "5.25694",
         36
        ],
        [
         41,
         "dijon",
         "Dijon-Prenois",
         "Dijon",
         "47.3625",
         "4.89913",
         484
        ],
        [
         42,
         "dallas",
         "Fair Park",
         "Dallas",
         "32.7774",
         "-96.7587",
         139
        ],
        [
         43,
         "long_beach",
         "Long Beach",
         "California",
         "33.7651",
         "-118.189",
         12
        ],
        [
         44,
         "las_vegas",
         "Las Vegas Street Circuit",
         "Nevada",
         "36.1162",
         "-115.174",
         639
        ],
        [
         45,
         "jarama",
         "Jarama",
         "Madrid",
         "40.6171",
         "-3.58558",
         609
        ],
        [
         46,
         "watkins_glen",
         "Watkins Glen",
         "New York State",
         "42.3369",
         "-76.9272",
         485
        ],
        [
         47,
         "anderstorp",
         "Scandinavian Raceway",
         "Anderstorp",
         "57.2653",
         "13.6042",
         153
        ],
        [
         48,
         "mosport",
         "Mosport International Raceway",
         "Ontario",
         "44.0481",
         "-78.6756",
         332
        ],
        [
         49,
         "montjuic",
         "Montjuïc",
         "Barcelona",
         "41.3664",
         "2.15167",
         79
        ],
        [
         50,
         "nivelles",
         "Nivelles-Baulers",
         "Brussels",
         "50.6211",
         "4.32694",
         139
        ],
        [
         51,
         "charade",
         "Charade Circuit",
         "Clermont-Ferrand",
         "45.7472",
         "3.03889",
         790
        ],
        [
         52,
         "tremblant",
         "Circuit Mont-Tremblant",
         "Quebec",
         "46.1877",
         "-74.6099",
         214
        ],
        [
         53,
         "essarts",
         "Rouen-Les-Essarts",
         "Rouen",
         "49.3306",
         "1.00458",
         81
        ],
        [
         54,
         "lemans",
         "Le Mans",
         "Le Mans",
         "47.95",
         "0.224231",
         67
        ],
        [
         55,
         "reims",
         "Reims-Gueux",
         "Reims",
         "49.2542",
         "3.93083",
         88
        ],
        [
         56,
         "george",
         "Prince George Circuit",
         "Eastern Cape Province",
         "-33.0486",
         "27.8736",
         15
        ],
        [
         57,
         "zeltweg",
         "Zeltweg",
         "Styria",
         "47.2039",
         "14.7478",
         676
        ],
        [
         58,
         "aintree",
         "Aintree",
         "Liverpool",
         "53.4769",
         "-2.94056",
         20
        ],
        [
         59,
         "boavista",
         "Circuito da Boavista",
         "Oporto",
         "41.1705",
         "-8.67325",
         28
        ],
        [
         60,
         "riverside",
         "Riverside International Raceway",
         "California",
         "33.937",
         "-117.273",
         470
        ],
        [
         61,
         "avus",
         "AVUS",
         "Berlin",
         "52.4806",
         "13.2514",
         53
        ],
        [
         62,
         "monsanto",
         "Monsanto Park Circuit",
         "Lisbon",
         "38.7197",
         "-9.20306",
         158
        ],
        [
         63,
         "sebring",
         "Sebring International Raceway",
         "Florida",
         "27.4547",
         "-81.3483",
         18
        ],
        [
         64,
         "ain-diab",
         "Ain Diab",
         "Casablanca",
         "33.5786",
         "-7.6875",
         19
        ],
        [
         65,
         "pescara",
         "Pescara Circuit",
         "Pescara",
         "42.475",
         "14.1508",
         129
        ],
        [
         66,
         "bremgarten",
         "Circuit Bremgarten",
         "Bern",
         "46.9589",
         "7.40194",
         551
        ],
        [
         67,
         "pedralbes",
         "Circuit de Pedralbes",
         "Barcelona",
         "41.3903",
         "2.11667",
         85
        ],
        [
         68,
         "buddh",
         "Buddh International Circuit",
         "Uttar Pradesh",
         "28.3487",
         "77.5331",
         194
        ],
        [
         69,
         "americas",
         "Circuit of the Americas",
         "Austin",
         "30.1328",
         "-97.6411",
         161
        ],
        [
         70,
         "red_bull_ring",
         "Red Bull Ring",
         "Spielburg",
         "47.2197",
         "14.7647",
         678
        ],
        [
         71,
         "sochi",
         "Sochi Autodrom",
         "Sochi",
         "43.4057",
         "39.9578",
         2
        ],
        [
         72,
         "port_imperial",
         "Port Imperial Street Circuit",
         "New Jersey",
         "40.7769",
         "-74.0111",
         4
        ],
        [
         73,
         "BAK",
         "Baku City Circuit",
         "Baku",
         "40.3725",
         "49.8533",
         -7
        ],
        [
         74,
         "hanoi",
         "Hanoi Street Circuit",
         "Hanoi",
         "21.0166",
         "105.766",
         9
        ],
        [
         75,
         "portimao",
         "Autódromo Internacional do Algarve",
         "Portimão",
         "37.227",
         "-8.6267",
         108
        ],
        [
         76,
         "mugello",
         "Autodromo Internazionale del Mugello",
         "Mugello",
         "43.9975",
         "11.3719",
         255
        ],
        [
         77,
         "jeddah",
         "Jeddah Street Circuit",
         "Jeddah",
         "21.5433",
         "39.1728",
         15
        ]
       ],
       "datasetInfos": [],
       "dbfsResultPath": null,
       "isJsonSchema": true,
       "metadata": {},
       "overflow": false,
       "plotOptions": {
        "customPlotOptions": {},
        "displayType": "table",
        "pivotAggregation": null,
        "pivotColumns": null,
        "xColumns": null,
        "yColumns": null
       },
       "removedWidgets": [],
       "schema": [
        {
         "metadata": "{}",
         "name": "circuitId",
         "type": "\"integer\""
        },
        {
         "metadata": "{}",
         "name": "circuitRef",
         "type": "\"string\""
        },
        {
         "metadata": "{}",
         "name": "name",
         "type": "\"string\""
        },
        {
         "metadata": "{}",
         "name": "race_location",
         "type": "\"string\""
        },
        {
         "metadata": "{}",
         "name": "lat",
         "type": "\"string\""
        },
        {
         "metadata": "{}",
         "name": "lng",
         "type": "\"string\""
        },
        {
         "metadata": "{}",
         "name": "alt",
         "type": "\"integer\""
        }
       ],
       "type": "table"
      }
     },
     "output_type": "display_data"
    }
   ],
   "source": [
    "display(circuits_selected)"
   ]
  },
  {
   "cell_type": "markdown",
   "metadata": {
    "application/vnd.databricks.v1+cell": {
     "cellMetadata": {},
     "inputWidgets": {},
     "nuid": "c6fdbe85-7d18-4481-88c4-aa57ecf14ed3",
     "showTitle": false,
     "title": ""
    }
   },
   "source": [
    "**Renaming Columns**"
   ]
  },
  {
   "cell_type": "code",
   "execution_count": 0,
   "metadata": {
    "application/vnd.databricks.v1+cell": {
     "cellMetadata": {
      "byteLimit": 2048000,
      "rowLimit": 10000
     },
     "inputWidgets": {},
     "nuid": "791933ec-962b-412e-973b-846db9375ad7",
     "showTitle": false,
     "title": ""
    }
   },
   "outputs": [],
   "source": [
    "from pyspark.sql.functions import lit"
   ]
  },
  {
   "cell_type": "code",
   "execution_count": 0,
   "metadata": {
    "application/vnd.databricks.v1+cell": {
     "cellMetadata": {
      "byteLimit": 2048000,
      "rowLimit": 10000
     },
     "inputWidgets": {},
     "nuid": "6dd2be9c-cff2-41ef-a506-94f365de0671",
     "showTitle": false,
     "title": ""
    }
   },
   "outputs": [],
   "source": [
    "circuits_renamed_df = circuits_selected\\\n",
    ".withColumnRenamed(\"circuitId\",\"circuit_id\")\\\n",
    ".withColumnRenamed(\"lat\",\"latitude\")\\\n",
    ".withColumnRenamed(\"lng\",\"longitude\")\\\n",
    ".withColumnRenamed(\"alt\",\"altitude\")\\\n",
    ".withColumn(\"data_source\",lit(v_data_source)) # convert it to column type and add it. lit helps us do this\n"
   ]
  },
  {
   "cell_type": "code",
   "execution_count": 0,
   "metadata": {
    "application/vnd.databricks.v1+cell": {
     "cellMetadata": {
      "byteLimit": 2048000,
      "rowLimit": 10000
     },
     "inputWidgets": {},
     "nuid": "756fa017-5f0d-431a-beb9-2c975f384e97",
     "showTitle": false,
     "title": ""
    }
   },
   "outputs": [
    {
     "output_type": "display_data",
     "data": {
      "text/html": [
       "<style scoped>\n",
       "  .table-result-container {\n",
       "    max-height: 300px;\n",
       "    overflow: auto;\n",
       "  }\n",
       "  table, th, td {\n",
       "    border: 1px solid black;\n",
       "    border-collapse: collapse;\n",
       "  }\n",
       "  th, td {\n",
       "    padding: 5px;\n",
       "  }\n",
       "  th {\n",
       "    text-align: left;\n",
       "  }\n",
       "</style><div class='table-result-container'><table class='table-result'><thead style='background-color: white'><tr><th>circuit_id</th><th>circuitRef</th><th>name</th><th>race_location</th><th>latitude</th><th>longitude</th><th>altitude</th><th>data_source</th></tr></thead><tbody><tr><td>1</td><td>albert_park</td><td>Albert Park Grand Prix Circuit</td><td>Melbourne</td><td>-37.8497</td><td>144.968</td><td>10</td><td>testing</td></tr><tr><td>2</td><td>sepang</td><td>Sepang International Circuit</td><td>Kuala Lumpur</td><td>2.76083</td><td>101.738</td><td>18</td><td>testing</td></tr><tr><td>3</td><td>bahrain</td><td>Bahrain International Circuit</td><td>Sakhir</td><td>26.0325</td><td>50.5106</td><td>7</td><td>testing</td></tr><tr><td>4</td><td>catalunya</td><td>Circuit de Barcelona-Catalunya</td><td>Montmeló</td><td>41.57</td><td>2.26111</td><td>109</td><td>testing</td></tr><tr><td>5</td><td>istanbul</td><td>Istanbul Park</td><td>Istanbul</td><td>40.9517</td><td>29.405</td><td>130</td><td>testing</td></tr><tr><td>6</td><td>monaco</td><td>Circuit de Monaco</td><td>Monte-Carlo</td><td>43.7347</td><td>7.42056</td><td>7</td><td>testing</td></tr><tr><td>7</td><td>villeneuve</td><td>Circuit Gilles Villeneuve</td><td>Montreal</td><td>45.5</td><td>-73.5228</td><td>13</td><td>testing</td></tr><tr><td>8</td><td>magny_cours</td><td>Circuit de Nevers Magny-Cours</td><td>Magny Cours</td><td>46.8642</td><td>3.16361</td><td>228</td><td>testing</td></tr><tr><td>9</td><td>silverstone</td><td>Silverstone Circuit</td><td>Silverstone</td><td>52.0786</td><td>-1.01694</td><td>153</td><td>testing</td></tr><tr><td>10</td><td>hockenheimring</td><td>Hockenheimring</td><td>Hockenheim</td><td>49.3278</td><td>8.56583</td><td>103</td><td>testing</td></tr><tr><td>11</td><td>hungaroring</td><td>Hungaroring</td><td>Budapest</td><td>47.5789</td><td>19.2486</td><td>264</td><td>testing</td></tr><tr><td>12</td><td>valencia</td><td>Valencia Street Circuit</td><td>Valencia</td><td>39.4589</td><td>-0.331667</td><td>4</td><td>testing</td></tr><tr><td>13</td><td>spa</td><td>Circuit de Spa-Francorchamps</td><td>Spa</td><td>50.4372</td><td>5.97139</td><td>401</td><td>testing</td></tr><tr><td>14</td><td>monza</td><td>Autodromo Nazionale di Monza</td><td>Monza</td><td>45.6156</td><td>9.28111</td><td>162</td><td>testing</td></tr><tr><td>15</td><td>marina_bay</td><td>Marina Bay Street Circuit</td><td>Marina Bay</td><td>1.2914</td><td>103.864</td><td>18</td><td>testing</td></tr><tr><td>16</td><td>fuji</td><td>Fuji Speedway</td><td>Oyama</td><td>35.3717</td><td>138.927</td><td>583</td><td>testing</td></tr><tr><td>17</td><td>shanghai</td><td>Shanghai International Circuit</td><td>Shanghai</td><td>31.3389</td><td>121.22</td><td>5</td><td>testing</td></tr><tr><td>18</td><td>interlagos</td><td>Autódromo José Carlos Pace</td><td>São Paulo</td><td>-23.7036</td><td>-46.6997</td><td>785</td><td>testing</td></tr><tr><td>19</td><td>indianapolis</td><td>Indianapolis Motor Speedway</td><td>Indianapolis</td><td>39.795</td><td>-86.2347</td><td>223</td><td>testing</td></tr><tr><td>20</td><td>nurburgring</td><td>Nürburgring</td><td>Nürburg</td><td>50.3356</td><td>6.9475</td><td>578</td><td>testing</td></tr><tr><td>21</td><td>imola</td><td>Autodromo Enzo e Dino Ferrari</td><td>Imola</td><td>44.3439</td><td>11.7167</td><td>37</td><td>testing</td></tr><tr><td>22</td><td>suzuka</td><td>Suzuka Circuit</td><td>Suzuka</td><td>34.8431</td><td>136.541</td><td>45</td><td>testing</td></tr><tr><td>23</td><td>osterreichring</td><td>A1-Ring</td><td>Spielburg</td><td>47.2197</td><td>14.7647</td><td>678</td><td>testing</td></tr><tr><td>24</td><td>yas_marina</td><td>Yas Marina Circuit</td><td>Abu Dhabi</td><td>24.4672</td><td>54.6031</td><td>3</td><td>testing</td></tr><tr><td>25</td><td>galvez</td><td>Autódromo Juan y Oscar Gálvez</td><td>Buenos Aires</td><td>-34.6943</td><td>-58.4593</td><td>8</td><td>testing</td></tr><tr><td>26</td><td>jerez</td><td>Circuito de Jerez</td><td>Jerez de la Frontera</td><td>36.7083</td><td>-6.03417</td><td>37</td><td>testing</td></tr><tr><td>27</td><td>estoril</td><td>Autódromo do Estoril</td><td>Estoril</td><td>38.7506</td><td>-9.39417</td><td>130</td><td>testing</td></tr><tr><td>28</td><td>okayama</td><td>Okayama International Circuit</td><td>Okayama</td><td>34.915</td><td>134.221</td><td>266</td><td>testing</td></tr><tr><td>29</td><td>adelaide</td><td>Adelaide Street Circuit</td><td>Adelaide</td><td>-34.9272</td><td>138.617</td><td>58</td><td>testing</td></tr><tr><td>30</td><td>kyalami</td><td>Kyalami</td><td>Midrand</td><td>-25.9894</td><td>28.0767</td><td>1460</td><td>testing</td></tr><tr><td>31</td><td>donington</td><td>Donington Park</td><td>Castle Donington</td><td>52.8306</td><td>-1.37528</td><td>88</td><td>testing</td></tr><tr><td>32</td><td>rodriguez</td><td>Autódromo Hermanos Rodríguez</td><td>Mexico City</td><td>19.4042</td><td>-99.0907</td><td>2227</td><td>testing</td></tr><tr><td>33</td><td>phoenix</td><td>Phoenix street circuit</td><td>Phoenix</td><td>33.4479</td><td>-112.075</td><td>345</td><td>testing</td></tr><tr><td>34</td><td>ricard</td><td>Circuit Paul Ricard</td><td>Le Castellet</td><td>43.2506</td><td>5.79167</td><td>432</td><td>testing</td></tr><tr><td>35</td><td>yeongam</td><td>Korean International Circuit</td><td>Yeongam County</td><td>34.7333</td><td>126.417</td><td>0</td><td>testing</td></tr><tr><td>36</td><td>jacarepagua</td><td>Autódromo Internacional Nelson Piquet</td><td>Rio de Janeiro</td><td>-22.9756</td><td>-43.395</td><td>1126</td><td>testing</td></tr><tr><td>37</td><td>detroit</td><td>Detroit Street Circuit</td><td>Detroit</td><td>42.3298</td><td>-83.0401</td><td>177</td><td>testing</td></tr><tr><td>38</td><td>brands_hatch</td><td>Brands Hatch</td><td>Kent</td><td>51.3569</td><td>0.263056</td><td>145</td><td>testing</td></tr><tr><td>39</td><td>zandvoort</td><td>Circuit Park Zandvoort</td><td>Zandvoort</td><td>52.3888</td><td>4.54092</td><td>6</td><td>testing</td></tr><tr><td>40</td><td>zolder</td><td>Zolder</td><td>Heusden-Zolder</td><td>50.9894</td><td>5.25694</td><td>36</td><td>testing</td></tr><tr><td>41</td><td>dijon</td><td>Dijon-Prenois</td><td>Dijon</td><td>47.3625</td><td>4.89913</td><td>484</td><td>testing</td></tr><tr><td>42</td><td>dallas</td><td>Fair Park</td><td>Dallas</td><td>32.7774</td><td>-96.7587</td><td>139</td><td>testing</td></tr><tr><td>43</td><td>long_beach</td><td>Long Beach</td><td>California</td><td>33.7651</td><td>-118.189</td><td>12</td><td>testing</td></tr><tr><td>44</td><td>las_vegas</td><td>Las Vegas Street Circuit</td><td>Nevada</td><td>36.1162</td><td>-115.174</td><td>639</td><td>testing</td></tr><tr><td>45</td><td>jarama</td><td>Jarama</td><td>Madrid</td><td>40.6171</td><td>-3.58558</td><td>609</td><td>testing</td></tr><tr><td>46</td><td>watkins_glen</td><td>Watkins Glen</td><td>New York State</td><td>42.3369</td><td>-76.9272</td><td>485</td><td>testing</td></tr><tr><td>47</td><td>anderstorp</td><td>Scandinavian Raceway</td><td>Anderstorp</td><td>57.2653</td><td>13.6042</td><td>153</td><td>testing</td></tr><tr><td>48</td><td>mosport</td><td>Mosport International Raceway</td><td>Ontario</td><td>44.0481</td><td>-78.6756</td><td>332</td><td>testing</td></tr><tr><td>49</td><td>montjuic</td><td>Montjuïc</td><td>Barcelona</td><td>41.3664</td><td>2.15167</td><td>79</td><td>testing</td></tr><tr><td>50</td><td>nivelles</td><td>Nivelles-Baulers</td><td>Brussels</td><td>50.6211</td><td>4.32694</td><td>139</td><td>testing</td></tr><tr><td>51</td><td>charade</td><td>Charade Circuit</td><td>Clermont-Ferrand</td><td>45.7472</td><td>3.03889</td><td>790</td><td>testing</td></tr><tr><td>52</td><td>tremblant</td><td>Circuit Mont-Tremblant</td><td>Quebec</td><td>46.1877</td><td>-74.6099</td><td>214</td><td>testing</td></tr><tr><td>53</td><td>essarts</td><td>Rouen-Les-Essarts</td><td>Rouen</td><td>49.3306</td><td>1.00458</td><td>81</td><td>testing</td></tr><tr><td>54</td><td>lemans</td><td>Le Mans</td><td>Le Mans</td><td>47.95</td><td>0.224231</td><td>67</td><td>testing</td></tr><tr><td>55</td><td>reims</td><td>Reims-Gueux</td><td>Reims</td><td>49.2542</td><td>3.93083</td><td>88</td><td>testing</td></tr><tr><td>56</td><td>george</td><td>Prince George Circuit</td><td>Eastern Cape Province</td><td>-33.0486</td><td>27.8736</td><td>15</td><td>testing</td></tr><tr><td>57</td><td>zeltweg</td><td>Zeltweg</td><td>Styria</td><td>47.2039</td><td>14.7478</td><td>676</td><td>testing</td></tr><tr><td>58</td><td>aintree</td><td>Aintree</td><td>Liverpool</td><td>53.4769</td><td>-2.94056</td><td>20</td><td>testing</td></tr><tr><td>59</td><td>boavista</td><td>Circuito da Boavista</td><td>Oporto</td><td>41.1705</td><td>-8.67325</td><td>28</td><td>testing</td></tr><tr><td>60</td><td>riverside</td><td>Riverside International Raceway</td><td>California</td><td>33.937</td><td>-117.273</td><td>470</td><td>testing</td></tr><tr><td>61</td><td>avus</td><td>AVUS</td><td>Berlin</td><td>52.4806</td><td>13.2514</td><td>53</td><td>testing</td></tr><tr><td>62</td><td>monsanto</td><td>Monsanto Park Circuit</td><td>Lisbon</td><td>38.7197</td><td>-9.20306</td><td>158</td><td>testing</td></tr><tr><td>63</td><td>sebring</td><td>Sebring International Raceway</td><td>Florida</td><td>27.4547</td><td>-81.3483</td><td>18</td><td>testing</td></tr><tr><td>64</td><td>ain-diab</td><td>Ain Diab</td><td>Casablanca</td><td>33.5786</td><td>-7.6875</td><td>19</td><td>testing</td></tr><tr><td>65</td><td>pescara</td><td>Pescara Circuit</td><td>Pescara</td><td>42.475</td><td>14.1508</td><td>129</td><td>testing</td></tr><tr><td>66</td><td>bremgarten</td><td>Circuit Bremgarten</td><td>Bern</td><td>46.9589</td><td>7.40194</td><td>551</td><td>testing</td></tr><tr><td>67</td><td>pedralbes</td><td>Circuit de Pedralbes</td><td>Barcelona</td><td>41.3903</td><td>2.11667</td><td>85</td><td>testing</td></tr><tr><td>68</td><td>buddh</td><td>Buddh International Circuit</td><td>Uttar Pradesh</td><td>28.3487</td><td>77.5331</td><td>194</td><td>testing</td></tr><tr><td>69</td><td>americas</td><td>Circuit of the Americas</td><td>Austin</td><td>30.1328</td><td>-97.6411</td><td>161</td><td>testing</td></tr><tr><td>70</td><td>red_bull_ring</td><td>Red Bull Ring</td><td>Spielburg</td><td>47.2197</td><td>14.7647</td><td>678</td><td>testing</td></tr><tr><td>71</td><td>sochi</td><td>Sochi Autodrom</td><td>Sochi</td><td>43.4057</td><td>39.9578</td><td>2</td><td>testing</td></tr><tr><td>72</td><td>port_imperial</td><td>Port Imperial Street Circuit</td><td>New Jersey</td><td>40.7769</td><td>-74.0111</td><td>4</td><td>testing</td></tr><tr><td>73</td><td>BAK</td><td>Baku City Circuit</td><td>Baku</td><td>40.3725</td><td>49.8533</td><td>-7</td><td>testing</td></tr><tr><td>74</td><td>hanoi</td><td>Hanoi Street Circuit</td><td>Hanoi</td><td>21.0166</td><td>105.766</td><td>9</td><td>testing</td></tr><tr><td>75</td><td>portimao</td><td>Autódromo Internacional do Algarve</td><td>Portimão</td><td>37.227</td><td>-8.6267</td><td>108</td><td>testing</td></tr><tr><td>76</td><td>mugello</td><td>Autodromo Internazionale del Mugello</td><td>Mugello</td><td>43.9975</td><td>11.3719</td><td>255</td><td>testing</td></tr><tr><td>77</td><td>jeddah</td><td>Jeddah Street Circuit</td><td>Jeddah</td><td>21.5433</td><td>39.1728</td><td>15</td><td>testing</td></tr></tbody></table></div>"
      ]
     },
     "metadata": {
      "application/vnd.databricks.v1+output": {
       "addedWidgets": {},
       "aggData": [],
       "aggError": "",
       "aggOverflow": false,
       "aggSchema": [],
       "aggSeriesLimitReached": false,
       "aggType": "",
       "arguments": {},
       "columnCustomDisplayInfos": {},
       "data": [
        [
         1,
         "albert_park",
         "Albert Park Grand Prix Circuit",
         "Melbourne",
         "-37.8497",
         "144.968",
         10,
         "testing"
        ],
        [
         2,
         "sepang",
         "Sepang International Circuit",
         "Kuala Lumpur",
         "2.76083",
         "101.738",
         18,
         "testing"
        ],
        [
         3,
         "bahrain",
         "Bahrain International Circuit",
         "Sakhir",
         "26.0325",
         "50.5106",
         7,
         "testing"
        ],
        [
         4,
         "catalunya",
         "Circuit de Barcelona-Catalunya",
         "Montmeló",
         "41.57",
         "2.26111",
         109,
         "testing"
        ],
        [
         5,
         "istanbul",
         "Istanbul Park",
         "Istanbul",
         "40.9517",
         "29.405",
         130,
         "testing"
        ],
        [
         6,
         "monaco",
         "Circuit de Monaco",
         "Monte-Carlo",
         "43.7347",
         "7.42056",
         7,
         "testing"
        ],
        [
         7,
         "villeneuve",
         "Circuit Gilles Villeneuve",
         "Montreal",
         "45.5",
         "-73.5228",
         13,
         "testing"
        ],
        [
         8,
         "magny_cours",
         "Circuit de Nevers Magny-Cours",
         "Magny Cours",
         "46.8642",
         "3.16361",
         228,
         "testing"
        ],
        [
         9,
         "silverstone",
         "Silverstone Circuit",
         "Silverstone",
         "52.0786",
         "-1.01694",
         153,
         "testing"
        ],
        [
         10,
         "hockenheimring",
         "Hockenheimring",
         "Hockenheim",
         "49.3278",
         "8.56583",
         103,
         "testing"
        ],
        [
         11,
         "hungaroring",
         "Hungaroring",
         "Budapest",
         "47.5789",
         "19.2486",
         264,
         "testing"
        ],
        [
         12,
         "valencia",
         "Valencia Street Circuit",
         "Valencia",
         "39.4589",
         "-0.331667",
         4,
         "testing"
        ],
        [
         13,
         "spa",
         "Circuit de Spa-Francorchamps",
         "Spa",
         "50.4372",
         "5.97139",
         401,
         "testing"
        ],
        [
         14,
         "monza",
         "Autodromo Nazionale di Monza",
         "Monza",
         "45.6156",
         "9.28111",
         162,
         "testing"
        ],
        [
         15,
         "marina_bay",
         "Marina Bay Street Circuit",
         "Marina Bay",
         "1.2914",
         "103.864",
         18,
         "testing"
        ],
        [
         16,
         "fuji",
         "Fuji Speedway",
         "Oyama",
         "35.3717",
         "138.927",
         583,
         "testing"
        ],
        [
         17,
         "shanghai",
         "Shanghai International Circuit",
         "Shanghai",
         "31.3389",
         "121.22",
         5,
         "testing"
        ],
        [
         18,
         "interlagos",
         "Autódromo José Carlos Pace",
         "São Paulo",
         "-23.7036",
         "-46.6997",
         785,
         "testing"
        ],
        [
         19,
         "indianapolis",
         "Indianapolis Motor Speedway",
         "Indianapolis",
         "39.795",
         "-86.2347",
         223,
         "testing"
        ],
        [
         20,
         "nurburgring",
         "Nürburgring",
         "Nürburg",
         "50.3356",
         "6.9475",
         578,
         "testing"
        ],
        [
         21,
         "imola",
         "Autodromo Enzo e Dino Ferrari",
         "Imola",
         "44.3439",
         "11.7167",
         37,
         "testing"
        ],
        [
         22,
         "suzuka",
         "Suzuka Circuit",
         "Suzuka",
         "34.8431",
         "136.541",
         45,
         "testing"
        ],
        [
         23,
         "osterreichring",
         "A1-Ring",
         "Spielburg",
         "47.2197",
         "14.7647",
         678,
         "testing"
        ],
        [
         24,
         "yas_marina",
         "Yas Marina Circuit",
         "Abu Dhabi",
         "24.4672",
         "54.6031",
         3,
         "testing"
        ],
        [
         25,
         "galvez",
         "Autódromo Juan y Oscar Gálvez",
         "Buenos Aires",
         "-34.6943",
         "-58.4593",
         8,
         "testing"
        ],
        [
         26,
         "jerez",
         "Circuito de Jerez",
         "Jerez de la Frontera",
         "36.7083",
         "-6.03417",
         37,
         "testing"
        ],
        [
         27,
         "estoril",
         "Autódromo do Estoril",
         "Estoril",
         "38.7506",
         "-9.39417",
         130,
         "testing"
        ],
        [
         28,
         "okayama",
         "Okayama International Circuit",
         "Okayama",
         "34.915",
         "134.221",
         266,
         "testing"
        ],
        [
         29,
         "adelaide",
         "Adelaide Street Circuit",
         "Adelaide",
         "-34.9272",
         "138.617",
         58,
         "testing"
        ],
        [
         30,
         "kyalami",
         "Kyalami",
         "Midrand",
         "-25.9894",
         "28.0767",
         1460,
         "testing"
        ],
        [
         31,
         "donington",
         "Donington Park",
         "Castle Donington",
         "52.8306",
         "-1.37528",
         88,
         "testing"
        ],
        [
         32,
         "rodriguez",
         "Autódromo Hermanos Rodríguez",
         "Mexico City",
         "19.4042",
         "-99.0907",
         2227,
         "testing"
        ],
        [
         33,
         "phoenix",
         "Phoenix street circuit",
         "Phoenix",
         "33.4479",
         "-112.075",
         345,
         "testing"
        ],
        [
         34,
         "ricard",
         "Circuit Paul Ricard",
         "Le Castellet",
         "43.2506",
         "5.79167",
         432,
         "testing"
        ],
        [
         35,
         "yeongam",
         "Korean International Circuit",
         "Yeongam County",
         "34.7333",
         "126.417",
         0,
         "testing"
        ],
        [
         36,
         "jacarepagua",
         "Autódromo Internacional Nelson Piquet",
         "Rio de Janeiro",
         "-22.9756",
         "-43.395",
         1126,
         "testing"
        ],
        [
         37,
         "detroit",
         "Detroit Street Circuit",
         "Detroit",
         "42.3298",
         "-83.0401",
         177,
         "testing"
        ],
        [
         38,
         "brands_hatch",
         "Brands Hatch",
         "Kent",
         "51.3569",
         "0.263056",
         145,
         "testing"
        ],
        [
         39,
         "zandvoort",
         "Circuit Park Zandvoort",
         "Zandvoort",
         "52.3888",
         "4.54092",
         6,
         "testing"
        ],
        [
         40,
         "zolder",
         "Zolder",
         "Heusden-Zolder",
         "50.9894",
         "5.25694",
         36,
         "testing"
        ],
        [
         41,
         "dijon",
         "Dijon-Prenois",
         "Dijon",
         "47.3625",
         "4.89913",
         484,
         "testing"
        ],
        [
         42,
         "dallas",
         "Fair Park",
         "Dallas",
         "32.7774",
         "-96.7587",
         139,
         "testing"
        ],
        [
         43,
         "long_beach",
         "Long Beach",
         "California",
         "33.7651",
         "-118.189",
         12,
         "testing"
        ],
        [
         44,
         "las_vegas",
         "Las Vegas Street Circuit",
         "Nevada",
         "36.1162",
         "-115.174",
         639,
         "testing"
        ],
        [
         45,
         "jarama",
         "Jarama",
         "Madrid",
         "40.6171",
         "-3.58558",
         609,
         "testing"
        ],
        [
         46,
         "watkins_glen",
         "Watkins Glen",
         "New York State",
         "42.3369",
         "-76.9272",
         485,
         "testing"
        ],
        [
         47,
         "anderstorp",
         "Scandinavian Raceway",
         "Anderstorp",
         "57.2653",
         "13.6042",
         153,
         "testing"
        ],
        [
         48,
         "mosport",
         "Mosport International Raceway",
         "Ontario",
         "44.0481",
         "-78.6756",
         332,
         "testing"
        ],
        [
         49,
         "montjuic",
         "Montjuïc",
         "Barcelona",
         "41.3664",
         "2.15167",
         79,
         "testing"
        ],
        [
         50,
         "nivelles",
         "Nivelles-Baulers",
         "Brussels",
         "50.6211",
         "4.32694",
         139,
         "testing"
        ],
        [
         51,
         "charade",
         "Charade Circuit",
         "Clermont-Ferrand",
         "45.7472",
         "3.03889",
         790,
         "testing"
        ],
        [
         52,
         "tremblant",
         "Circuit Mont-Tremblant",
         "Quebec",
         "46.1877",
         "-74.6099",
         214,
         "testing"
        ],
        [
         53,
         "essarts",
         "Rouen-Les-Essarts",
         "Rouen",
         "49.3306",
         "1.00458",
         81,
         "testing"
        ],
        [
         54,
         "lemans",
         "Le Mans",
         "Le Mans",
         "47.95",
         "0.224231",
         67,
         "testing"
        ],
        [
         55,
         "reims",
         "Reims-Gueux",
         "Reims",
         "49.2542",
         "3.93083",
         88,
         "testing"
        ],
        [
         56,
         "george",
         "Prince George Circuit",
         "Eastern Cape Province",
         "-33.0486",
         "27.8736",
         15,
         "testing"
        ],
        [
         57,
         "zeltweg",
         "Zeltweg",
         "Styria",
         "47.2039",
         "14.7478",
         676,
         "testing"
        ],
        [
         58,
         "aintree",
         "Aintree",
         "Liverpool",
         "53.4769",
         "-2.94056",
         20,
         "testing"
        ],
        [
         59,
         "boavista",
         "Circuito da Boavista",
         "Oporto",
         "41.1705",
         "-8.67325",
         28,
         "testing"
        ],
        [
         60,
         "riverside",
         "Riverside International Raceway",
         "California",
         "33.937",
         "-117.273",
         470,
         "testing"
        ],
        [
         61,
         "avus",
         "AVUS",
         "Berlin",
         "52.4806",
         "13.2514",
         53,
         "testing"
        ],
        [
         62,
         "monsanto",
         "Monsanto Park Circuit",
         "Lisbon",
         "38.7197",
         "-9.20306",
         158,
         "testing"
        ],
        [
         63,
         "sebring",
         "Sebring International Raceway",
         "Florida",
         "27.4547",
         "-81.3483",
         18,
         "testing"
        ],
        [
         64,
         "ain-diab",
         "Ain Diab",
         "Casablanca",
         "33.5786",
         "-7.6875",
         19,
         "testing"
        ],
        [
         65,
         "pescara",
         "Pescara Circuit",
         "Pescara",
         "42.475",
         "14.1508",
         129,
         "testing"
        ],
        [
         66,
         "bremgarten",
         "Circuit Bremgarten",
         "Bern",
         "46.9589",
         "7.40194",
         551,
         "testing"
        ],
        [
         67,
         "pedralbes",
         "Circuit de Pedralbes",
         "Barcelona",
         "41.3903",
         "2.11667",
         85,
         "testing"
        ],
        [
         68,
         "buddh",
         "Buddh International Circuit",
         "Uttar Pradesh",
         "28.3487",
         "77.5331",
         194,
         "testing"
        ],
        [
         69,
         "americas",
         "Circuit of the Americas",
         "Austin",
         "30.1328",
         "-97.6411",
         161,
         "testing"
        ],
        [
         70,
         "red_bull_ring",
         "Red Bull Ring",
         "Spielburg",
         "47.2197",
         "14.7647",
         678,
         "testing"
        ],
        [
         71,
         "sochi",
         "Sochi Autodrom",
         "Sochi",
         "43.4057",
         "39.9578",
         2,
         "testing"
        ],
        [
         72,
         "port_imperial",
         "Port Imperial Street Circuit",
         "New Jersey",
         "40.7769",
         "-74.0111",
         4,
         "testing"
        ],
        [
         73,
         "BAK",
         "Baku City Circuit",
         "Baku",
         "40.3725",
         "49.8533",
         -7,
         "testing"
        ],
        [
         74,
         "hanoi",
         "Hanoi Street Circuit",
         "Hanoi",
         "21.0166",
         "105.766",
         9,
         "testing"
        ],
        [
         75,
         "portimao",
         "Autódromo Internacional do Algarve",
         "Portimão",
         "37.227",
         "-8.6267",
         108,
         "testing"
        ],
        [
         76,
         "mugello",
         "Autodromo Internazionale del Mugello",
         "Mugello",
         "43.9975",
         "11.3719",
         255,
         "testing"
        ],
        [
         77,
         "jeddah",
         "Jeddah Street Circuit",
         "Jeddah",
         "21.5433",
         "39.1728",
         15,
         "testing"
        ]
       ],
       "datasetInfos": [],
       "dbfsResultPath": null,
       "isJsonSchema": true,
       "metadata": {},
       "overflow": false,
       "plotOptions": {
        "customPlotOptions": {},
        "displayType": "table",
        "pivotAggregation": null,
        "pivotColumns": null,
        "xColumns": null,
        "yColumns": null
       },
       "removedWidgets": [],
       "schema": [
        {
         "metadata": "{}",
         "name": "circuit_id",
         "type": "\"integer\""
        },
        {
         "metadata": "{}",
         "name": "circuitRef",
         "type": "\"string\""
        },
        {
         "metadata": "{}",
         "name": "name",
         "type": "\"string\""
        },
        {
         "metadata": "{}",
         "name": "race_location",
         "type": "\"string\""
        },
        {
         "metadata": "{}",
         "name": "latitude",
         "type": "\"string\""
        },
        {
         "metadata": "{}",
         "name": "longitude",
         "type": "\"string\""
        },
        {
         "metadata": "{}",
         "name": "altitude",
         "type": "\"integer\""
        },
        {
         "metadata": "{}",
         "name": "data_source",
         "type": "\"string\""
        }
       ],
       "type": "table"
      }
     },
     "output_type": "display_data"
    }
   ],
   "source": [
    "display(circuits_renamed_df)"
   ]
  },
  {
   "cell_type": "markdown",
   "metadata": {
    "application/vnd.databricks.v1+cell": {
     "cellMetadata": {},
     "inputWidgets": {},
     "nuid": "24b71931-65f5-4d79-b1b6-4e4a584adce2",
     "showTitle": false,
     "title": ""
    }
   },
   "source": [
    "### Add Columns"
   ]
  },
  {
   "cell_type": "code",
   "execution_count": 0,
   "metadata": {
    "application/vnd.databricks.v1+cell": {
     "cellMetadata": {
      "byteLimit": 2048000,
      "rowLimit": 10000
     },
     "inputWidgets": {},
     "nuid": "b5fda786-5826-41fc-a6a9-e89bc36d9405",
     "showTitle": false,
     "title": ""
    }
   },
   "outputs": [],
   "source": [
    "from pyspark.sql.functions import current_timestamp,lit"
   ]
  },
  {
   "cell_type": "code",
   "execution_count": 0,
   "metadata": {
    "application/vnd.databricks.v1+cell": {
     "cellMetadata": {
      "byteLimit": 2048000,
      "rowLimit": 10000
     },
     "inputWidgets": {},
     "nuid": "7b42a11a-e76a-43ad-8f89-6afeaba86119",
     "showTitle": false,
     "title": ""
    }
   },
   "outputs": [],
   "source": [
    "circuits_final_df = add_ingestion_date(circuits_renamed_df).withColumn(\"ingestion_date\",current_timestamp()).withColumn(\"env\",lit(\"Production\"))"
   ]
  },
  {
   "cell_type": "code",
   "execution_count": 0,
   "metadata": {
    "application/vnd.databricks.v1+cell": {
     "cellMetadata": {
      "byteLimit": 2048000,
      "rowLimit": 10000
     },
     "inputWidgets": {},
     "nuid": "0e9aba89-d255-4c1a-aeec-23e65604e165",
     "showTitle": false,
     "title": ""
    }
   },
   "outputs": [
    {
     "output_type": "display_data",
     "data": {
      "text/html": [
       "<style scoped>\n",
       "  .table-result-container {\n",
       "    max-height: 300px;\n",
       "    overflow: auto;\n",
       "  }\n",
       "  table, th, td {\n",
       "    border: 1px solid black;\n",
       "    border-collapse: collapse;\n",
       "  }\n",
       "  th, td {\n",
       "    padding: 5px;\n",
       "  }\n",
       "  th {\n",
       "    text-align: left;\n",
       "  }\n",
       "</style><div class='table-result-container'><table class='table-result'><thead style='background-color: white'><tr><th>circuit_id</th><th>circuitRef</th><th>name</th><th>race_location</th><th>latitude</th><th>longitude</th><th>altitude</th><th>ingestion_date</th><th>env</th></tr></thead><tbody><tr><td>1</td><td>albert_park</td><td>Albert Park Grand Prix Circuit</td><td>Melbourne</td><td>-37.8497</td><td>144.968</td><td>10</td><td>2023-10-17T18:07:32.261+0000</td><td>Production</td></tr><tr><td>2</td><td>sepang</td><td>Sepang International Circuit</td><td>Kuala Lumpur</td><td>2.76083</td><td>101.738</td><td>18</td><td>2023-10-17T18:07:32.261+0000</td><td>Production</td></tr><tr><td>3</td><td>bahrain</td><td>Bahrain International Circuit</td><td>Sakhir</td><td>26.0325</td><td>50.5106</td><td>7</td><td>2023-10-17T18:07:32.261+0000</td><td>Production</td></tr><tr><td>4</td><td>catalunya</td><td>Circuit de Barcelona-Catalunya</td><td>Montmeló</td><td>41.57</td><td>2.26111</td><td>109</td><td>2023-10-17T18:07:32.261+0000</td><td>Production</td></tr><tr><td>5</td><td>istanbul</td><td>Istanbul Park</td><td>Istanbul</td><td>40.9517</td><td>29.405</td><td>130</td><td>2023-10-17T18:07:32.261+0000</td><td>Production</td></tr><tr><td>6</td><td>monaco</td><td>Circuit de Monaco</td><td>Monte-Carlo</td><td>43.7347</td><td>7.42056</td><td>7</td><td>2023-10-17T18:07:32.261+0000</td><td>Production</td></tr><tr><td>7</td><td>villeneuve</td><td>Circuit Gilles Villeneuve</td><td>Montreal</td><td>45.5</td><td>-73.5228</td><td>13</td><td>2023-10-17T18:07:32.261+0000</td><td>Production</td></tr><tr><td>8</td><td>magny_cours</td><td>Circuit de Nevers Magny-Cours</td><td>Magny Cours</td><td>46.8642</td><td>3.16361</td><td>228</td><td>2023-10-17T18:07:32.261+0000</td><td>Production</td></tr><tr><td>9</td><td>silverstone</td><td>Silverstone Circuit</td><td>Silverstone</td><td>52.0786</td><td>-1.01694</td><td>153</td><td>2023-10-17T18:07:32.261+0000</td><td>Production</td></tr><tr><td>10</td><td>hockenheimring</td><td>Hockenheimring</td><td>Hockenheim</td><td>49.3278</td><td>8.56583</td><td>103</td><td>2023-10-17T18:07:32.261+0000</td><td>Production</td></tr><tr><td>11</td><td>hungaroring</td><td>Hungaroring</td><td>Budapest</td><td>47.5789</td><td>19.2486</td><td>264</td><td>2023-10-17T18:07:32.261+0000</td><td>Production</td></tr><tr><td>12</td><td>valencia</td><td>Valencia Street Circuit</td><td>Valencia</td><td>39.4589</td><td>-0.331667</td><td>4</td><td>2023-10-17T18:07:32.261+0000</td><td>Production</td></tr><tr><td>13</td><td>spa</td><td>Circuit de Spa-Francorchamps</td><td>Spa</td><td>50.4372</td><td>5.97139</td><td>401</td><td>2023-10-17T18:07:32.261+0000</td><td>Production</td></tr><tr><td>14</td><td>monza</td><td>Autodromo Nazionale di Monza</td><td>Monza</td><td>45.6156</td><td>9.28111</td><td>162</td><td>2023-10-17T18:07:32.261+0000</td><td>Production</td></tr><tr><td>15</td><td>marina_bay</td><td>Marina Bay Street Circuit</td><td>Marina Bay</td><td>1.2914</td><td>103.864</td><td>18</td><td>2023-10-17T18:07:32.261+0000</td><td>Production</td></tr><tr><td>16</td><td>fuji</td><td>Fuji Speedway</td><td>Oyama</td><td>35.3717</td><td>138.927</td><td>583</td><td>2023-10-17T18:07:32.261+0000</td><td>Production</td></tr><tr><td>17</td><td>shanghai</td><td>Shanghai International Circuit</td><td>Shanghai</td><td>31.3389</td><td>121.22</td><td>5</td><td>2023-10-17T18:07:32.261+0000</td><td>Production</td></tr><tr><td>18</td><td>interlagos</td><td>Autódromo José Carlos Pace</td><td>São Paulo</td><td>-23.7036</td><td>-46.6997</td><td>785</td><td>2023-10-17T18:07:32.261+0000</td><td>Production</td></tr><tr><td>19</td><td>indianapolis</td><td>Indianapolis Motor Speedway</td><td>Indianapolis</td><td>39.795</td><td>-86.2347</td><td>223</td><td>2023-10-17T18:07:32.261+0000</td><td>Production</td></tr><tr><td>20</td><td>nurburgring</td><td>Nürburgring</td><td>Nürburg</td><td>50.3356</td><td>6.9475</td><td>578</td><td>2023-10-17T18:07:32.261+0000</td><td>Production</td></tr><tr><td>21</td><td>imola</td><td>Autodromo Enzo e Dino Ferrari</td><td>Imola</td><td>44.3439</td><td>11.7167</td><td>37</td><td>2023-10-17T18:07:32.261+0000</td><td>Production</td></tr><tr><td>22</td><td>suzuka</td><td>Suzuka Circuit</td><td>Suzuka</td><td>34.8431</td><td>136.541</td><td>45</td><td>2023-10-17T18:07:32.261+0000</td><td>Production</td></tr><tr><td>23</td><td>osterreichring</td><td>A1-Ring</td><td>Spielburg</td><td>47.2197</td><td>14.7647</td><td>678</td><td>2023-10-17T18:07:32.261+0000</td><td>Production</td></tr><tr><td>24</td><td>yas_marina</td><td>Yas Marina Circuit</td><td>Abu Dhabi</td><td>24.4672</td><td>54.6031</td><td>3</td><td>2023-10-17T18:07:32.261+0000</td><td>Production</td></tr><tr><td>25</td><td>galvez</td><td>Autódromo Juan y Oscar Gálvez</td><td>Buenos Aires</td><td>-34.6943</td><td>-58.4593</td><td>8</td><td>2023-10-17T18:07:32.261+0000</td><td>Production</td></tr><tr><td>26</td><td>jerez</td><td>Circuito de Jerez</td><td>Jerez de la Frontera</td><td>36.7083</td><td>-6.03417</td><td>37</td><td>2023-10-17T18:07:32.261+0000</td><td>Production</td></tr><tr><td>27</td><td>estoril</td><td>Autódromo do Estoril</td><td>Estoril</td><td>38.7506</td><td>-9.39417</td><td>130</td><td>2023-10-17T18:07:32.261+0000</td><td>Production</td></tr><tr><td>28</td><td>okayama</td><td>Okayama International Circuit</td><td>Okayama</td><td>34.915</td><td>134.221</td><td>266</td><td>2023-10-17T18:07:32.261+0000</td><td>Production</td></tr><tr><td>29</td><td>adelaide</td><td>Adelaide Street Circuit</td><td>Adelaide</td><td>-34.9272</td><td>138.617</td><td>58</td><td>2023-10-17T18:07:32.261+0000</td><td>Production</td></tr><tr><td>30</td><td>kyalami</td><td>Kyalami</td><td>Midrand</td><td>-25.9894</td><td>28.0767</td><td>1460</td><td>2023-10-17T18:07:32.261+0000</td><td>Production</td></tr><tr><td>31</td><td>donington</td><td>Donington Park</td><td>Castle Donington</td><td>52.8306</td><td>-1.37528</td><td>88</td><td>2023-10-17T18:07:32.261+0000</td><td>Production</td></tr><tr><td>32</td><td>rodriguez</td><td>Autódromo Hermanos Rodríguez</td><td>Mexico City</td><td>19.4042</td><td>-99.0907</td><td>2227</td><td>2023-10-17T18:07:32.261+0000</td><td>Production</td></tr><tr><td>33</td><td>phoenix</td><td>Phoenix street circuit</td><td>Phoenix</td><td>33.4479</td><td>-112.075</td><td>345</td><td>2023-10-17T18:07:32.261+0000</td><td>Production</td></tr><tr><td>34</td><td>ricard</td><td>Circuit Paul Ricard</td><td>Le Castellet</td><td>43.2506</td><td>5.79167</td><td>432</td><td>2023-10-17T18:07:32.261+0000</td><td>Production</td></tr><tr><td>35</td><td>yeongam</td><td>Korean International Circuit</td><td>Yeongam County</td><td>34.7333</td><td>126.417</td><td>0</td><td>2023-10-17T18:07:32.261+0000</td><td>Production</td></tr><tr><td>36</td><td>jacarepagua</td><td>Autódromo Internacional Nelson Piquet</td><td>Rio de Janeiro</td><td>-22.9756</td><td>-43.395</td><td>1126</td><td>2023-10-17T18:07:32.261+0000</td><td>Production</td></tr><tr><td>37</td><td>detroit</td><td>Detroit Street Circuit</td><td>Detroit</td><td>42.3298</td><td>-83.0401</td><td>177</td><td>2023-10-17T18:07:32.261+0000</td><td>Production</td></tr><tr><td>38</td><td>brands_hatch</td><td>Brands Hatch</td><td>Kent</td><td>51.3569</td><td>0.263056</td><td>145</td><td>2023-10-17T18:07:32.261+0000</td><td>Production</td></tr><tr><td>39</td><td>zandvoort</td><td>Circuit Park Zandvoort</td><td>Zandvoort</td><td>52.3888</td><td>4.54092</td><td>6</td><td>2023-10-17T18:07:32.261+0000</td><td>Production</td></tr><tr><td>40</td><td>zolder</td><td>Zolder</td><td>Heusden-Zolder</td><td>50.9894</td><td>5.25694</td><td>36</td><td>2023-10-17T18:07:32.261+0000</td><td>Production</td></tr><tr><td>41</td><td>dijon</td><td>Dijon-Prenois</td><td>Dijon</td><td>47.3625</td><td>4.89913</td><td>484</td><td>2023-10-17T18:07:32.261+0000</td><td>Production</td></tr><tr><td>42</td><td>dallas</td><td>Fair Park</td><td>Dallas</td><td>32.7774</td><td>-96.7587</td><td>139</td><td>2023-10-17T18:07:32.261+0000</td><td>Production</td></tr><tr><td>43</td><td>long_beach</td><td>Long Beach</td><td>California</td><td>33.7651</td><td>-118.189</td><td>12</td><td>2023-10-17T18:07:32.261+0000</td><td>Production</td></tr><tr><td>44</td><td>las_vegas</td><td>Las Vegas Street Circuit</td><td>Nevada</td><td>36.1162</td><td>-115.174</td><td>639</td><td>2023-10-17T18:07:32.261+0000</td><td>Production</td></tr><tr><td>45</td><td>jarama</td><td>Jarama</td><td>Madrid</td><td>40.6171</td><td>-3.58558</td><td>609</td><td>2023-10-17T18:07:32.261+0000</td><td>Production</td></tr><tr><td>46</td><td>watkins_glen</td><td>Watkins Glen</td><td>New York State</td><td>42.3369</td><td>-76.9272</td><td>485</td><td>2023-10-17T18:07:32.261+0000</td><td>Production</td></tr><tr><td>47</td><td>anderstorp</td><td>Scandinavian Raceway</td><td>Anderstorp</td><td>57.2653</td><td>13.6042</td><td>153</td><td>2023-10-17T18:07:32.261+0000</td><td>Production</td></tr><tr><td>48</td><td>mosport</td><td>Mosport International Raceway</td><td>Ontario</td><td>44.0481</td><td>-78.6756</td><td>332</td><td>2023-10-17T18:07:32.261+0000</td><td>Production</td></tr><tr><td>49</td><td>montjuic</td><td>Montjuïc</td><td>Barcelona</td><td>41.3664</td><td>2.15167</td><td>79</td><td>2023-10-17T18:07:32.261+0000</td><td>Production</td></tr><tr><td>50</td><td>nivelles</td><td>Nivelles-Baulers</td><td>Brussels</td><td>50.6211</td><td>4.32694</td><td>139</td><td>2023-10-17T18:07:32.261+0000</td><td>Production</td></tr><tr><td>51</td><td>charade</td><td>Charade Circuit</td><td>Clermont-Ferrand</td><td>45.7472</td><td>3.03889</td><td>790</td><td>2023-10-17T18:07:32.261+0000</td><td>Production</td></tr><tr><td>52</td><td>tremblant</td><td>Circuit Mont-Tremblant</td><td>Quebec</td><td>46.1877</td><td>-74.6099</td><td>214</td><td>2023-10-17T18:07:32.261+0000</td><td>Production</td></tr><tr><td>53</td><td>essarts</td><td>Rouen-Les-Essarts</td><td>Rouen</td><td>49.3306</td><td>1.00458</td><td>81</td><td>2023-10-17T18:07:32.261+0000</td><td>Production</td></tr><tr><td>54</td><td>lemans</td><td>Le Mans</td><td>Le Mans</td><td>47.95</td><td>0.224231</td><td>67</td><td>2023-10-17T18:07:32.261+0000</td><td>Production</td></tr><tr><td>55</td><td>reims</td><td>Reims-Gueux</td><td>Reims</td><td>49.2542</td><td>3.93083</td><td>88</td><td>2023-10-17T18:07:32.261+0000</td><td>Production</td></tr><tr><td>56</td><td>george</td><td>Prince George Circuit</td><td>Eastern Cape Province</td><td>-33.0486</td><td>27.8736</td><td>15</td><td>2023-10-17T18:07:32.261+0000</td><td>Production</td></tr><tr><td>57</td><td>zeltweg</td><td>Zeltweg</td><td>Styria</td><td>47.2039</td><td>14.7478</td><td>676</td><td>2023-10-17T18:07:32.261+0000</td><td>Production</td></tr><tr><td>58</td><td>aintree</td><td>Aintree</td><td>Liverpool</td><td>53.4769</td><td>-2.94056</td><td>20</td><td>2023-10-17T18:07:32.261+0000</td><td>Production</td></tr><tr><td>59</td><td>boavista</td><td>Circuito da Boavista</td><td>Oporto</td><td>41.1705</td><td>-8.67325</td><td>28</td><td>2023-10-17T18:07:32.261+0000</td><td>Production</td></tr><tr><td>60</td><td>riverside</td><td>Riverside International Raceway</td><td>California</td><td>33.937</td><td>-117.273</td><td>470</td><td>2023-10-17T18:07:32.261+0000</td><td>Production</td></tr><tr><td>61</td><td>avus</td><td>AVUS</td><td>Berlin</td><td>52.4806</td><td>13.2514</td><td>53</td><td>2023-10-17T18:07:32.261+0000</td><td>Production</td></tr><tr><td>62</td><td>monsanto</td><td>Monsanto Park Circuit</td><td>Lisbon</td><td>38.7197</td><td>-9.20306</td><td>158</td><td>2023-10-17T18:07:32.261+0000</td><td>Production</td></tr><tr><td>63</td><td>sebring</td><td>Sebring International Raceway</td><td>Florida</td><td>27.4547</td><td>-81.3483</td><td>18</td><td>2023-10-17T18:07:32.261+0000</td><td>Production</td></tr><tr><td>64</td><td>ain-diab</td><td>Ain Diab</td><td>Casablanca</td><td>33.5786</td><td>-7.6875</td><td>19</td><td>2023-10-17T18:07:32.261+0000</td><td>Production</td></tr><tr><td>65</td><td>pescara</td><td>Pescara Circuit</td><td>Pescara</td><td>42.475</td><td>14.1508</td><td>129</td><td>2023-10-17T18:07:32.261+0000</td><td>Production</td></tr><tr><td>66</td><td>bremgarten</td><td>Circuit Bremgarten</td><td>Bern</td><td>46.9589</td><td>7.40194</td><td>551</td><td>2023-10-17T18:07:32.261+0000</td><td>Production</td></tr><tr><td>67</td><td>pedralbes</td><td>Circuit de Pedralbes</td><td>Barcelona</td><td>41.3903</td><td>2.11667</td><td>85</td><td>2023-10-17T18:07:32.261+0000</td><td>Production</td></tr><tr><td>68</td><td>buddh</td><td>Buddh International Circuit</td><td>Uttar Pradesh</td><td>28.3487</td><td>77.5331</td><td>194</td><td>2023-10-17T18:07:32.261+0000</td><td>Production</td></tr><tr><td>69</td><td>americas</td><td>Circuit of the Americas</td><td>Austin</td><td>30.1328</td><td>-97.6411</td><td>161</td><td>2023-10-17T18:07:32.261+0000</td><td>Production</td></tr><tr><td>70</td><td>red_bull_ring</td><td>Red Bull Ring</td><td>Spielburg</td><td>47.2197</td><td>14.7647</td><td>678</td><td>2023-10-17T18:07:32.261+0000</td><td>Production</td></tr><tr><td>71</td><td>sochi</td><td>Sochi Autodrom</td><td>Sochi</td><td>43.4057</td><td>39.9578</td><td>2</td><td>2023-10-17T18:07:32.261+0000</td><td>Production</td></tr><tr><td>72</td><td>port_imperial</td><td>Port Imperial Street Circuit</td><td>New Jersey</td><td>40.7769</td><td>-74.0111</td><td>4</td><td>2023-10-17T18:07:32.261+0000</td><td>Production</td></tr><tr><td>73</td><td>BAK</td><td>Baku City Circuit</td><td>Baku</td><td>40.3725</td><td>49.8533</td><td>-7</td><td>2023-10-17T18:07:32.261+0000</td><td>Production</td></tr><tr><td>74</td><td>hanoi</td><td>Hanoi Street Circuit</td><td>Hanoi</td><td>21.0166</td><td>105.766</td><td>9</td><td>2023-10-17T18:07:32.261+0000</td><td>Production</td></tr><tr><td>75</td><td>portimao</td><td>Autódromo Internacional do Algarve</td><td>Portimão</td><td>37.227</td><td>-8.6267</td><td>108</td><td>2023-10-17T18:07:32.261+0000</td><td>Production</td></tr><tr><td>76</td><td>mugello</td><td>Autodromo Internazionale del Mugello</td><td>Mugello</td><td>43.9975</td><td>11.3719</td><td>255</td><td>2023-10-17T18:07:32.261+0000</td><td>Production</td></tr><tr><td>77</td><td>jeddah</td><td>Jeddah Street Circuit</td><td>Jeddah</td><td>21.5433</td><td>39.1728</td><td>15</td><td>2023-10-17T18:07:32.261+0000</td><td>Production</td></tr></tbody></table></div>"
      ]
     },
     "metadata": {
      "application/vnd.databricks.v1+output": {
       "addedWidgets": {},
       "aggData": [],
       "aggError": "",
       "aggOverflow": false,
       "aggSchema": [],
       "aggSeriesLimitReached": false,
       "aggType": "",
       "arguments": {},
       "columnCustomDisplayInfos": {},
       "data": [
        [
         1,
         "albert_park",
         "Albert Park Grand Prix Circuit",
         "Melbourne",
         "-37.8497",
         "144.968",
         10,
         "2023-10-17T18:07:32.261+0000",
         "Production"
        ],
        [
         2,
         "sepang",
         "Sepang International Circuit",
         "Kuala Lumpur",
         "2.76083",
         "101.738",
         18,
         "2023-10-17T18:07:32.261+0000",
         "Production"
        ],
        [
         3,
         "bahrain",
         "Bahrain International Circuit",
         "Sakhir",
         "26.0325",
         "50.5106",
         7,
         "2023-10-17T18:07:32.261+0000",
         "Production"
        ],
        [
         4,
         "catalunya",
         "Circuit de Barcelona-Catalunya",
         "Montmeló",
         "41.57",
         "2.26111",
         109,
         "2023-10-17T18:07:32.261+0000",
         "Production"
        ],
        [
         5,
         "istanbul",
         "Istanbul Park",
         "Istanbul",
         "40.9517",
         "29.405",
         130,
         "2023-10-17T18:07:32.261+0000",
         "Production"
        ],
        [
         6,
         "monaco",
         "Circuit de Monaco",
         "Monte-Carlo",
         "43.7347",
         "7.42056",
         7,
         "2023-10-17T18:07:32.261+0000",
         "Production"
        ],
        [
         7,
         "villeneuve",
         "Circuit Gilles Villeneuve",
         "Montreal",
         "45.5",
         "-73.5228",
         13,
         "2023-10-17T18:07:32.261+0000",
         "Production"
        ],
        [
         8,
         "magny_cours",
         "Circuit de Nevers Magny-Cours",
         "Magny Cours",
         "46.8642",
         "3.16361",
         228,
         "2023-10-17T18:07:32.261+0000",
         "Production"
        ],
        [
         9,
         "silverstone",
         "Silverstone Circuit",
         "Silverstone",
         "52.0786",
         "-1.01694",
         153,
         "2023-10-17T18:07:32.261+0000",
         "Production"
        ],
        [
         10,
         "hockenheimring",
         "Hockenheimring",
         "Hockenheim",
         "49.3278",
         "8.56583",
         103,
         "2023-10-17T18:07:32.261+0000",
         "Production"
        ],
        [
         11,
         "hungaroring",
         "Hungaroring",
         "Budapest",
         "47.5789",
         "19.2486",
         264,
         "2023-10-17T18:07:32.261+0000",
         "Production"
        ],
        [
         12,
         "valencia",
         "Valencia Street Circuit",
         "Valencia",
         "39.4589",
         "-0.331667",
         4,
         "2023-10-17T18:07:32.261+0000",
         "Production"
        ],
        [
         13,
         "spa",
         "Circuit de Spa-Francorchamps",
         "Spa",
         "50.4372",
         "5.97139",
         401,
         "2023-10-17T18:07:32.261+0000",
         "Production"
        ],
        [
         14,
         "monza",
         "Autodromo Nazionale di Monza",
         "Monza",
         "45.6156",
         "9.28111",
         162,
         "2023-10-17T18:07:32.261+0000",
         "Production"
        ],
        [
         15,
         "marina_bay",
         "Marina Bay Street Circuit",
         "Marina Bay",
         "1.2914",
         "103.864",
         18,
         "2023-10-17T18:07:32.261+0000",
         "Production"
        ],
        [
         16,
         "fuji",
         "Fuji Speedway",
         "Oyama",
         "35.3717",
         "138.927",
         583,
         "2023-10-17T18:07:32.261+0000",
         "Production"
        ],
        [
         17,
         "shanghai",
         "Shanghai International Circuit",
         "Shanghai",
         "31.3389",
         "121.22",
         5,
         "2023-10-17T18:07:32.261+0000",
         "Production"
        ],
        [
         18,
         "interlagos",
         "Autódromo José Carlos Pace",
         "São Paulo",
         "-23.7036",
         "-46.6997",
         785,
         "2023-10-17T18:07:32.261+0000",
         "Production"
        ],
        [
         19,
         "indianapolis",
         "Indianapolis Motor Speedway",
         "Indianapolis",
         "39.795",
         "-86.2347",
         223,
         "2023-10-17T18:07:32.261+0000",
         "Production"
        ],
        [
         20,
         "nurburgring",
         "Nürburgring",
         "Nürburg",
         "50.3356",
         "6.9475",
         578,
         "2023-10-17T18:07:32.261+0000",
         "Production"
        ],
        [
         21,
         "imola",
         "Autodromo Enzo e Dino Ferrari",
         "Imola",
         "44.3439",
         "11.7167",
         37,
         "2023-10-17T18:07:32.261+0000",
         "Production"
        ],
        [
         22,
         "suzuka",
         "Suzuka Circuit",
         "Suzuka",
         "34.8431",
         "136.541",
         45,
         "2023-10-17T18:07:32.261+0000",
         "Production"
        ],
        [
         23,
         "osterreichring",
         "A1-Ring",
         "Spielburg",
         "47.2197",
         "14.7647",
         678,
         "2023-10-17T18:07:32.261+0000",
         "Production"
        ],
        [
         24,
         "yas_marina",
         "Yas Marina Circuit",
         "Abu Dhabi",
         "24.4672",
         "54.6031",
         3,
         "2023-10-17T18:07:32.261+0000",
         "Production"
        ],
        [
         25,
         "galvez",
         "Autódromo Juan y Oscar Gálvez",
         "Buenos Aires",
         "-34.6943",
         "-58.4593",
         8,
         "2023-10-17T18:07:32.261+0000",
         "Production"
        ],
        [
         26,
         "jerez",
         "Circuito de Jerez",
         "Jerez de la Frontera",
         "36.7083",
         "-6.03417",
         37,
         "2023-10-17T18:07:32.261+0000",
         "Production"
        ],
        [
         27,
         "estoril",
         "Autódromo do Estoril",
         "Estoril",
         "38.7506",
         "-9.39417",
         130,
         "2023-10-17T18:07:32.261+0000",
         "Production"
        ],
        [
         28,
         "okayama",
         "Okayama International Circuit",
         "Okayama",
         "34.915",
         "134.221",
         266,
         "2023-10-17T18:07:32.261+0000",
         "Production"
        ],
        [
         29,
         "adelaide",
         "Adelaide Street Circuit",
         "Adelaide",
         "-34.9272",
         "138.617",
         58,
         "2023-10-17T18:07:32.261+0000",
         "Production"
        ],
        [
         30,
         "kyalami",
         "Kyalami",
         "Midrand",
         "-25.9894",
         "28.0767",
         1460,
         "2023-10-17T18:07:32.261+0000",
         "Production"
        ],
        [
         31,
         "donington",
         "Donington Park",
         "Castle Donington",
         "52.8306",
         "-1.37528",
         88,
         "2023-10-17T18:07:32.261+0000",
         "Production"
        ],
        [
         32,
         "rodriguez",
         "Autódromo Hermanos Rodríguez",
         "Mexico City",
         "19.4042",
         "-99.0907",
         2227,
         "2023-10-17T18:07:32.261+0000",
         "Production"
        ],
        [
         33,
         "phoenix",
         "Phoenix street circuit",
         "Phoenix",
         "33.4479",
         "-112.075",
         345,
         "2023-10-17T18:07:32.261+0000",
         "Production"
        ],
        [
         34,
         "ricard",
         "Circuit Paul Ricard",
         "Le Castellet",
         "43.2506",
         "5.79167",
         432,
         "2023-10-17T18:07:32.261+0000",
         "Production"
        ],
        [
         35,
         "yeongam",
         "Korean International Circuit",
         "Yeongam County",
         "34.7333",
         "126.417",
         0,
         "2023-10-17T18:07:32.261+0000",
         "Production"
        ],
        [
         36,
         "jacarepagua",
         "Autódromo Internacional Nelson Piquet",
         "Rio de Janeiro",
         "-22.9756",
         "-43.395",
         1126,
         "2023-10-17T18:07:32.261+0000",
         "Production"
        ],
        [
         37,
         "detroit",
         "Detroit Street Circuit",
         "Detroit",
         "42.3298",
         "-83.0401",
         177,
         "2023-10-17T18:07:32.261+0000",
         "Production"
        ],
        [
         38,
         "brands_hatch",
         "Brands Hatch",
         "Kent",
         "51.3569",
         "0.263056",
         145,
         "2023-10-17T18:07:32.261+0000",
         "Production"
        ],
        [
         39,
         "zandvoort",
         "Circuit Park Zandvoort",
         "Zandvoort",
         "52.3888",
         "4.54092",
         6,
         "2023-10-17T18:07:32.261+0000",
         "Production"
        ],
        [
         40,
         "zolder",
         "Zolder",
         "Heusden-Zolder",
         "50.9894",
         "5.25694",
         36,
         "2023-10-17T18:07:32.261+0000",
         "Production"
        ],
        [
         41,
         "dijon",
         "Dijon-Prenois",
         "Dijon",
         "47.3625",
         "4.89913",
         484,
         "2023-10-17T18:07:32.261+0000",
         "Production"
        ],
        [
         42,
         "dallas",
         "Fair Park",
         "Dallas",
         "32.7774",
         "-96.7587",
         139,
         "2023-10-17T18:07:32.261+0000",
         "Production"
        ],
        [
         43,
         "long_beach",
         "Long Beach",
         "California",
         "33.7651",
         "-118.189",
         12,
         "2023-10-17T18:07:32.261+0000",
         "Production"
        ],
        [
         44,
         "las_vegas",
         "Las Vegas Street Circuit",
         "Nevada",
         "36.1162",
         "-115.174",
         639,
         "2023-10-17T18:07:32.261+0000",
         "Production"
        ],
        [
         45,
         "jarama",
         "Jarama",
         "Madrid",
         "40.6171",
         "-3.58558",
         609,
         "2023-10-17T18:07:32.261+0000",
         "Production"
        ],
        [
         46,
         "watkins_glen",
         "Watkins Glen",
         "New York State",
         "42.3369",
         "-76.9272",
         485,
         "2023-10-17T18:07:32.261+0000",
         "Production"
        ],
        [
         47,
         "anderstorp",
         "Scandinavian Raceway",
         "Anderstorp",
         "57.2653",
         "13.6042",
         153,
         "2023-10-17T18:07:32.261+0000",
         "Production"
        ],
        [
         48,
         "mosport",
         "Mosport International Raceway",
         "Ontario",
         "44.0481",
         "-78.6756",
         332,
         "2023-10-17T18:07:32.261+0000",
         "Production"
        ],
        [
         49,
         "montjuic",
         "Montjuïc",
         "Barcelona",
         "41.3664",
         "2.15167",
         79,
         "2023-10-17T18:07:32.261+0000",
         "Production"
        ],
        [
         50,
         "nivelles",
         "Nivelles-Baulers",
         "Brussels",
         "50.6211",
         "4.32694",
         139,
         "2023-10-17T18:07:32.261+0000",
         "Production"
        ],
        [
         51,
         "charade",
         "Charade Circuit",
         "Clermont-Ferrand",
         "45.7472",
         "3.03889",
         790,
         "2023-10-17T18:07:32.261+0000",
         "Production"
        ],
        [
         52,
         "tremblant",
         "Circuit Mont-Tremblant",
         "Quebec",
         "46.1877",
         "-74.6099",
         214,
         "2023-10-17T18:07:32.261+0000",
         "Production"
        ],
        [
         53,
         "essarts",
         "Rouen-Les-Essarts",
         "Rouen",
         "49.3306",
         "1.00458",
         81,
         "2023-10-17T18:07:32.261+0000",
         "Production"
        ],
        [
         54,
         "lemans",
         "Le Mans",
         "Le Mans",
         "47.95",
         "0.224231",
         67,
         "2023-10-17T18:07:32.261+0000",
         "Production"
        ],
        [
         55,
         "reims",
         "Reims-Gueux",
         "Reims",
         "49.2542",
         "3.93083",
         88,
         "2023-10-17T18:07:32.261+0000",
         "Production"
        ],
        [
         56,
         "george",
         "Prince George Circuit",
         "Eastern Cape Province",
         "-33.0486",
         "27.8736",
         15,
         "2023-10-17T18:07:32.261+0000",
         "Production"
        ],
        [
         57,
         "zeltweg",
         "Zeltweg",
         "Styria",
         "47.2039",
         "14.7478",
         676,
         "2023-10-17T18:07:32.261+0000",
         "Production"
        ],
        [
         58,
         "aintree",
         "Aintree",
         "Liverpool",
         "53.4769",
         "-2.94056",
         20,
         "2023-10-17T18:07:32.261+0000",
         "Production"
        ],
        [
         59,
         "boavista",
         "Circuito da Boavista",
         "Oporto",
         "41.1705",
         "-8.67325",
         28,
         "2023-10-17T18:07:32.261+0000",
         "Production"
        ],
        [
         60,
         "riverside",
         "Riverside International Raceway",
         "California",
         "33.937",
         "-117.273",
         470,
         "2023-10-17T18:07:32.261+0000",
         "Production"
        ],
        [
         61,
         "avus",
         "AVUS",
         "Berlin",
         "52.4806",
         "13.2514",
         53,
         "2023-10-17T18:07:32.261+0000",
         "Production"
        ],
        [
         62,
         "monsanto",
         "Monsanto Park Circuit",
         "Lisbon",
         "38.7197",
         "-9.20306",
         158,
         "2023-10-17T18:07:32.261+0000",
         "Production"
        ],
        [
         63,
         "sebring",
         "Sebring International Raceway",
         "Florida",
         "27.4547",
         "-81.3483",
         18,
         "2023-10-17T18:07:32.261+0000",
         "Production"
        ],
        [
         64,
         "ain-diab",
         "Ain Diab",
         "Casablanca",
         "33.5786",
         "-7.6875",
         19,
         "2023-10-17T18:07:32.261+0000",
         "Production"
        ],
        [
         65,
         "pescara",
         "Pescara Circuit",
         "Pescara",
         "42.475",
         "14.1508",
         129,
         "2023-10-17T18:07:32.261+0000",
         "Production"
        ],
        [
         66,
         "bremgarten",
         "Circuit Bremgarten",
         "Bern",
         "46.9589",
         "7.40194",
         551,
         "2023-10-17T18:07:32.261+0000",
         "Production"
        ],
        [
         67,
         "pedralbes",
         "Circuit de Pedralbes",
         "Barcelona",
         "41.3903",
         "2.11667",
         85,
         "2023-10-17T18:07:32.261+0000",
         "Production"
        ],
        [
         68,
         "buddh",
         "Buddh International Circuit",
         "Uttar Pradesh",
         "28.3487",
         "77.5331",
         194,
         "2023-10-17T18:07:32.261+0000",
         "Production"
        ],
        [
         69,
         "americas",
         "Circuit of the Americas",
         "Austin",
         "30.1328",
         "-97.6411",
         161,
         "2023-10-17T18:07:32.261+0000",
         "Production"
        ],
        [
         70,
         "red_bull_ring",
         "Red Bull Ring",
         "Spielburg",
         "47.2197",
         "14.7647",
         678,
         "2023-10-17T18:07:32.261+0000",
         "Production"
        ],
        [
         71,
         "sochi",
         "Sochi Autodrom",
         "Sochi",
         "43.4057",
         "39.9578",
         2,
         "2023-10-17T18:07:32.261+0000",
         "Production"
        ],
        [
         72,
         "port_imperial",
         "Port Imperial Street Circuit",
         "New Jersey",
         "40.7769",
         "-74.0111",
         4,
         "2023-10-17T18:07:32.261+0000",
         "Production"
        ],
        [
         73,
         "BAK",
         "Baku City Circuit",
         "Baku",
         "40.3725",
         "49.8533",
         -7,
         "2023-10-17T18:07:32.261+0000",
         "Production"
        ],
        [
         74,
         "hanoi",
         "Hanoi Street Circuit",
         "Hanoi",
         "21.0166",
         "105.766",
         9,
         "2023-10-17T18:07:32.261+0000",
         "Production"
        ],
        [
         75,
         "portimao",
         "Autódromo Internacional do Algarve",
         "Portimão",
         "37.227",
         "-8.6267",
         108,
         "2023-10-17T18:07:32.261+0000",
         "Production"
        ],
        [
         76,
         "mugello",
         "Autodromo Internazionale del Mugello",
         "Mugello",
         "43.9975",
         "11.3719",
         255,
         "2023-10-17T18:07:32.261+0000",
         "Production"
        ],
        [
         77,
         "jeddah",
         "Jeddah Street Circuit",
         "Jeddah",
         "21.5433",
         "39.1728",
         15,
         "2023-10-17T18:07:32.261+0000",
         "Production"
        ]
       ],
       "datasetInfos": [],
       "dbfsResultPath": null,
       "isJsonSchema": true,
       "metadata": {},
       "overflow": false,
       "plotOptions": {
        "customPlotOptions": {},
        "displayType": "table",
        "pivotAggregation": null,
        "pivotColumns": null,
        "xColumns": null,
        "yColumns": null
       },
       "removedWidgets": [],
       "schema": [
        {
         "metadata": "{}",
         "name": "circuit_id",
         "type": "\"integer\""
        },
        {
         "metadata": "{}",
         "name": "circuitRef",
         "type": "\"string\""
        },
        {
         "metadata": "{}",
         "name": "name",
         "type": "\"string\""
        },
        {
         "metadata": "{}",
         "name": "race_location",
         "type": "\"string\""
        },
        {
         "metadata": "{}",
         "name": "latitude",
         "type": "\"string\""
        },
        {
         "metadata": "{}",
         "name": "longitude",
         "type": "\"string\""
        },
        {
         "metadata": "{}",
         "name": "altitude",
         "type": "\"integer\""
        },
        {
         "metadata": "{}",
         "name": "ingestion_date",
         "type": "\"timestamp\""
        },
        {
         "metadata": "{}",
         "name": "env",
         "type": "\"string\""
        }
       ],
       "type": "table"
      }
     },
     "output_type": "display_data"
    }
   ],
   "source": [
    "display(circuits_final_df)"
   ]
  },
  {
   "cell_type": "markdown",
   "metadata": {
    "application/vnd.databricks.v1+cell": {
     "cellMetadata": {},
     "inputWidgets": {},
     "nuid": "8c5cd412-dc5d-4642-9f2c-066cbccdfecb",
     "showTitle": false,
     "title": ""
    }
   },
   "source": [
    "### Write to Parquet file"
   ]
  },
  {
   "cell_type": "code",
   "execution_count": 0,
   "metadata": {
    "application/vnd.databricks.v1+cell": {
     "cellMetadata": {
      "byteLimit": 2048000,
      "rowLimit": 10000
     },
     "inputWidgets": {},
     "nuid": "0882b7d5-2528-4542-b0f7-13aa3d68a5f0",
     "showTitle": false,
     "title": ""
    }
   },
   "outputs": [],
   "source": [
    "circuits_final_df.write.mode(\"overwrite\").parquet(f\"dbfs:{processed_folder_path}/circuits\")"
   ]
  },
  {
   "cell_type": "code",
   "execution_count": 0,
   "metadata": {
    "application/vnd.databricks.v1+cell": {
     "cellMetadata": {
      "byteLimit": 2048000,
      "rowLimit": 10000
     },
     "inputWidgets": {},
     "nuid": "5b051c69-a507-4b03-b8c8-b750fe27c05f",
     "showTitle": false,
     "title": ""
    }
   },
   "outputs": [
    {
     "output_type": "display_data",
     "data": {
      "text/html": [
       "<style scoped>\n",
       "  .table-result-container {\n",
       "    max-height: 300px;\n",
       "    overflow: auto;\n",
       "  }\n",
       "  table, th, td {\n",
       "    border: 1px solid black;\n",
       "    border-collapse: collapse;\n",
       "  }\n",
       "  th, td {\n",
       "    padding: 5px;\n",
       "  }\n",
       "  th {\n",
       "    text-align: left;\n",
       "  }\n",
       "</style><div class='table-result-container'><table class='table-result'><thead style='background-color: white'><tr><th>path</th><th>name</th><th>size</th><th>modificationTime</th></tr></thead><tbody><tr><td>dbfs:/mnt/formula1dlvb/processed/circuits/_SUCCESS</td><td>_SUCCESS</td><td>0</td><td>1697386527000</td></tr><tr><td>dbfs:/mnt/formula1dlvb/processed/circuits/_committed_2002322418279626914</td><td>_committed_2002322418279626914</td><td>123</td><td>1697386349000</td></tr><tr><td>dbfs:/mnt/formula1dlvb/processed/circuits/_committed_2702703524669758258</td><td>_committed_2702703524669758258</td><td>232</td><td>1697386525000</td></tr><tr><td>dbfs:/mnt/formula1dlvb/processed/circuits/_started_2002322418279626914</td><td>_started_2002322418279626914</td><td>0</td><td>1697386345000</td></tr><tr><td>dbfs:/mnt/formula1dlvb/processed/circuits/_started_2702703524669758258</td><td>_started_2702703524669758258</td><td>0</td><td>1697386524000</td></tr><tr><td>dbfs:/mnt/formula1dlvb/processed/circuits/part-00000-tid-2702703524669758258-a3876e0c-f09b-4a9d-ab8e-ce089c5e46e2-15-1-c000.snappy.parquet</td><td>part-00000-tid-2702703524669758258-a3876e0c-f09b-4a9d-ab8e-ce089c5e46e2-15-1-c000.snappy.parquet</td><td>7528</td><td>1697386525000</td></tr></tbody></table></div>"
      ]
     },
     "metadata": {
      "application/vnd.databricks.v1+output": {
       "addedWidgets": {},
       "aggData": [],
       "aggError": "",
       "aggOverflow": false,
       "aggSchema": [],
       "aggSeriesLimitReached": false,
       "aggType": "",
       "arguments": {},
       "columnCustomDisplayInfos": {},
       "data": [
        [
         "dbfs:/mnt/formula1dlvb/processed/circuits/_SUCCESS",
         "_SUCCESS",
         0,
         1697386527000
        ],
        [
         "dbfs:/mnt/formula1dlvb/processed/circuits/_committed_2002322418279626914",
         "_committed_2002322418279626914",
         123,
         1697386349000
        ],
        [
         "dbfs:/mnt/formula1dlvb/processed/circuits/_committed_2702703524669758258",
         "_committed_2702703524669758258",
         232,
         1697386525000
        ],
        [
         "dbfs:/mnt/formula1dlvb/processed/circuits/_started_2002322418279626914",
         "_started_2002322418279626914",
         0,
         1697386345000
        ],
        [
         "dbfs:/mnt/formula1dlvb/processed/circuits/_started_2702703524669758258",
         "_started_2702703524669758258",
         0,
         1697386524000
        ],
        [
         "dbfs:/mnt/formula1dlvb/processed/circuits/part-00000-tid-2702703524669758258-a3876e0c-f09b-4a9d-ab8e-ce089c5e46e2-15-1-c000.snappy.parquet",
         "part-00000-tid-2702703524669758258-a3876e0c-f09b-4a9d-ab8e-ce089c5e46e2-15-1-c000.snappy.parquet",
         7528,
         1697386525000
        ]
       ],
       "datasetInfos": [],
       "dbfsResultPath": null,
       "isJsonSchema": true,
       "metadata": {
        "isDbfsCommandResult": false
       },
       "overflow": false,
       "plotOptions": {
        "customPlotOptions": {},
        "displayType": "table",
        "pivotAggregation": null,
        "pivotColumns": null,
        "xColumns": null,
        "yColumns": null
       },
       "removedWidgets": [],
       "schema": [
        {
         "metadata": "{}",
         "name": "path",
         "type": "\"string\""
        },
        {
         "metadata": "{}",
         "name": "name",
         "type": "\"string\""
        },
        {
         "metadata": "{}",
         "name": "size",
         "type": "\"long\""
        },
        {
         "metadata": "{}",
         "name": "modificationTime",
         "type": "\"long\""
        }
       ],
       "type": "table"
      }
     },
     "output_type": "display_data"
    }
   ],
   "source": [
    "%fs\n",
    "ls \"dbfs:/mnt/formula1dlvb/processed/circuits\""
   ]
  },
  {
   "cell_type": "code",
   "execution_count": 0,
   "metadata": {
    "application/vnd.databricks.v1+cell": {
     "cellMetadata": {
      "byteLimit": 2048000,
      "rowLimit": 10000
     },
     "inputWidgets": {},
     "nuid": "da62226e-96a4-42e2-8adb-639b5c8401b1",
     "showTitle": false,
     "title": ""
    }
   },
   "outputs": [],
   "source": [
    "df = spark.read.parquet(\"dbfs:/mnt/formula1dlvb/processed/circuits\")"
   ]
  },
  {
   "cell_type": "code",
   "execution_count": 0,
   "metadata": {
    "application/vnd.databricks.v1+cell": {
     "cellMetadata": {
      "byteLimit": 2048000,
      "rowLimit": 10000
     },
     "inputWidgets": {},
     "nuid": "b756140f-82f0-4a5d-9836-18110f28103f",
     "showTitle": false,
     "title": ""
    }
   },
   "outputs": [
    {
     "output_type": "display_data",
     "data": {
      "text/html": [
       "<style scoped>\n",
       "  .table-result-container {\n",
       "    max-height: 300px;\n",
       "    overflow: auto;\n",
       "  }\n",
       "  table, th, td {\n",
       "    border: 1px solid black;\n",
       "    border-collapse: collapse;\n",
       "  }\n",
       "  th, td {\n",
       "    padding: 5px;\n",
       "  }\n",
       "  th {\n",
       "    text-align: left;\n",
       "  }\n",
       "</style><div class='table-result-container'><table class='table-result'><thead style='background-color: white'><tr><th>circuit_id</th><th>circuitRef</th><th>name</th><th>race_location</th><th>latitude</th><th>longitude</th><th>altitude</th><th>ingestion_date</th><th>env</th></tr></thead><tbody><tr><td>1</td><td>albert_park</td><td>Albert Park Grand Prix Circuit</td><td>Melbourne</td><td>-37.8497</td><td>144.968</td><td>10</td><td>2023-10-15T16:15:22.942+0000</td><td>Production</td></tr><tr><td>2</td><td>sepang</td><td>Sepang International Circuit</td><td>Kuala Lumpur</td><td>2.76083</td><td>101.738</td><td>18</td><td>2023-10-15T16:15:22.942+0000</td><td>Production</td></tr><tr><td>3</td><td>bahrain</td><td>Bahrain International Circuit</td><td>Sakhir</td><td>26.0325</td><td>50.5106</td><td>7</td><td>2023-10-15T16:15:22.942+0000</td><td>Production</td></tr><tr><td>4</td><td>catalunya</td><td>Circuit de Barcelona-Catalunya</td><td>Montmeló</td><td>41.57</td><td>2.26111</td><td>109</td><td>2023-10-15T16:15:22.942+0000</td><td>Production</td></tr><tr><td>5</td><td>istanbul</td><td>Istanbul Park</td><td>Istanbul</td><td>40.9517</td><td>29.405</td><td>130</td><td>2023-10-15T16:15:22.942+0000</td><td>Production</td></tr><tr><td>6</td><td>monaco</td><td>Circuit de Monaco</td><td>Monte-Carlo</td><td>43.7347</td><td>7.42056</td><td>7</td><td>2023-10-15T16:15:22.942+0000</td><td>Production</td></tr><tr><td>7</td><td>villeneuve</td><td>Circuit Gilles Villeneuve</td><td>Montreal</td><td>45.5</td><td>-73.5228</td><td>13</td><td>2023-10-15T16:15:22.942+0000</td><td>Production</td></tr><tr><td>8</td><td>magny_cours</td><td>Circuit de Nevers Magny-Cours</td><td>Magny Cours</td><td>46.8642</td><td>3.16361</td><td>228</td><td>2023-10-15T16:15:22.942+0000</td><td>Production</td></tr><tr><td>9</td><td>silverstone</td><td>Silverstone Circuit</td><td>Silverstone</td><td>52.0786</td><td>-1.01694</td><td>153</td><td>2023-10-15T16:15:22.942+0000</td><td>Production</td></tr><tr><td>10</td><td>hockenheimring</td><td>Hockenheimring</td><td>Hockenheim</td><td>49.3278</td><td>8.56583</td><td>103</td><td>2023-10-15T16:15:22.942+0000</td><td>Production</td></tr><tr><td>11</td><td>hungaroring</td><td>Hungaroring</td><td>Budapest</td><td>47.5789</td><td>19.2486</td><td>264</td><td>2023-10-15T16:15:22.942+0000</td><td>Production</td></tr><tr><td>12</td><td>valencia</td><td>Valencia Street Circuit</td><td>Valencia</td><td>39.4589</td><td>-0.331667</td><td>4</td><td>2023-10-15T16:15:22.942+0000</td><td>Production</td></tr><tr><td>13</td><td>spa</td><td>Circuit de Spa-Francorchamps</td><td>Spa</td><td>50.4372</td><td>5.97139</td><td>401</td><td>2023-10-15T16:15:22.942+0000</td><td>Production</td></tr><tr><td>14</td><td>monza</td><td>Autodromo Nazionale di Monza</td><td>Monza</td><td>45.6156</td><td>9.28111</td><td>162</td><td>2023-10-15T16:15:22.942+0000</td><td>Production</td></tr><tr><td>15</td><td>marina_bay</td><td>Marina Bay Street Circuit</td><td>Marina Bay</td><td>1.2914</td><td>103.864</td><td>18</td><td>2023-10-15T16:15:22.942+0000</td><td>Production</td></tr><tr><td>16</td><td>fuji</td><td>Fuji Speedway</td><td>Oyama</td><td>35.3717</td><td>138.927</td><td>583</td><td>2023-10-15T16:15:22.942+0000</td><td>Production</td></tr><tr><td>17</td><td>shanghai</td><td>Shanghai International Circuit</td><td>Shanghai</td><td>31.3389</td><td>121.22</td><td>5</td><td>2023-10-15T16:15:22.942+0000</td><td>Production</td></tr><tr><td>18</td><td>interlagos</td><td>Autódromo José Carlos Pace</td><td>São Paulo</td><td>-23.7036</td><td>-46.6997</td><td>785</td><td>2023-10-15T16:15:22.942+0000</td><td>Production</td></tr><tr><td>19</td><td>indianapolis</td><td>Indianapolis Motor Speedway</td><td>Indianapolis</td><td>39.795</td><td>-86.2347</td><td>223</td><td>2023-10-15T16:15:22.942+0000</td><td>Production</td></tr><tr><td>20</td><td>nurburgring</td><td>Nürburgring</td><td>Nürburg</td><td>50.3356</td><td>6.9475</td><td>578</td><td>2023-10-15T16:15:22.942+0000</td><td>Production</td></tr><tr><td>21</td><td>imola</td><td>Autodromo Enzo e Dino Ferrari</td><td>Imola</td><td>44.3439</td><td>11.7167</td><td>37</td><td>2023-10-15T16:15:22.942+0000</td><td>Production</td></tr><tr><td>22</td><td>suzuka</td><td>Suzuka Circuit</td><td>Suzuka</td><td>34.8431</td><td>136.541</td><td>45</td><td>2023-10-15T16:15:22.942+0000</td><td>Production</td></tr><tr><td>23</td><td>osterreichring</td><td>A1-Ring</td><td>Spielburg</td><td>47.2197</td><td>14.7647</td><td>678</td><td>2023-10-15T16:15:22.942+0000</td><td>Production</td></tr><tr><td>24</td><td>yas_marina</td><td>Yas Marina Circuit</td><td>Abu Dhabi</td><td>24.4672</td><td>54.6031</td><td>3</td><td>2023-10-15T16:15:22.942+0000</td><td>Production</td></tr><tr><td>25</td><td>galvez</td><td>Autódromo Juan y Oscar Gálvez</td><td>Buenos Aires</td><td>-34.6943</td><td>-58.4593</td><td>8</td><td>2023-10-15T16:15:22.942+0000</td><td>Production</td></tr><tr><td>26</td><td>jerez</td><td>Circuito de Jerez</td><td>Jerez de la Frontera</td><td>36.7083</td><td>-6.03417</td><td>37</td><td>2023-10-15T16:15:22.942+0000</td><td>Production</td></tr><tr><td>27</td><td>estoril</td><td>Autódromo do Estoril</td><td>Estoril</td><td>38.7506</td><td>-9.39417</td><td>130</td><td>2023-10-15T16:15:22.942+0000</td><td>Production</td></tr><tr><td>28</td><td>okayama</td><td>Okayama International Circuit</td><td>Okayama</td><td>34.915</td><td>134.221</td><td>266</td><td>2023-10-15T16:15:22.942+0000</td><td>Production</td></tr><tr><td>29</td><td>adelaide</td><td>Adelaide Street Circuit</td><td>Adelaide</td><td>-34.9272</td><td>138.617</td><td>58</td><td>2023-10-15T16:15:22.942+0000</td><td>Production</td></tr><tr><td>30</td><td>kyalami</td><td>Kyalami</td><td>Midrand</td><td>-25.9894</td><td>28.0767</td><td>1460</td><td>2023-10-15T16:15:22.942+0000</td><td>Production</td></tr><tr><td>31</td><td>donington</td><td>Donington Park</td><td>Castle Donington</td><td>52.8306</td><td>-1.37528</td><td>88</td><td>2023-10-15T16:15:22.942+0000</td><td>Production</td></tr><tr><td>32</td><td>rodriguez</td><td>Autódromo Hermanos Rodríguez</td><td>Mexico City</td><td>19.4042</td><td>-99.0907</td><td>2227</td><td>2023-10-15T16:15:22.942+0000</td><td>Production</td></tr><tr><td>33</td><td>phoenix</td><td>Phoenix street circuit</td><td>Phoenix</td><td>33.4479</td><td>-112.075</td><td>345</td><td>2023-10-15T16:15:22.942+0000</td><td>Production</td></tr><tr><td>34</td><td>ricard</td><td>Circuit Paul Ricard</td><td>Le Castellet</td><td>43.2506</td><td>5.79167</td><td>432</td><td>2023-10-15T16:15:22.942+0000</td><td>Production</td></tr><tr><td>35</td><td>yeongam</td><td>Korean International Circuit</td><td>Yeongam County</td><td>34.7333</td><td>126.417</td><td>0</td><td>2023-10-15T16:15:22.942+0000</td><td>Production</td></tr><tr><td>36</td><td>jacarepagua</td><td>Autódromo Internacional Nelson Piquet</td><td>Rio de Janeiro</td><td>-22.9756</td><td>-43.395</td><td>1126</td><td>2023-10-15T16:15:22.942+0000</td><td>Production</td></tr><tr><td>37</td><td>detroit</td><td>Detroit Street Circuit</td><td>Detroit</td><td>42.3298</td><td>-83.0401</td><td>177</td><td>2023-10-15T16:15:22.942+0000</td><td>Production</td></tr><tr><td>38</td><td>brands_hatch</td><td>Brands Hatch</td><td>Kent</td><td>51.3569</td><td>0.263056</td><td>145</td><td>2023-10-15T16:15:22.942+0000</td><td>Production</td></tr><tr><td>39</td><td>zandvoort</td><td>Circuit Park Zandvoort</td><td>Zandvoort</td><td>52.3888</td><td>4.54092</td><td>6</td><td>2023-10-15T16:15:22.942+0000</td><td>Production</td></tr><tr><td>40</td><td>zolder</td><td>Zolder</td><td>Heusden-Zolder</td><td>50.9894</td><td>5.25694</td><td>36</td><td>2023-10-15T16:15:22.942+0000</td><td>Production</td></tr><tr><td>41</td><td>dijon</td><td>Dijon-Prenois</td><td>Dijon</td><td>47.3625</td><td>4.89913</td><td>484</td><td>2023-10-15T16:15:22.942+0000</td><td>Production</td></tr><tr><td>42</td><td>dallas</td><td>Fair Park</td><td>Dallas</td><td>32.7774</td><td>-96.7587</td><td>139</td><td>2023-10-15T16:15:22.942+0000</td><td>Production</td></tr><tr><td>43</td><td>long_beach</td><td>Long Beach</td><td>California</td><td>33.7651</td><td>-118.189</td><td>12</td><td>2023-10-15T16:15:22.942+0000</td><td>Production</td></tr><tr><td>44</td><td>las_vegas</td><td>Las Vegas Street Circuit</td><td>Nevada</td><td>36.1162</td><td>-115.174</td><td>639</td><td>2023-10-15T16:15:22.942+0000</td><td>Production</td></tr><tr><td>45</td><td>jarama</td><td>Jarama</td><td>Madrid</td><td>40.6171</td><td>-3.58558</td><td>609</td><td>2023-10-15T16:15:22.942+0000</td><td>Production</td></tr><tr><td>46</td><td>watkins_glen</td><td>Watkins Glen</td><td>New York State</td><td>42.3369</td><td>-76.9272</td><td>485</td><td>2023-10-15T16:15:22.942+0000</td><td>Production</td></tr><tr><td>47</td><td>anderstorp</td><td>Scandinavian Raceway</td><td>Anderstorp</td><td>57.2653</td><td>13.6042</td><td>153</td><td>2023-10-15T16:15:22.942+0000</td><td>Production</td></tr><tr><td>48</td><td>mosport</td><td>Mosport International Raceway</td><td>Ontario</td><td>44.0481</td><td>-78.6756</td><td>332</td><td>2023-10-15T16:15:22.942+0000</td><td>Production</td></tr><tr><td>49</td><td>montjuic</td><td>Montjuïc</td><td>Barcelona</td><td>41.3664</td><td>2.15167</td><td>79</td><td>2023-10-15T16:15:22.942+0000</td><td>Production</td></tr><tr><td>50</td><td>nivelles</td><td>Nivelles-Baulers</td><td>Brussels</td><td>50.6211</td><td>4.32694</td><td>139</td><td>2023-10-15T16:15:22.942+0000</td><td>Production</td></tr><tr><td>51</td><td>charade</td><td>Charade Circuit</td><td>Clermont-Ferrand</td><td>45.7472</td><td>3.03889</td><td>790</td><td>2023-10-15T16:15:22.942+0000</td><td>Production</td></tr><tr><td>52</td><td>tremblant</td><td>Circuit Mont-Tremblant</td><td>Quebec</td><td>46.1877</td><td>-74.6099</td><td>214</td><td>2023-10-15T16:15:22.942+0000</td><td>Production</td></tr><tr><td>53</td><td>essarts</td><td>Rouen-Les-Essarts</td><td>Rouen</td><td>49.3306</td><td>1.00458</td><td>81</td><td>2023-10-15T16:15:22.942+0000</td><td>Production</td></tr><tr><td>54</td><td>lemans</td><td>Le Mans</td><td>Le Mans</td><td>47.95</td><td>0.224231</td><td>67</td><td>2023-10-15T16:15:22.942+0000</td><td>Production</td></tr><tr><td>55</td><td>reims</td><td>Reims-Gueux</td><td>Reims</td><td>49.2542</td><td>3.93083</td><td>88</td><td>2023-10-15T16:15:22.942+0000</td><td>Production</td></tr><tr><td>56</td><td>george</td><td>Prince George Circuit</td><td>Eastern Cape Province</td><td>-33.0486</td><td>27.8736</td><td>15</td><td>2023-10-15T16:15:22.942+0000</td><td>Production</td></tr><tr><td>57</td><td>zeltweg</td><td>Zeltweg</td><td>Styria</td><td>47.2039</td><td>14.7478</td><td>676</td><td>2023-10-15T16:15:22.942+0000</td><td>Production</td></tr><tr><td>58</td><td>aintree</td><td>Aintree</td><td>Liverpool</td><td>53.4769</td><td>-2.94056</td><td>20</td><td>2023-10-15T16:15:22.942+0000</td><td>Production</td></tr><tr><td>59</td><td>boavista</td><td>Circuito da Boavista</td><td>Oporto</td><td>41.1705</td><td>-8.67325</td><td>28</td><td>2023-10-15T16:15:22.942+0000</td><td>Production</td></tr><tr><td>60</td><td>riverside</td><td>Riverside International Raceway</td><td>California</td><td>33.937</td><td>-117.273</td><td>470</td><td>2023-10-15T16:15:22.942+0000</td><td>Production</td></tr><tr><td>61</td><td>avus</td><td>AVUS</td><td>Berlin</td><td>52.4806</td><td>13.2514</td><td>53</td><td>2023-10-15T16:15:22.942+0000</td><td>Production</td></tr><tr><td>62</td><td>monsanto</td><td>Monsanto Park Circuit</td><td>Lisbon</td><td>38.7197</td><td>-9.20306</td><td>158</td><td>2023-10-15T16:15:22.942+0000</td><td>Production</td></tr><tr><td>63</td><td>sebring</td><td>Sebring International Raceway</td><td>Florida</td><td>27.4547</td><td>-81.3483</td><td>18</td><td>2023-10-15T16:15:22.942+0000</td><td>Production</td></tr><tr><td>64</td><td>ain-diab</td><td>Ain Diab</td><td>Casablanca</td><td>33.5786</td><td>-7.6875</td><td>19</td><td>2023-10-15T16:15:22.942+0000</td><td>Production</td></tr><tr><td>65</td><td>pescara</td><td>Pescara Circuit</td><td>Pescara</td><td>42.475</td><td>14.1508</td><td>129</td><td>2023-10-15T16:15:22.942+0000</td><td>Production</td></tr><tr><td>66</td><td>bremgarten</td><td>Circuit Bremgarten</td><td>Bern</td><td>46.9589</td><td>7.40194</td><td>551</td><td>2023-10-15T16:15:22.942+0000</td><td>Production</td></tr><tr><td>67</td><td>pedralbes</td><td>Circuit de Pedralbes</td><td>Barcelona</td><td>41.3903</td><td>2.11667</td><td>85</td><td>2023-10-15T16:15:22.942+0000</td><td>Production</td></tr><tr><td>68</td><td>buddh</td><td>Buddh International Circuit</td><td>Uttar Pradesh</td><td>28.3487</td><td>77.5331</td><td>194</td><td>2023-10-15T16:15:22.942+0000</td><td>Production</td></tr><tr><td>69</td><td>americas</td><td>Circuit of the Americas</td><td>Austin</td><td>30.1328</td><td>-97.6411</td><td>161</td><td>2023-10-15T16:15:22.942+0000</td><td>Production</td></tr><tr><td>70</td><td>red_bull_ring</td><td>Red Bull Ring</td><td>Spielburg</td><td>47.2197</td><td>14.7647</td><td>678</td><td>2023-10-15T16:15:22.942+0000</td><td>Production</td></tr><tr><td>71</td><td>sochi</td><td>Sochi Autodrom</td><td>Sochi</td><td>43.4057</td><td>39.9578</td><td>2</td><td>2023-10-15T16:15:22.942+0000</td><td>Production</td></tr><tr><td>72</td><td>port_imperial</td><td>Port Imperial Street Circuit</td><td>New Jersey</td><td>40.7769</td><td>-74.0111</td><td>4</td><td>2023-10-15T16:15:22.942+0000</td><td>Production</td></tr><tr><td>73</td><td>BAK</td><td>Baku City Circuit</td><td>Baku</td><td>40.3725</td><td>49.8533</td><td>-7</td><td>2023-10-15T16:15:22.942+0000</td><td>Production</td></tr><tr><td>74</td><td>hanoi</td><td>Hanoi Street Circuit</td><td>Hanoi</td><td>21.0166</td><td>105.766</td><td>9</td><td>2023-10-15T16:15:22.942+0000</td><td>Production</td></tr><tr><td>75</td><td>portimao</td><td>Autódromo Internacional do Algarve</td><td>Portimão</td><td>37.227</td><td>-8.6267</td><td>108</td><td>2023-10-15T16:15:22.942+0000</td><td>Production</td></tr><tr><td>76</td><td>mugello</td><td>Autodromo Internazionale del Mugello</td><td>Mugello</td><td>43.9975</td><td>11.3719</td><td>255</td><td>2023-10-15T16:15:22.942+0000</td><td>Production</td></tr><tr><td>77</td><td>jeddah</td><td>Jeddah Street Circuit</td><td>Jeddah</td><td>21.5433</td><td>39.1728</td><td>15</td><td>2023-10-15T16:15:22.942+0000</td><td>Production</td></tr></tbody></table></div>"
      ]
     },
     "metadata": {
      "application/vnd.databricks.v1+output": {
       "addedWidgets": {},
       "aggData": [],
       "aggError": "",
       "aggOverflow": false,
       "aggSchema": [],
       "aggSeriesLimitReached": false,
       "aggType": "",
       "arguments": {},
       "columnCustomDisplayInfos": {},
       "data": [
        [
         1,
         "albert_park",
         "Albert Park Grand Prix Circuit",
         "Melbourne",
         "-37.8497",
         "144.968",
         10,
         "2023-10-15T16:15:22.942+0000",
         "Production"
        ],
        [
         2,
         "sepang",
         "Sepang International Circuit",
         "Kuala Lumpur",
         "2.76083",
         "101.738",
         18,
         "2023-10-15T16:15:22.942+0000",
         "Production"
        ],
        [
         3,
         "bahrain",
         "Bahrain International Circuit",
         "Sakhir",
         "26.0325",
         "50.5106",
         7,
         "2023-10-15T16:15:22.942+0000",
         "Production"
        ],
        [
         4,
         "catalunya",
         "Circuit de Barcelona-Catalunya",
         "Montmeló",
         "41.57",
         "2.26111",
         109,
         "2023-10-15T16:15:22.942+0000",
         "Production"
        ],
        [
         5,
         "istanbul",
         "Istanbul Park",
         "Istanbul",
         "40.9517",
         "29.405",
         130,
         "2023-10-15T16:15:22.942+0000",
         "Production"
        ],
        [
         6,
         "monaco",
         "Circuit de Monaco",
         "Monte-Carlo",
         "43.7347",
         "7.42056",
         7,
         "2023-10-15T16:15:22.942+0000",
         "Production"
        ],
        [
         7,
         "villeneuve",
         "Circuit Gilles Villeneuve",
         "Montreal",
         "45.5",
         "-73.5228",
         13,
         "2023-10-15T16:15:22.942+0000",
         "Production"
        ],
        [
         8,
         "magny_cours",
         "Circuit de Nevers Magny-Cours",
         "Magny Cours",
         "46.8642",
         "3.16361",
         228,
         "2023-10-15T16:15:22.942+0000",
         "Production"
        ],
        [
         9,
         "silverstone",
         "Silverstone Circuit",
         "Silverstone",
         "52.0786",
         "-1.01694",
         153,
         "2023-10-15T16:15:22.942+0000",
         "Production"
        ],
        [
         10,
         "hockenheimring",
         "Hockenheimring",
         "Hockenheim",
         "49.3278",
         "8.56583",
         103,
         "2023-10-15T16:15:22.942+0000",
         "Production"
        ],
        [
         11,
         "hungaroring",
         "Hungaroring",
         "Budapest",
         "47.5789",
         "19.2486",
         264,
         "2023-10-15T16:15:22.942+0000",
         "Production"
        ],
        [
         12,
         "valencia",
         "Valencia Street Circuit",
         "Valencia",
         "39.4589",
         "-0.331667",
         4,
         "2023-10-15T16:15:22.942+0000",
         "Production"
        ],
        [
         13,
         "spa",
         "Circuit de Spa-Francorchamps",
         "Spa",
         "50.4372",
         "5.97139",
         401,
         "2023-10-15T16:15:22.942+0000",
         "Production"
        ],
        [
         14,
         "monza",
         "Autodromo Nazionale di Monza",
         "Monza",
         "45.6156",
         "9.28111",
         162,
         "2023-10-15T16:15:22.942+0000",
         "Production"
        ],
        [
         15,
         "marina_bay",
         "Marina Bay Street Circuit",
         "Marina Bay",
         "1.2914",
         "103.864",
         18,
         "2023-10-15T16:15:22.942+0000",
         "Production"
        ],
        [
         16,
         "fuji",
         "Fuji Speedway",
         "Oyama",
         "35.3717",
         "138.927",
         583,
         "2023-10-15T16:15:22.942+0000",
         "Production"
        ],
        [
         17,
         "shanghai",
         "Shanghai International Circuit",
         "Shanghai",
         "31.3389",
         "121.22",
         5,
         "2023-10-15T16:15:22.942+0000",
         "Production"
        ],
        [
         18,
         "interlagos",
         "Autódromo José Carlos Pace",
         "São Paulo",
         "-23.7036",
         "-46.6997",
         785,
         "2023-10-15T16:15:22.942+0000",
         "Production"
        ],
        [
         19,
         "indianapolis",
         "Indianapolis Motor Speedway",
         "Indianapolis",
         "39.795",
         "-86.2347",
         223,
         "2023-10-15T16:15:22.942+0000",
         "Production"
        ],
        [
         20,
         "nurburgring",
         "Nürburgring",
         "Nürburg",
         "50.3356",
         "6.9475",
         578,
         "2023-10-15T16:15:22.942+0000",
         "Production"
        ],
        [
         21,
         "imola",
         "Autodromo Enzo e Dino Ferrari",
         "Imola",
         "44.3439",
         "11.7167",
         37,
         "2023-10-15T16:15:22.942+0000",
         "Production"
        ],
        [
         22,
         "suzuka",
         "Suzuka Circuit",
         "Suzuka",
         "34.8431",
         "136.541",
         45,
         "2023-10-15T16:15:22.942+0000",
         "Production"
        ],
        [
         23,
         "osterreichring",
         "A1-Ring",
         "Spielburg",
         "47.2197",
         "14.7647",
         678,
         "2023-10-15T16:15:22.942+0000",
         "Production"
        ],
        [
         24,
         "yas_marina",
         "Yas Marina Circuit",
         "Abu Dhabi",
         "24.4672",
         "54.6031",
         3,
         "2023-10-15T16:15:22.942+0000",
         "Production"
        ],
        [
         25,
         "galvez",
         "Autódromo Juan y Oscar Gálvez",
         "Buenos Aires",
         "-34.6943",
         "-58.4593",
         8,
         "2023-10-15T16:15:22.942+0000",
         "Production"
        ],
        [
         26,
         "jerez",
         "Circuito de Jerez",
         "Jerez de la Frontera",
         "36.7083",
         "-6.03417",
         37,
         "2023-10-15T16:15:22.942+0000",
         "Production"
        ],
        [
         27,
         "estoril",
         "Autódromo do Estoril",
         "Estoril",
         "38.7506",
         "-9.39417",
         130,
         "2023-10-15T16:15:22.942+0000",
         "Production"
        ],
        [
         28,
         "okayama",
         "Okayama International Circuit",
         "Okayama",
         "34.915",
         "134.221",
         266,
         "2023-10-15T16:15:22.942+0000",
         "Production"
        ],
        [
         29,
         "adelaide",
         "Adelaide Street Circuit",
         "Adelaide",
         "-34.9272",
         "138.617",
         58,
         "2023-10-15T16:15:22.942+0000",
         "Production"
        ],
        [
         30,
         "kyalami",
         "Kyalami",
         "Midrand",
         "-25.9894",
         "28.0767",
         1460,
         "2023-10-15T16:15:22.942+0000",
         "Production"
        ],
        [
         31,
         "donington",
         "Donington Park",
         "Castle Donington",
         "52.8306",
         "-1.37528",
         88,
         "2023-10-15T16:15:22.942+0000",
         "Production"
        ],
        [
         32,
         "rodriguez",
         "Autódromo Hermanos Rodríguez",
         "Mexico City",
         "19.4042",
         "-99.0907",
         2227,
         "2023-10-15T16:15:22.942+0000",
         "Production"
        ],
        [
         33,
         "phoenix",
         "Phoenix street circuit",
         "Phoenix",
         "33.4479",
         "-112.075",
         345,
         "2023-10-15T16:15:22.942+0000",
         "Production"
        ],
        [
         34,
         "ricard",
         "Circuit Paul Ricard",
         "Le Castellet",
         "43.2506",
         "5.79167",
         432,
         "2023-10-15T16:15:22.942+0000",
         "Production"
        ],
        [
         35,
         "yeongam",
         "Korean International Circuit",
         "Yeongam County",
         "34.7333",
         "126.417",
         0,
         "2023-10-15T16:15:22.942+0000",
         "Production"
        ],
        [
         36,
         "jacarepagua",
         "Autódromo Internacional Nelson Piquet",
         "Rio de Janeiro",
         "-22.9756",
         "-43.395",
         1126,
         "2023-10-15T16:15:22.942+0000",
         "Production"
        ],
        [
         37,
         "detroit",
         "Detroit Street Circuit",
         "Detroit",
         "42.3298",
         "-83.0401",
         177,
         "2023-10-15T16:15:22.942+0000",
         "Production"
        ],
        [
         38,
         "brands_hatch",
         "Brands Hatch",
         "Kent",
         "51.3569",
         "0.263056",
         145,
         "2023-10-15T16:15:22.942+0000",
         "Production"
        ],
        [
         39,
         "zandvoort",
         "Circuit Park Zandvoort",
         "Zandvoort",
         "52.3888",
         "4.54092",
         6,
         "2023-10-15T16:15:22.942+0000",
         "Production"
        ],
        [
         40,
         "zolder",
         "Zolder",
         "Heusden-Zolder",
         "50.9894",
         "5.25694",
         36,
         "2023-10-15T16:15:22.942+0000",
         "Production"
        ],
        [
         41,
         "dijon",
         "Dijon-Prenois",
         "Dijon",
         "47.3625",
         "4.89913",
         484,
         "2023-10-15T16:15:22.942+0000",
         "Production"
        ],
        [
         42,
         "dallas",
         "Fair Park",
         "Dallas",
         "32.7774",
         "-96.7587",
         139,
         "2023-10-15T16:15:22.942+0000",
         "Production"
        ],
        [
         43,
         "long_beach",
         "Long Beach",
         "California",
         "33.7651",
         "-118.189",
         12,
         "2023-10-15T16:15:22.942+0000",
         "Production"
        ],
        [
         44,
         "las_vegas",
         "Las Vegas Street Circuit",
         "Nevada",
         "36.1162",
         "-115.174",
         639,
         "2023-10-15T16:15:22.942+0000",
         "Production"
        ],
        [
         45,
         "jarama",
         "Jarama",
         "Madrid",
         "40.6171",
         "-3.58558",
         609,
         "2023-10-15T16:15:22.942+0000",
         "Production"
        ],
        [
         46,
         "watkins_glen",
         "Watkins Glen",
         "New York State",
         "42.3369",
         "-76.9272",
         485,
         "2023-10-15T16:15:22.942+0000",
         "Production"
        ],
        [
         47,
         "anderstorp",
         "Scandinavian Raceway",
         "Anderstorp",
         "57.2653",
         "13.6042",
         153,
         "2023-10-15T16:15:22.942+0000",
         "Production"
        ],
        [
         48,
         "mosport",
         "Mosport International Raceway",
         "Ontario",
         "44.0481",
         "-78.6756",
         332,
         "2023-10-15T16:15:22.942+0000",
         "Production"
        ],
        [
         49,
         "montjuic",
         "Montjuïc",
         "Barcelona",
         "41.3664",
         "2.15167",
         79,
         "2023-10-15T16:15:22.942+0000",
         "Production"
        ],
        [
         50,
         "nivelles",
         "Nivelles-Baulers",
         "Brussels",
         "50.6211",
         "4.32694",
         139,
         "2023-10-15T16:15:22.942+0000",
         "Production"
        ],
        [
         51,
         "charade",
         "Charade Circuit",
         "Clermont-Ferrand",
         "45.7472",
         "3.03889",
         790,
         "2023-10-15T16:15:22.942+0000",
         "Production"
        ],
        [
         52,
         "tremblant",
         "Circuit Mont-Tremblant",
         "Quebec",
         "46.1877",
         "-74.6099",
         214,
         "2023-10-15T16:15:22.942+0000",
         "Production"
        ],
        [
         53,
         "essarts",
         "Rouen-Les-Essarts",
         "Rouen",
         "49.3306",
         "1.00458",
         81,
         "2023-10-15T16:15:22.942+0000",
         "Production"
        ],
        [
         54,
         "lemans",
         "Le Mans",
         "Le Mans",
         "47.95",
         "0.224231",
         67,
         "2023-10-15T16:15:22.942+0000",
         "Production"
        ],
        [
         55,
         "reims",
         "Reims-Gueux",
         "Reims",
         "49.2542",
         "3.93083",
         88,
         "2023-10-15T16:15:22.942+0000",
         "Production"
        ],
        [
         56,
         "george",
         "Prince George Circuit",
         "Eastern Cape Province",
         "-33.0486",
         "27.8736",
         15,
         "2023-10-15T16:15:22.942+0000",
         "Production"
        ],
        [
         57,
         "zeltweg",
         "Zeltweg",
         "Styria",
         "47.2039",
         "14.7478",
         676,
         "2023-10-15T16:15:22.942+0000",
         "Production"
        ],
        [
         58,
         "aintree",
         "Aintree",
         "Liverpool",
         "53.4769",
         "-2.94056",
         20,
         "2023-10-15T16:15:22.942+0000",
         "Production"
        ],
        [
         59,
         "boavista",
         "Circuito da Boavista",
         "Oporto",
         "41.1705",
         "-8.67325",
         28,
         "2023-10-15T16:15:22.942+0000",
         "Production"
        ],
        [
         60,
         "riverside",
         "Riverside International Raceway",
         "California",
         "33.937",
         "-117.273",
         470,
         "2023-10-15T16:15:22.942+0000",
         "Production"
        ],
        [
         61,
         "avus",
         "AVUS",
         "Berlin",
         "52.4806",
         "13.2514",
         53,
         "2023-10-15T16:15:22.942+0000",
         "Production"
        ],
        [
         62,
         "monsanto",
         "Monsanto Park Circuit",
         "Lisbon",
         "38.7197",
         "-9.20306",
         158,
         "2023-10-15T16:15:22.942+0000",
         "Production"
        ],
        [
         63,
         "sebring",
         "Sebring International Raceway",
         "Florida",
         "27.4547",
         "-81.3483",
         18,
         "2023-10-15T16:15:22.942+0000",
         "Production"
        ],
        [
         64,
         "ain-diab",
         "Ain Diab",
         "Casablanca",
         "33.5786",
         "-7.6875",
         19,
         "2023-10-15T16:15:22.942+0000",
         "Production"
        ],
        [
         65,
         "pescara",
         "Pescara Circuit",
         "Pescara",
         "42.475",
         "14.1508",
         129,
         "2023-10-15T16:15:22.942+0000",
         "Production"
        ],
        [
         66,
         "bremgarten",
         "Circuit Bremgarten",
         "Bern",
         "46.9589",
         "7.40194",
         551,
         "2023-10-15T16:15:22.942+0000",
         "Production"
        ],
        [
         67,
         "pedralbes",
         "Circuit de Pedralbes",
         "Barcelona",
         "41.3903",
         "2.11667",
         85,
         "2023-10-15T16:15:22.942+0000",
         "Production"
        ],
        [
         68,
         "buddh",
         "Buddh International Circuit",
         "Uttar Pradesh",
         "28.3487",
         "77.5331",
         194,
         "2023-10-15T16:15:22.942+0000",
         "Production"
        ],
        [
         69,
         "americas",
         "Circuit of the Americas",
         "Austin",
         "30.1328",
         "-97.6411",
         161,
         "2023-10-15T16:15:22.942+0000",
         "Production"
        ],
        [
         70,
         "red_bull_ring",
         "Red Bull Ring",
         "Spielburg",
         "47.2197",
         "14.7647",
         678,
         "2023-10-15T16:15:22.942+0000",
         "Production"
        ],
        [
         71,
         "sochi",
         "Sochi Autodrom",
         "Sochi",
         "43.4057",
         "39.9578",
         2,
         "2023-10-15T16:15:22.942+0000",
         "Production"
        ],
        [
         72,
         "port_imperial",
         "Port Imperial Street Circuit",
         "New Jersey",
         "40.7769",
         "-74.0111",
         4,
         "2023-10-15T16:15:22.942+0000",
         "Production"
        ],
        [
         73,
         "BAK",
         "Baku City Circuit",
         "Baku",
         "40.3725",
         "49.8533",
         -7,
         "2023-10-15T16:15:22.942+0000",
         "Production"
        ],
        [
         74,
         "hanoi",
         "Hanoi Street Circuit",
         "Hanoi",
         "21.0166",
         "105.766",
         9,
         "2023-10-15T16:15:22.942+0000",
         "Production"
        ],
        [
         75,
         "portimao",
         "Autódromo Internacional do Algarve",
         "Portimão",
         "37.227",
         "-8.6267",
         108,
         "2023-10-15T16:15:22.942+0000",
         "Production"
        ],
        [
         76,
         "mugello",
         "Autodromo Internazionale del Mugello",
         "Mugello",
         "43.9975",
         "11.3719",
         255,
         "2023-10-15T16:15:22.942+0000",
         "Production"
        ],
        [
         77,
         "jeddah",
         "Jeddah Street Circuit",
         "Jeddah",
         "21.5433",
         "39.1728",
         15,
         "2023-10-15T16:15:22.942+0000",
         "Production"
        ]
       ],
       "datasetInfos": [],
       "dbfsResultPath": null,
       "isJsonSchema": true,
       "metadata": {},
       "overflow": false,
       "plotOptions": {
        "customPlotOptions": {},
        "displayType": "table",
        "pivotAggregation": null,
        "pivotColumns": null,
        "xColumns": null,
        "yColumns": null
       },
       "removedWidgets": [],
       "schema": [
        {
         "metadata": "{}",
         "name": "circuit_id",
         "type": "\"integer\""
        },
        {
         "metadata": "{}",
         "name": "circuitRef",
         "type": "\"string\""
        },
        {
         "metadata": "{}",
         "name": "name",
         "type": "\"string\""
        },
        {
         "metadata": "{}",
         "name": "race_location",
         "type": "\"string\""
        },
        {
         "metadata": "{}",
         "name": "latitude",
         "type": "\"string\""
        },
        {
         "metadata": "{}",
         "name": "longitude",
         "type": "\"string\""
        },
        {
         "metadata": "{}",
         "name": "altitude",
         "type": "\"integer\""
        },
        {
         "metadata": "{}",
         "name": "ingestion_date",
         "type": "\"timestamp\""
        },
        {
         "metadata": "{}",
         "name": "env",
         "type": "\"string\""
        }
       ],
       "type": "table"
      }
     },
     "output_type": "display_data"
    }
   ],
   "source": [
    "display(df)"
   ]
  }
 ],
 "metadata": {
  "application/vnd.databricks.v1+notebook": {
   "dashboards": [],
   "language": "python",
   "notebookMetadata": {
    "mostRecentlyExecutedCommandWithImplicitDF": {
     "commandId": 1429757315753806,
     "dataframes": [
      "_sqldf"
     ]
    },
    "pythonIndentUnit": 4
   },
   "notebookName": "01_ingest_circuits_file.ipynb",
   "widgets": {
    "p_data_source": {
     "currentValue": "testing",
     "nuid": "0cc23345-2c6f-4c6c-805f-27d3d8e67c0d",
     "widgetInfo": {
      "widgetType": "text",
      "defaultValue": "",
      "label": null,
      "name": "p_data_source",
      "options": {
       "widgetType": "text",
       "validationRegex": null
      }
     }
    }
   }
  }
 },
 "nbformat": 4,
 "nbformat_minor": 0
}
