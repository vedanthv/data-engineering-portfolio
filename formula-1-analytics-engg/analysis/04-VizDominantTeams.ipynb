{
 "cells": [
  {
   "cell_type": "markdown",
   "metadata": {
    "application/vnd.databricks.v1+cell": {
     "cellMetadata": {},
     "inputWidgets": {},
     "nuid": "19162c27-51ec-49ef-ba5a-40e008fcf912",
     "showTitle": false,
     "title": ""
    }
   },
   "source": [
    "### Visualization of Dominant Teams"
   ]
  },
  {
   "cell_type": "code",
   "execution_count": 0,
   "metadata": {
    "application/vnd.databricks.v1+cell": {
     "cellMetadata": {
      "byteLimit": 2048000,
      "implicitDf": true,
      "rowLimit": 10000
     },
     "inputWidgets": {},
     "nuid": "e8b281f8-7dd8-4bc0-8c1a-4164c6253207",
     "showTitle": false,
     "title": ""
    }
   },
   "outputs": [
    {
     "output_type": "display_data",
     "data": {
      "text/html": [
       "<style scoped>\n",
       "  .table-result-container {\n",
       "    max-height: 300px;\n",
       "    overflow: auto;\n",
       "  }\n",
       "  table, th, td {\n",
       "    border: 1px solid black;\n",
       "    border-collapse: collapse;\n",
       "  }\n",
       "  th, td {\n",
       "    padding: 5px;\n",
       "  }\n",
       "  th {\n",
       "    text-align: left;\n",
       "  }\n",
       "</style><div class='table-result-container'><table class='table-result'><thead style='background-color: white'><tr></tr></thead><tbody></tbody></table></div>"
      ]
     },
     "metadata": {
      "application/vnd.databricks.v1+output": {
       "addedWidgets": {},
       "aggData": [],
       "aggError": "",
       "aggOverflow": false,
       "aggSchema": [],
       "aggSeriesLimitReached": false,
       "aggType": "",
       "arguments": {},
       "columnCustomDisplayInfos": {},
       "data": [],
       "datasetInfos": [],
       "dbfsResultPath": null,
       "isJsonSchema": true,
       "metadata": {
        "dataframeName": null
       },
       "overflow": false,
       "plotOptions": {
        "customPlotOptions": {},
        "displayType": "table",
        "pivotAggregation": null,
        "pivotColumns": null,
        "xColumns": null,
        "yColumns": null
       },
       "removedWidgets": [],
       "schema": [],
       "type": "table"
      }
     },
     "output_type": "display_data"
    }
   ],
   "source": [
    "%sql\n",
    "CREATE OR REPLACE TEMP VIEW v_dominant_teams\n",
    "AS\n",
    "SELECT team_name,\n",
    "       COUNT(1) AS total_races,\n",
    "       SUM(calculated_points) AS total_points,\n",
    "       AVG(calculated_points) AS avg_points,\n",
    "       RANK() OVER(ORDER BY AVG(calculated_points) DESC) team_rank\n",
    "  FROM f1_presentation.calculated_race_results\n",
    "GROUP BY team_name\n",
    "HAVING COUNT(1) >= 100\n",
    "ORDER BY avg_points DESC"
   ]
  },
  {
   "cell_type": "code",
   "execution_count": 0,
   "metadata": {
    "application/vnd.databricks.v1+cell": {
     "cellMetadata": {
      "byteLimit": 2048000,
      "implicitDf": true,
      "rowLimit": 10000
     },
     "inputWidgets": {},
     "nuid": "c960ddb2-a711-4c2f-8097-09c125f542b4",
     "showTitle": false,
     "title": ""
    }
   },
   "outputs": [
    {
     "output_type": "display_data",
     "data": {
      "text/html": [
       "<style scoped>\n",
       "  .table-result-container {\n",
       "    max-height: 300px;\n",
       "    overflow: auto;\n",
       "  }\n",
       "  table, th, td {\n",
       "    border: 1px solid black;\n",
       "    border-collapse: collapse;\n",
       "  }\n",
       "  th, td {\n",
       "    padding: 5px;\n",
       "  }\n",
       "  th {\n",
       "    text-align: left;\n",
       "  }\n",
       "</style><div class='table-result-container'><table class='table-result'><thead style='background-color: white'><tr><th>race_year</th><th>team_name</th><th>total_races</th><th>total_points</th><th>avg_points</th></tr></thead><tbody><tr><td>1950</td><td>Ferrari</td><td>8</td><td>57</td><td>7.125</td></tr><tr><td>1951</td><td>Ferrari</td><td>22</td><td>168</td><td>7.636363636363637</td></tr><tr><td>1952</td><td>Ferrari</td><td>28</td><td>202</td><td>7.214285714285714</td></tr><tr><td>1953</td><td>Ferrari</td><td>35</td><td>230</td><td>6.571428571428571</td></tr><tr><td>1954</td><td>Mercedes</td><td>12</td><td>96</td><td>8.0</td></tr><tr><td>1954</td><td>Ferrari</td><td>25</td><td>175</td><td>7.0</td></tr><tr><td>1955</td><td>Mercedes</td><td>15</td><td>124</td><td>8.266666666666667</td></tr><tr><td>1955</td><td>Ferrari</td><td>21</td><td>131</td><td>6.238095238095238</td></tr><tr><td>1956</td><td>Ferrari</td><td>23</td><td>172</td><td>7.478260869565218</td></tr><tr><td>1957</td><td>Ferrari</td><td>20</td><td>130</td><td>6.5</td></tr><tr><td>1958</td><td>Ferrari</td><td>21</td><td>159</td><td>7.571428571428571</td></tr><tr><td>1959</td><td>Ferrari</td><td>19</td><td>132</td><td>6.947368421052632</td></tr><tr><td>1960</td><td>Ferrari</td><td>17</td><td>102</td><td>6.0</td></tr><tr><td>1961</td><td>Ferrari</td><td>19</td><td>152</td><td>8.0</td></tr><tr><td>1962</td><td>Ferrari</td><td>12</td><td>73</td><td>6.083333333333333</td></tr><tr><td>1963</td><td>Ferrari</td><td>8</td><td>53</td><td>6.625</td></tr><tr><td>1964</td><td>Ferrari</td><td>15</td><td>105</td><td>7.0</td></tr><tr><td>1965</td><td>Ferrari</td><td>16</td><td>86</td><td>5.375</td></tr><tr><td>1966</td><td>Ferrari</td><td>8</td><td>65</td><td>8.125</td></tr><tr><td>1967</td><td>Ferrari</td><td>11</td><td>64</td><td>5.818181818181818</td></tr><tr><td>1968</td><td>Ferrari</td><td>10</td><td>70</td><td>7.0</td></tr><tr><td>1969</td><td>Ferrari</td><td>4</td><td>23</td><td>5.75</td></tr><tr><td>1970</td><td>Ferrari</td><td>15</td><td>119</td><td>7.933333333333334</td></tr><tr><td>1971</td><td>Ferrari</td><td>11</td><td>79</td><td>7.181818181818182</td></tr><tr><td>1971</td><td>McLaren</td><td>11</td><td>46</td><td>4.181818181818182</td></tr><tr><td>1972</td><td>McLaren</td><td>20</td><td>136</td><td>6.8</td></tr><tr><td>1972</td><td>Ferrari</td><td>15</td><td>99</td><td>6.6</td></tr><tr><td>1973</td><td>McLaren</td><td>24</td><td>147</td><td>6.125</td></tr><tr><td>1973</td><td>Ferrari</td><td>11</td><td>54</td><td>4.909090909090909</td></tr><tr><td>1974</td><td>Ferrari</td><td>17</td><td>142</td><td>8.352941176470589</td></tr><tr><td>1974</td><td>McLaren</td><td>31</td><td>187</td><td>6.032258064516129</td></tr><tr><td>1975</td><td>Ferrari</td><td>20</td><td>150</td><td>7.5</td></tr><tr><td>1975</td><td>McLaren</td><td>18</td><td>127</td><td>7.055555555555555</td></tr><tr><td>1975</td><td>Williams</td><td>2</td><td>13</td><td>6.5</td></tr><tr><td>1976</td><td>McLaren</td><td>20</td><td>147</td><td>7.35</td></tr><tr><td>1976</td><td>Ferrari</td><td>22</td><td>159</td><td>7.2272727272727275</td></tr><tr><td>1976</td><td>Williams</td><td>1</td><td>2</td><td>2.0</td></tr><tr><td>1977</td><td>Ferrari</td><td>24</td><td>189</td><td>7.875</td></tr><tr><td>1977</td><td>McLaren</td><td>20</td><td>124</td><td>6.2</td></tr><tr><td>1978</td><td>Ferrari</td><td>20</td><td>119</td><td>5.95</td></tr><tr><td>1978</td><td>Williams</td><td>7</td><td>32</td><td>4.571428571428571</td></tr><tr><td>1978</td><td>McLaren</td><td>21</td><td>86</td><td>4.095238095238095</td></tr><tr><td>1979</td><td>Ferrari</td><td>24</td><td>183</td><td>7.625</td></tr><tr><td>1979</td><td>Williams</td><td>17</td><td>117</td><td>6.882352941176471</td></tr><tr><td>1979</td><td>McLaren</td><td>13</td><td>55</td><td>4.230769230769231</td></tr><tr><td>1980</td><td>Williams</td><td>22</td><td>182</td><td>8.272727272727273</td></tr><tr><td>1980</td><td>McLaren</td><td>10</td><td>50</td><td>5.0</td></tr><tr><td>1980</td><td>Ferrari</td><td>12</td><td>47</td><td>3.9166666666666665</td></tr><tr><td>1981</td><td>Williams</td><td>21</td><td>154</td><td>7.333333333333333</td></tr><tr><td>1981</td><td>Ferrari</td><td>13</td><td>72</td><td>5.538461538461538</td></tr><tr><td>1981</td><td>McLaren</td><td>13</td><td>70</td><td>5.384615384615385</td></tr><tr><td>1982</td><td>Ferrari</td><td>16</td><td>122</td><td>7.625</td></tr><tr><td>1982</td><td>McLaren</td><td>17</td><td>118</td><td>6.9411764705882355</td></tr><tr><td>1982</td><td>Williams</td><td>20</td><td>128</td><td>6.4</td></tr><tr><td>1983</td><td>Ferrari</td><td>20</td><td>148</td><td>7.4</td></tr><tr><td>1983</td><td>McLaren</td><td>12</td><td>74</td><td>6.166666666666667</td></tr><tr><td>1983</td><td>Williams</td><td>16</td><td>94</td><td>5.875</td></tr><tr><td>1984</td><td>McLaren</td><td>21</td><td>191</td><td>9.095238095238095</td></tr><tr><td>1984</td><td>Ferrari</td><td>18</td><td>123</td><td>6.833333333333333</td></tr><tr><td>1984</td><td>Williams</td><td>10</td><td>60</td><td>6.0</td></tr><tr><td>1985</td><td>McLaren</td><td>16</td><td>134</td><td>8.375</td></tr><tr><td>1985</td><td>Ferrari</td><td>20</td><td>147</td><td>7.35</td></tr><tr><td>1985</td><td>Williams</td><td>17</td><td>123</td><td>7.235294117647059</td></tr><tr><td>1986</td><td>Williams</td><td>24</td><td>205</td><td>8.541666666666666</td></tr><tr><td>1986</td><td>McLaren</td><td>21</td><td>161</td><td>7.666666666666667</td></tr><tr><td>1986</td><td>Ferrari</td><td>15</td><td>88</td><td>5.866666666666666</td></tr><tr><td>1987</td><td>Williams</td><td>22</td><td>189</td><td>8.590909090909092</td></tr><tr><td>1987</td><td>Ferrari</td><td>12</td><td>92</td><td>7.666666666666667</td></tr><tr><td>1987</td><td>McLaren</td><td>22</td><td>149</td><td>6.7727272727272725</td></tr><tr><td>1988</td><td>McLaren</td><td>28</td><td>253</td><td>9.035714285714286</td></tr><tr><td>1988</td><td>Ferrari</td><td>18</td><td>129</td><td>7.166666666666667</td></tr><tr><td>1988</td><td>Williams</td><td>10</td><td>57</td><td>5.7</td></tr><tr><td>1989</td><td>Ferrari</td><td>9</td><td>82</td><td>9.11111111111111</td></tr><tr><td>1989</td><td>McLaren</td><td>21</td><td>188</td><td>8.952380952380953</td></tr><tr><td>1989</td><td>Williams</td><td>19</td><td>137</td><td>7.2105263157894735</td></tr><tr><td>1990</td><td>Ferrari</td><td>19</td><td>163</td><td>8.578947368421053</td></tr><tr><td>1990</td><td>McLaren</td><td>22</td><td>187</td><td>8.5</td></tr><tr><td>1990</td><td>Williams</td><td>21</td><td>130</td><td>6.190476190476191</td></tr><tr><td>1991</td><td>Williams</td><td>21</td><td>179</td><td>8.523809523809524</td></tr><tr><td>1991</td><td>McLaren</td><td>24</td><td>204</td><td>8.5</td></tr><tr><td>1991</td><td>Ferrari</td><td>16</td><td>117</td><td>7.3125</td></tr><tr><td>1992</td><td>Williams</td><td>23</td><td>206</td><td>8.956521739130435</td></tr><tr><td>1992</td><td>McLaren</td><td>19</td><td>150</td><td>7.894736842105263</td></tr><tr><td>1992</td><td>Ferrari</td><td>10</td><td>56</td><td>5.6</td></tr><tr><td>1993</td><td>Williams</td><td>24</td><td>217</td><td>9.041666666666666</td></tr><tr><td>1993</td><td>McLaren</td><td>17</td><td>128</td><td>7.529411764705882</td></tr><tr><td>1993</td><td>Ferrari</td><td>14</td><td>77</td><td>5.5</td></tr><tr><td>1994</td><td>Williams</td><td>20</td><td>163</td><td>8.15</td></tr><tr><td>1994</td><td>Ferrari</td><td>17</td><td>127</td><td>7.470588235294118</td></tr><tr><td>1994</td><td>McLaren</td><td>13</td><td>91</td><td>7.0</td></tr><tr><td>1995</td><td>Williams</td><td>19</td><td>167</td><td>8.789473684210526</td></tr><tr><td>1995</td><td>Ferrari</td><td>18</td><td>137</td><td>7.611111111111111</td></tr><tr><td>1995</td><td>McLaren</td><td>17</td><td>85</td><td>5.0</td></tr><tr><td>1996</td><td>Williams</td><td>24</td><td>216</td><td>9.0</td></tr><tr><td>1996</td><td>Ferrari</td><td>16</td><td>117</td><td>7.3125</td></tr><tr><td>1996</td><td>McLaren</td><td>21</td><td>129</td><td>6.142857142857143</td></tr><tr><td>1997</td><td>Williams</td><td>23</td><td>177</td><td>7.695652173913044</td></tr><tr><td>1997</td><td>Ferrari</td><td>22</td><td>160</td><td>7.2727272727272725</td></tr><tr><td>1997</td><td>McLaren</td><td>19</td><td>117</td><td>6.157894736842105</td></tr><tr><td>1998</td><td>McLaren</td><td>25</td><td>212</td><td>8.48</td></tr><tr><td>1998</td><td>Ferrari</td><td>26</td><td>203</td><td>7.8076923076923075</td></tr><tr><td>1998</td><td>Williams</td><td>24</td><td>125</td><td>5.208333333333333</td></tr><tr><td>1999</td><td>McLaren</td><td>20</td><td>170</td><td>8.5</td></tr><tr><td>1999</td><td>Ferrari</td><td>27</td><td>203</td><td>7.518518518518518</td></tr><tr><td>1999</td><td>Williams</td><td>16</td><td>91</td><td>5.6875</td></tr><tr><td>2000</td><td>Ferrari</td><td>26</td><td>228</td><td>8.76923076923077</td></tr><tr><td>2000</td><td>McLaren</td><td>28</td><td>236</td><td>8.428571428571429</td></tr><tr><td>2000</td><td>Williams</td><td>18</td><td>102</td><td>5.666666666666667</td></tr><tr><td>2001</td><td>Ferrari</td><td>28</td><td>245</td><td>8.75</td></tr><tr><td>2001</td><td>Williams</td><td>16</td><td>123</td><td>7.6875</td></tr><tr><td>2001</td><td>McLaren</td><td>23</td><td>173</td><td>7.521739130434782</td></tr><tr><td>2002</td><td>Ferrari</td><td>29</td><td>267</td><td>9.206896551724139</td></tr><tr><td>2002</td><td>Williams</td><td>24</td><td>178</td><td>7.416666666666667</td></tr><tr><td>2002</td><td>McLaren</td><td>19</td><td>132</td><td>6.947368421052632</td></tr><tr><td>2003</td><td>McLaren</td><td>23</td><td>176</td><td>7.6521739130434785</td></tr><tr><td>2003</td><td>Ferrari</td><td>26</td><td>193</td><td>7.423076923076923</td></tr><tr><td>2003</td><td>Williams</td><td>25</td><td>180</td><td>7.2</td></tr><tr><td>2004</td><td>Ferrari</td><td>32</td><td>287</td><td>8.96875</td></tr><tr><td>2004</td><td>Williams</td><td>24</td><td>130</td><td>5.416666666666667</td></tr><tr><td>2004</td><td>McLaren</td><td>21</td><td>106</td><td>5.0476190476190474</td></tr><tr><td>2005</td><td>McLaren</td><td>27</td><td>212</td><td>7.851851851851852</td></tr><tr><td>2005</td><td>Williams</td><td>17</td><td>97</td><td>5.705882352941177</td></tr><tr><td>2005</td><td>Ferrari</td><td>27</td><td>143</td><td>5.296296296296297</td></tr><tr><td>2005</td><td>Red Bull</td><td>22</td><td>77</td><td>3.5</td></tr><tr><td>2006</td><td>Ferrari</td><td>32</td><td>240</td><td>7.5</td></tr><tr><td>2006</td><td>McLaren</td><td>22</td><td>150</td><td>6.818181818181818</td></tr><tr><td>2006</td><td>Red Bull</td><td>10</td><td>35</td><td>3.5</td></tr><tr><td>2006</td><td>Williams</td><td>11</td><td>30</td><td>2.727272727272727</td></tr><tr><td>2007</td><td>Ferrari</td><td>29</td><td>238</td><td>8.206896551724139</td></tr><tr><td>2007</td><td>McLaren</td><td>32</td><td>257</td><td>8.03125</td></tr><tr><td>2007</td><td>Williams</td><td>16</td><td>61</td><td>3.8125</td></tr><tr><td>2007</td><td>Red Bull</td><td>14</td><td>49</td><td>3.5</td></tr><tr><td>2008</td><td>Ferrari</td><td>27</td><td>206</td><td>7.62962962962963</td></tr><tr><td>2008</td><td>McLaren</td><td>29</td><td>191</td><td>6.586206896551724</td></tr><tr><td>2008</td><td>Williams</td><td>13</td><td>49</td><td>3.769230769230769</td></tr><tr><td>2008</td><td>Red Bull</td><td>18</td><td>63</td><td>3.5</td></tr><tr><td>2009</td><td>Red Bull</td><td>24</td><td>185</td><td>7.708333333333333</td></tr><tr><td>2009</td><td>McLaren</td><td>17</td><td>101</td><td>5.9411764705882355</td></tr><tr><td>2009</td><td>Ferrari</td><td>19</td><td>103</td><td>5.421052631578948</td></tr><tr><td>2009</td><td>Williams</td><td>16</td><td>66</td><td>4.125</td></tr><tr><td>2010</td><td>Red Bull</td><td>32</td><td>241</td><td>7.53125</td></tr><tr><td>2010</td><td>McLaren</td><td>31</td><td>231</td><td>7.451612903225806</td></tr><tr><td>2010</td><td>Ferrari</td><td>30</td><td>203</td><td>6.766666666666667</td></tr><tr><td>2010</td><td>Mercedes</td><td>27</td><td>131</td><td>4.851851851851852</td></tr><tr><td>2010</td><td>Williams</td><td>17</td><td>48</td><td>2.823529411764706</td></tr><tr><td>2011</td><td>Red Bull</td><td>36</td><td>308</td><td>8.555555555555555</td></tr><tr><td>2011</td><td>McLaren</td><td>33</td><td>251</td><td>7.606060606060606</td></tr><tr><td>2011</td><td>Ferrari</td><td>33</td><td>210</td><td>6.363636363636363</td></tr><tr><td>2011</td><td>Mercedes</td><td>25</td><td>107</td><td>4.28</td></tr><tr><td>2011</td><td>Williams</td><td>3</td><td>5</td><td>1.6666666666666667</td></tr><tr><td>2012</td><td>Red Bull</td><td>32</td><td>232</td><td>7.25</td></tr><tr><td>2012</td><td>McLaren</td><td>28</td><td>187</td><td>6.678571428571429</td></tr><tr><td>2012</td><td>Ferrari</td><td>32</td><td>212</td><td>6.625</td></tr><tr><td>2012</td><td>Mercedes</td><td>18</td><td>82</td><td>4.555555555555555</td></tr><tr><td>2012</td><td>Williams</td><td>15</td><td>47</td><td>3.1333333333333333</td></tr><tr><td>2013</td><td>Red Bull</td><td>33</td><td>277</td><td>8.393939393939394</td></tr><tr><td>2013</td><td>Ferrari</td><td>32</td><td>195</td><td>6.09375</td></tr><tr><td>2013</td><td>Mercedes</td><td>33</td><td>199</td><td>6.03030303030303</td></tr><tr><td>2013</td><td>McLaren</td><td>25</td><td>84</td><td>3.36</td></tr><tr><td>2013</td><td>Williams</td><td>2</td><td>4</td><td>2.0</td></tr><tr><td>2014</td><td>Mercedes</td><td>32</td><td>300</td><td>9.375</td></tr><tr><td>2014</td><td>Red Bull</td><td>32</td><td>211</td><td>6.59375</td></tr><tr><td>2014</td><td>Williams</td><td>28</td><td>165</td><td>5.892857142857143</td></tr><tr><td>2014</td><td>Ferrari</td><td>30</td><td>133</td><td>4.433333333333334</td></tr><tr><td>2014</td><td>McLaren</td><td>25</td><td>107</td><td>4.28</td></tr><tr><td>2015</td><td>Mercedes</td><td>35</td><td>316</td><td>9.028571428571428</td></tr><tr><td>2015</td><td>Ferrari</td><td>31</td><td>226</td><td>7.290322580645161</td></tr><tr><td>2015</td><td>Williams</td><td>26</td><td>152</td><td>5.846153846153846</td></tr><tr><td>2015</td><td>Red Bull</td><td>27</td><td>115</td><td>4.2592592592592595</td></tr><tr><td>2015</td><td>McLaren</td><td>6</td><td>19</td><td>3.1666666666666665</td></tr><tr><td>2016</td><td>Mercedes</td><td>39</td><td>344</td><td>8.820512820512821</td></tr><tr><td>2016</td><td>Red Bull</td><td>36</td><td>252</td><td>7.0</td></tr><tr><td>2016</td><td>Ferrari</td><td>34</td><td>225</td><td>6.617647058823529</td></tr><tr><td>2016</td><td>Williams</td><td>28</td><td>94</td><td>3.357142857142857</td></tr><tr><td>2016</td><td>McLaren</td><td>17</td><td>53</td><td>3.1176470588235294</td></tr><tr><td>2017</td><td>Mercedes</td><td>39</td><td>319</td><td>8.179487179487179</td></tr><tr><td>2017</td><td>Ferrari</td><td>34</td><td>266</td><td>7.823529411764706</td></tr><tr><td>2017</td><td>Red Bull</td><td>27</td><td>194</td><td>7.185185185185185</td></tr><tr><td>2017</td><td>Williams</td><td>20</td><td>59</td><td>2.95</td></tr><tr><td>2017</td><td>McLaren</td><td>8</td><td>22</td><td>2.75</td></tr><tr><td>2018</td><td>Mercedes</td><td>39</td><td>316</td><td>8.102564102564102</td></tr><tr><td>2018</td><td>Ferrari</td><td>37</td><td>289</td><td>7.8108108108108105</td></tr><tr><td>2018</td><td>Red Bull</td><td>30</td><td>219</td><td>7.3</td></tr><tr><td>2018</td><td>McLaren</td><td>13</td><td>44</td><td>3.3846153846153846</td></tr><tr><td>2018</td><td>Williams</td><td>2</td><td>4</td><td>2.0</td></tr><tr><td>2019</td><td>Mercedes</td><td>40</td><td>339</td><td>8.475</td></tr><tr><td>2019</td><td>Ferrari</td><td>34</td><td>261</td><td>7.676470588235294</td></tr><tr><td>2019</td><td>Red Bull</td><td>36</td><td>227</td><td>6.305555555555555</td></tr><tr><td>2019</td><td>McLaren</td><td>24</td><td>95</td><td>3.9583333333333335</td></tr><tr><td>2019</td><td>Williams</td><td>1</td><td>1</td><td>1.0</td></tr><tr><td>2020</td><td>Mercedes</td><td>31</td><td>258</td><td>8.32258064516129</td></tr><tr><td>2020</td><td>Red Bull</td><td>24</td><td>166</td><td>6.916666666666667</td></tr><tr><td>2020</td><td>McLaren</td><td>25</td><td>122</td><td>4.88</td></tr><tr><td>2020</td><td>Ferrari</td><td>17</td><td>78</td><td>4.588235294117647</td></tr></tbody></table></div>"
      ]
     },
     "metadata": {
      "application/vnd.databricks.v1+output": {
       "addedWidgets": {},
       "aggData": [],
       "aggError": "",
       "aggOverflow": false,
       "aggSchema": [],
       "aggSeriesLimitReached": false,
       "aggType": "",
       "arguments": {},
       "columnCustomDisplayInfos": {},
       "data": [
        [
         1950,
         "Ferrari",
         8,
         57,
         7.125
        ],
        [
         1951,
         "Ferrari",
         22,
         168,
         7.636363636363637
        ],
        [
         1952,
         "Ferrari",
         28,
         202,
         7.214285714285714
        ],
        [
         1953,
         "Ferrari",
         35,
         230,
         6.571428571428571
        ],
        [
         1954,
         "Mercedes",
         12,
         96,
         8.0
        ],
        [
         1954,
         "Ferrari",
         25,
         175,
         7.0
        ],
        [
         1955,
         "Mercedes",
         15,
         124,
         8.266666666666667
        ],
        [
         1955,
         "Ferrari",
         21,
         131,
         6.238095238095238
        ],
        [
         1956,
         "Ferrari",
         23,
         172,
         7.478260869565218
        ],
        [
         1957,
         "Ferrari",
         20,
         130,
         6.5
        ],
        [
         1958,
         "Ferrari",
         21,
         159,
         7.571428571428571
        ],
        [
         1959,
         "Ferrari",
         19,
         132,
         6.947368421052632
        ],
        [
         1960,
         "Ferrari",
         17,
         102,
         6.0
        ],
        [
         1961,
         "Ferrari",
         19,
         152,
         8.0
        ],
        [
         1962,
         "Ferrari",
         12,
         73,
         6.083333333333333
        ],
        [
         1963,
         "Ferrari",
         8,
         53,
         6.625
        ],
        [
         1964,
         "Ferrari",
         15,
         105,
         7.0
        ],
        [
         1965,
         "Ferrari",
         16,
         86,
         5.375
        ],
        [
         1966,
         "Ferrari",
         8,
         65,
         8.125
        ],
        [
         1967,
         "Ferrari",
         11,
         64,
         5.818181818181818
        ],
        [
         1968,
         "Ferrari",
         10,
         70,
         7.0
        ],
        [
         1969,
         "Ferrari",
         4,
         23,
         5.75
        ],
        [
         1970,
         "Ferrari",
         15,
         119,
         7.933333333333334
        ],
        [
         1971,
         "Ferrari",
         11,
         79,
         7.181818181818182
        ],
        [
         1971,
         "McLaren",
         11,
         46,
         4.181818181818182
        ],
        [
         1972,
         "McLaren",
         20,
         136,
         6.8
        ],
        [
         1972,
         "Ferrari",
         15,
         99,
         6.6
        ],
        [
         1973,
         "McLaren",
         24,
         147,
         6.125
        ],
        [
         1973,
         "Ferrari",
         11,
         54,
         4.909090909090909
        ],
        [
         1974,
         "Ferrari",
         17,
         142,
         8.352941176470589
        ],
        [
         1974,
         "McLaren",
         31,
         187,
         6.032258064516129
        ],
        [
         1975,
         "Ferrari",
         20,
         150,
         7.5
        ],
        [
         1975,
         "McLaren",
         18,
         127,
         7.055555555555555
        ],
        [
         1975,
         "Williams",
         2,
         13,
         6.5
        ],
        [
         1976,
         "McLaren",
         20,
         147,
         7.35
        ],
        [
         1976,
         "Ferrari",
         22,
         159,
         7.2272727272727275
        ],
        [
         1976,
         "Williams",
         1,
         2,
         2.0
        ],
        [
         1977,
         "Ferrari",
         24,
         189,
         7.875
        ],
        [
         1977,
         "McLaren",
         20,
         124,
         6.2
        ],
        [
         1978,
         "Ferrari",
         20,
         119,
         5.95
        ],
        [
         1978,
         "Williams",
         7,
         32,
         4.571428571428571
        ],
        [
         1978,
         "McLaren",
         21,
         86,
         4.095238095238095
        ],
        [
         1979,
         "Ferrari",
         24,
         183,
         7.625
        ],
        [
         1979,
         "Williams",
         17,
         117,
         6.882352941176471
        ],
        [
         1979,
         "McLaren",
         13,
         55,
         4.230769230769231
        ],
        [
         1980,
         "Williams",
         22,
         182,
         8.272727272727273
        ],
        [
         1980,
         "McLaren",
         10,
         50,
         5.0
        ],
        [
         1980,
         "Ferrari",
         12,
         47,
         3.9166666666666665
        ],
        [
         1981,
         "Williams",
         21,
         154,
         7.333333333333333
        ],
        [
         1981,
         "Ferrari",
         13,
         72,
         5.538461538461538
        ],
        [
         1981,
         "McLaren",
         13,
         70,
         5.384615384615385
        ],
        [
         1982,
         "Ferrari",
         16,
         122,
         7.625
        ],
        [
         1982,
         "McLaren",
         17,
         118,
         6.9411764705882355
        ],
        [
         1982,
         "Williams",
         20,
         128,
         6.4
        ],
        [
         1983,
         "Ferrari",
         20,
         148,
         7.4
        ],
        [
         1983,
         "McLaren",
         12,
         74,
         6.166666666666667
        ],
        [
         1983,
         "Williams",
         16,
         94,
         5.875
        ],
        [
         1984,
         "McLaren",
         21,
         191,
         9.095238095238095
        ],
        [
         1984,
         "Ferrari",
         18,
         123,
         6.833333333333333
        ],
        [
         1984,
         "Williams",
         10,
         60,
         6.0
        ],
        [
         1985,
         "McLaren",
         16,
         134,
         8.375
        ],
        [
         1985,
         "Ferrari",
         20,
         147,
         7.35
        ],
        [
         1985,
         "Williams",
         17,
         123,
         7.235294117647059
        ],
        [
         1986,
         "Williams",
         24,
         205,
         8.541666666666666
        ],
        [
         1986,
         "McLaren",
         21,
         161,
         7.666666666666667
        ],
        [
         1986,
         "Ferrari",
         15,
         88,
         5.866666666666666
        ],
        [
         1987,
         "Williams",
         22,
         189,
         8.590909090909092
        ],
        [
         1987,
         "Ferrari",
         12,
         92,
         7.666666666666667
        ],
        [
         1987,
         "McLaren",
         22,
         149,
         6.7727272727272725
        ],
        [
         1988,
         "McLaren",
         28,
         253,
         9.035714285714286
        ],
        [
         1988,
         "Ferrari",
         18,
         129,
         7.166666666666667
        ],
        [
         1988,
         "Williams",
         10,
         57,
         5.7
        ],
        [
         1989,
         "Ferrari",
         9,
         82,
         9.11111111111111
        ],
        [
         1989,
         "McLaren",
         21,
         188,
         8.952380952380953
        ],
        [
         1989,
         "Williams",
         19,
         137,
         7.2105263157894735
        ],
        [
         1990,
         "Ferrari",
         19,
         163,
         8.578947368421053
        ],
        [
         1990,
         "McLaren",
         22,
         187,
         8.5
        ],
        [
         1990,
         "Williams",
         21,
         130,
         6.190476190476191
        ],
        [
         1991,
         "Williams",
         21,
         179,
         8.523809523809524
        ],
        [
         1991,
         "McLaren",
         24,
         204,
         8.5
        ],
        [
         1991,
         "Ferrari",
         16,
         117,
         7.3125
        ],
        [
         1992,
         "Williams",
         23,
         206,
         8.956521739130435
        ],
        [
         1992,
         "McLaren",
         19,
         150,
         7.894736842105263
        ],
        [
         1992,
         "Ferrari",
         10,
         56,
         5.6
        ],
        [
         1993,
         "Williams",
         24,
         217,
         9.041666666666666
        ],
        [
         1993,
         "McLaren",
         17,
         128,
         7.529411764705882
        ],
        [
         1993,
         "Ferrari",
         14,
         77,
         5.5
        ],
        [
         1994,
         "Williams",
         20,
         163,
         8.15
        ],
        [
         1994,
         "Ferrari",
         17,
         127,
         7.470588235294118
        ],
        [
         1994,
         "McLaren",
         13,
         91,
         7.0
        ],
        [
         1995,
         "Williams",
         19,
         167,
         8.789473684210526
        ],
        [
         1995,
         "Ferrari",
         18,
         137,
         7.611111111111111
        ],
        [
         1995,
         "McLaren",
         17,
         85,
         5.0
        ],
        [
         1996,
         "Williams",
         24,
         216,
         9.0
        ],
        [
         1996,
         "Ferrari",
         16,
         117,
         7.3125
        ],
        [
         1996,
         "McLaren",
         21,
         129,
         6.142857142857143
        ],
        [
         1997,
         "Williams",
         23,
         177,
         7.695652173913044
        ],
        [
         1997,
         "Ferrari",
         22,
         160,
         7.2727272727272725
        ],
        [
         1997,
         "McLaren",
         19,
         117,
         6.157894736842105
        ],
        [
         1998,
         "McLaren",
         25,
         212,
         8.48
        ],
        [
         1998,
         "Ferrari",
         26,
         203,
         7.8076923076923075
        ],
        [
         1998,
         "Williams",
         24,
         125,
         5.208333333333333
        ],
        [
         1999,
         "McLaren",
         20,
         170,
         8.5
        ],
        [
         1999,
         "Ferrari",
         27,
         203,
         7.518518518518518
        ],
        [
         1999,
         "Williams",
         16,
         91,
         5.6875
        ],
        [
         2000,
         "Ferrari",
         26,
         228,
         8.76923076923077
        ],
        [
         2000,
         "McLaren",
         28,
         236,
         8.428571428571429
        ],
        [
         2000,
         "Williams",
         18,
         102,
         5.666666666666667
        ],
        [
         2001,
         "Ferrari",
         28,
         245,
         8.75
        ],
        [
         2001,
         "Williams",
         16,
         123,
         7.6875
        ],
        [
         2001,
         "McLaren",
         23,
         173,
         7.521739130434782
        ],
        [
         2002,
         "Ferrari",
         29,
         267,
         9.206896551724139
        ],
        [
         2002,
         "Williams",
         24,
         178,
         7.416666666666667
        ],
        [
         2002,
         "McLaren",
         19,
         132,
         6.947368421052632
        ],
        [
         2003,
         "McLaren",
         23,
         176,
         7.6521739130434785
        ],
        [
         2003,
         "Ferrari",
         26,
         193,
         7.423076923076923
        ],
        [
         2003,
         "Williams",
         25,
         180,
         7.2
        ],
        [
         2004,
         "Ferrari",
         32,
         287,
         8.96875
        ],
        [
         2004,
         "Williams",
         24,
         130,
         5.416666666666667
        ],
        [
         2004,
         "McLaren",
         21,
         106,
         5.0476190476190474
        ],
        [
         2005,
         "McLaren",
         27,
         212,
         7.851851851851852
        ],
        [
         2005,
         "Williams",
         17,
         97,
         5.705882352941177
        ],
        [
         2005,
         "Ferrari",
         27,
         143,
         5.296296296296297
        ],
        [
         2005,
         "Red Bull",
         22,
         77,
         3.5
        ],
        [
         2006,
         "Ferrari",
         32,
         240,
         7.5
        ],
        [
         2006,
         "McLaren",
         22,
         150,
         6.818181818181818
        ],
        [
         2006,
         "Red Bull",
         10,
         35,
         3.5
        ],
        [
         2006,
         "Williams",
         11,
         30,
         2.727272727272727
        ],
        [
         2007,
         "Ferrari",
         29,
         238,
         8.206896551724139
        ],
        [
         2007,
         "McLaren",
         32,
         257,
         8.03125
        ],
        [
         2007,
         "Williams",
         16,
         61,
         3.8125
        ],
        [
         2007,
         "Red Bull",
         14,
         49,
         3.5
        ],
        [
         2008,
         "Ferrari",
         27,
         206,
         7.62962962962963
        ],
        [
         2008,
         "McLaren",
         29,
         191,
         6.586206896551724
        ],
        [
         2008,
         "Williams",
         13,
         49,
         3.769230769230769
        ],
        [
         2008,
         "Red Bull",
         18,
         63,
         3.5
        ],
        [
         2009,
         "Red Bull",
         24,
         185,
         7.708333333333333
        ],
        [
         2009,
         "McLaren",
         17,
         101,
         5.9411764705882355
        ],
        [
         2009,
         "Ferrari",
         19,
         103,
         5.421052631578948
        ],
        [
         2009,
         "Williams",
         16,
         66,
         4.125
        ],
        [
         2010,
         "Red Bull",
         32,
         241,
         7.53125
        ],
        [
         2010,
         "McLaren",
         31,
         231,
         7.451612903225806
        ],
        [
         2010,
         "Ferrari",
         30,
         203,
         6.766666666666667
        ],
        [
         2010,
         "Mercedes",
         27,
         131,
         4.851851851851852
        ],
        [
         2010,
         "Williams",
         17,
         48,
         2.823529411764706
        ],
        [
         2011,
         "Red Bull",
         36,
         308,
         8.555555555555555
        ],
        [
         2011,
         "McLaren",
         33,
         251,
         7.606060606060606
        ],
        [
         2011,
         "Ferrari",
         33,
         210,
         6.363636363636363
        ],
        [
         2011,
         "Mercedes",
         25,
         107,
         4.28
        ],
        [
         2011,
         "Williams",
         3,
         5,
         1.6666666666666667
        ],
        [
         2012,
         "Red Bull",
         32,
         232,
         7.25
        ],
        [
         2012,
         "McLaren",
         28,
         187,
         6.678571428571429
        ],
        [
         2012,
         "Ferrari",
         32,
         212,
         6.625
        ],
        [
         2012,
         "Mercedes",
         18,
         82,
         4.555555555555555
        ],
        [
         2012,
         "Williams",
         15,
         47,
         3.1333333333333333
        ],
        [
         2013,
         "Red Bull",
         33,
         277,
         8.393939393939394
        ],
        [
         2013,
         "Ferrari",
         32,
         195,
         6.09375
        ],
        [
         2013,
         "Mercedes",
         33,
         199,
         6.03030303030303
        ],
        [
         2013,
         "McLaren",
         25,
         84,
         3.36
        ],
        [
         2013,
         "Williams",
         2,
         4,
         2.0
        ],
        [
         2014,
         "Mercedes",
         32,
         300,
         9.375
        ],
        [
         2014,
         "Red Bull",
         32,
         211,
         6.59375
        ],
        [
         2014,
         "Williams",
         28,
         165,
         5.892857142857143
        ],
        [
         2014,
         "Ferrari",
         30,
         133,
         4.433333333333334
        ],
        [
         2014,
         "McLaren",
         25,
         107,
         4.28
        ],
        [
         2015,
         "Mercedes",
         35,
         316,
         9.028571428571428
        ],
        [
         2015,
         "Ferrari",
         31,
         226,
         7.290322580645161
        ],
        [
         2015,
         "Williams",
         26,
         152,
         5.846153846153846
        ],
        [
         2015,
         "Red Bull",
         27,
         115,
         4.2592592592592595
        ],
        [
         2015,
         "McLaren",
         6,
         19,
         3.1666666666666665
        ],
        [
         2016,
         "Mercedes",
         39,
         344,
         8.820512820512821
        ],
        [
         2016,
         "Red Bull",
         36,
         252,
         7.0
        ],
        [
         2016,
         "Ferrari",
         34,
         225,
         6.617647058823529
        ],
        [
         2016,
         "Williams",
         28,
         94,
         3.357142857142857
        ],
        [
         2016,
         "McLaren",
         17,
         53,
         3.1176470588235294
        ],
        [
         2017,
         "Mercedes",
         39,
         319,
         8.179487179487179
        ],
        [
         2017,
         "Ferrari",
         34,
         266,
         7.823529411764706
        ],
        [
         2017,
         "Red Bull",
         27,
         194,
         7.185185185185185
        ],
        [
         2017,
         "Williams",
         20,
         59,
         2.95
        ],
        [
         2017,
         "McLaren",
         8,
         22,
         2.75
        ],
        [
         2018,
         "Mercedes",
         39,
         316,
         8.102564102564102
        ],
        [
         2018,
         "Ferrari",
         37,
         289,
         7.8108108108108105
        ],
        [
         2018,
         "Red Bull",
         30,
         219,
         7.3
        ],
        [
         2018,
         "McLaren",
         13,
         44,
         3.3846153846153846
        ],
        [
         2018,
         "Williams",
         2,
         4,
         2.0
        ],
        [
         2019,
         "Mercedes",
         40,
         339,
         8.475
        ],
        [
         2019,
         "Ferrari",
         34,
         261,
         7.676470588235294
        ],
        [
         2019,
         "Red Bull",
         36,
         227,
         6.305555555555555
        ],
        [
         2019,
         "McLaren",
         24,
         95,
         3.9583333333333335
        ],
        [
         2019,
         "Williams",
         1,
         1,
         1.0
        ],
        [
         2020,
         "Mercedes",
         31,
         258,
         8.32258064516129
        ],
        [
         2020,
         "Red Bull",
         24,
         166,
         6.916666666666667
        ],
        [
         2020,
         "McLaren",
         25,
         122,
         4.88
        ],
        [
         2020,
         "Ferrari",
         17,
         78,
         4.588235294117647
        ]
       ],
       "datasetInfos": [],
       "dbfsResultPath": null,
       "isJsonSchema": true,
       "metadata": {
        "dataframeName": "_sqldf",
        "executionCount": 1
       },
       "overflow": false,
       "plotOptions": {
        "customPlotOptions": {},
        "displayType": "table",
        "pivotAggregation": null,
        "pivotColumns": null,
        "xColumns": null,
        "yColumns": null
       },
       "removedWidgets": [],
       "schema": [
        {
         "metadata": "{}",
         "name": "race_year",
         "type": "\"integer\""
        },
        {
         "metadata": "{}",
         "name": "team_name",
         "type": "\"string\""
        },
        {
         "metadata": "{}",
         "name": "total_races",
         "type": "\"long\""
        },
        {
         "metadata": "{}",
         "name": "total_points",
         "type": "\"long\""
        },
        {
         "metadata": "{}",
         "name": "avg_points",
         "type": "\"double\""
        }
       ],
       "type": "table"
      }
     },
     "output_type": "display_data"
    },
    {
     "output_type": "display_data",
     "data": {
      "text/plain": [
       "Databricks visualization. Run in Databricks to view."
      ]
     },
     "metadata": {
      "application/vnd.databricks.v1.subcommand+json": {
       "bindings": {},
       "collapsed": false,
       "command": "%sql WITH q AS (SELECT race_year, \n       team_name,\n       COUNT(1) AS total_races,\n       SUM(calculated_points) AS total_points,\n       AVG(calculated_points) AS avg_points\n  FROM f1_presentation.calculated_race_results\n WHERE team_name IN (SELECT team_name FROM v_dominant_teams WHERE team_rank <= 5)\nGROUP BY race_year, team_name\nORDER BY race_year, avg_points DESC) SELECT `race_year`,SUM(`avg_points`) `column_6b31dd39788`,`team_name` FROM q GROUP BY `race_year`,`team_name`",
       "commandTitle": "Visualization 1",
       "commandType": "auto",
       "commandVersion": 0,
       "commentThread": [],
       "commentsVisible": false,
       "contentSha256Hex": null,
       "customPlotOptions": {
        "redashChart": [
         {
          "key": "type",
          "value": "CHART"
         },
         {
          "key": "options",
          "value": {
           "alignYAxesAtZero": true,
           "coefficient": 1,
           "columnConfigurationMap": {
            "series": {
             "column": "team_name",
             "id": "column_6b31dd39789"
            },
            "x": {
             "column": "race_year",
             "id": "column_6b31dd39786"
            },
            "y": [
             {
              "column": "avg_points",
              "id": "column_6b31dd39788",
              "transform": "SUM"
             }
            ]
           },
           "dateTimeFormat": "DD/MM/YYYY HH:mm",
           "direction": {
            "type": "counterclockwise"
           },
           "error_y": {
            "type": "data",
            "visible": true
           },
           "globalSeriesType": "column",
           "isAggregationOn": true,
           "legend": {
            "traceorder": "normal"
           },
           "missingValuesAsZero": true,
           "numberFormat": "0,0[.]00000",
           "percentFormat": "0[.]00%",
           "series": {
            "error_y": {
             "type": "data",
             "visible": true
            },
            "stacking": null
           },
           "seriesOptions": {
            "column_6b31dd39788": {
             "type": "column",
             "yAxis": 0
            }
           },
           "showDataLabels": false,
           "sizemode": "diameter",
           "sortX": true,
           "sortY": true,
           "swappedAxes": false,
           "textFormat": "",
           "useAggregationsUi": true,
           "valuesOptions": {},
           "version": 2,
           "xAxis": {
            "labels": {
             "enabled": true
            },
            "type": "-"
           },
           "yAxis": [
            {
             "type": "-"
            },
            {
             "opposite": true,
             "type": "-"
            }
           ]
          }
         }
        ]
       },
       "datasetPreviewNameToCmdIdMap": {},
       "diffDeletes": [],
       "diffInserts": [],
       "displayType": "redashChart",
       "error": null,
       "errorSummary": null,
       "errorTraceType": null,
       "finishTime": 0,
       "globalVars": {},
       "guid": "",
       "height": "auto",
       "hideCommandCode": false,
       "hideCommandResult": false,
       "iPythonMetadata": null,
       "inputWidgets": {},
       "isLockedInExamMode": false,
       "latestUser": "a user",
       "latestUserId": null,
       "listResultMetadata": null,
       "metadata": {},
       "nuid": "8478a21b-4d6b-4ba3-a9ba-d17ba0268d5e",
       "origId": 0,
       "parentHierarchy": [],
       "pivotAggregation": null,
       "pivotColumns": null,
       "position": 4.0,
       "resultDbfsErrorMessage": null,
       "resultDbfsStatus": "INLINED_IN_TREE",
       "results": null,
       "showCommandTitle": false,
       "startTime": 0,
       "state": "input",
       "streamStates": {},
       "subcommandOptions": {
        "queryPlan": {
         "groups": [
          {
           "column": "race_year",
           "type": "column"
          },
          {
           "column": "team_name",
           "type": "column"
          }
         ],
         "selects": [
          {
           "column": "race_year",
           "type": "column"
          },
          {
           "alias": "column_6b31dd39788",
           "args": [
            {
             "column": "avg_points",
             "type": "column"
            }
           ],
           "function": "SUM",
           "type": "function"
          },
          {
           "column": "team_name",
           "type": "column"
          }
         ]
        }
       },
       "submitTime": 0,
       "subtype": "tableResultSubCmd.visualization",
       "tableResultIndex": 0,
       "useConsistentColors": false,
       "version": "CommandV1",
       "width": "auto",
       "workflows": [],
       "xColumns": null,
       "yColumns": null
      }
     },
     "output_type": "display_data"
    }
   ],
   "source": [
    "%sql\n",
    "\n",
    "SELECT race_year, \n",
    "       team_name,\n",
    "       COUNT(1) AS total_races,\n",
    "       SUM(calculated_points) AS total_points,\n",
    "       AVG(calculated_points) AS avg_points\n",
    "  FROM f1_presentation.calculated_race_results\n",
    " WHERE team_name IN (SELECT team_name FROM v_dominant_teams WHERE team_rank <= 5)\n",
    "GROUP BY race_year, team_name\n",
    "ORDER BY race_year, avg_points DESC\n"
   ]
  },
  {
   "cell_type": "code",
   "execution_count": 0,
   "metadata": {
    "application/vnd.databricks.v1+cell": {
     "cellMetadata": {
      "byteLimit": 2048000,
      "implicitDf": true,
      "rowLimit": 10000
     },
     "inputWidgets": {},
     "nuid": "d6b2f141-f0ca-4d3b-b999-bc1bf17c1938",
     "showTitle": false,
     "title": ""
    }
   },
   "outputs": [
    {
     "output_type": "display_data",
     "data": {
      "text/html": [
       "<style scoped>\n",
       "  .table-result-container {\n",
       "    max-height: 300px;\n",
       "    overflow: auto;\n",
       "  }\n",
       "  table, th, td {\n",
       "    border: 1px solid black;\n",
       "    border-collapse: collapse;\n",
       "  }\n",
       "  th, td {\n",
       "    padding: 5px;\n",
       "  }\n",
       "  th {\n",
       "    text-align: left;\n",
       "  }\n",
       "</style><div class='table-result-container'><table class='table-result'><thead style='background-color: white'><tr><th>race_year</th><th>team_name</th><th>total_races</th><th>total_points</th><th>avg_points</th></tr></thead><tbody><tr><td>1950</td><td>Ferrari</td><td>8</td><td>57</td><td>7.125</td></tr><tr><td>1951</td><td>Ferrari</td><td>22</td><td>168</td><td>7.636363636363637</td></tr><tr><td>1952</td><td>Ferrari</td><td>28</td><td>202</td><td>7.214285714285714</td></tr><tr><td>1953</td><td>Ferrari</td><td>35</td><td>230</td><td>6.571428571428571</td></tr><tr><td>1954</td><td>Mercedes</td><td>12</td><td>96</td><td>8.0</td></tr><tr><td>1954</td><td>Ferrari</td><td>25</td><td>175</td><td>7.0</td></tr><tr><td>1955</td><td>Mercedes</td><td>15</td><td>124</td><td>8.266666666666667</td></tr><tr><td>1955</td><td>Ferrari</td><td>21</td><td>131</td><td>6.238095238095238</td></tr><tr><td>1956</td><td>Ferrari</td><td>23</td><td>172</td><td>7.478260869565218</td></tr><tr><td>1957</td><td>Ferrari</td><td>20</td><td>130</td><td>6.5</td></tr><tr><td>1958</td><td>Ferrari</td><td>21</td><td>159</td><td>7.571428571428571</td></tr><tr><td>1959</td><td>Ferrari</td><td>19</td><td>132</td><td>6.947368421052632</td></tr><tr><td>1960</td><td>Ferrari</td><td>17</td><td>102</td><td>6.0</td></tr><tr><td>1961</td><td>Ferrari</td><td>19</td><td>152</td><td>8.0</td></tr><tr><td>1962</td><td>Ferrari</td><td>12</td><td>73</td><td>6.083333333333333</td></tr><tr><td>1963</td><td>Ferrari</td><td>8</td><td>53</td><td>6.625</td></tr><tr><td>1964</td><td>Ferrari</td><td>15</td><td>105</td><td>7.0</td></tr><tr><td>1965</td><td>Ferrari</td><td>16</td><td>86</td><td>5.375</td></tr><tr><td>1966</td><td>Ferrari</td><td>8</td><td>65</td><td>8.125</td></tr><tr><td>1967</td><td>Ferrari</td><td>11</td><td>64</td><td>5.818181818181818</td></tr><tr><td>1968</td><td>Ferrari</td><td>10</td><td>70</td><td>7.0</td></tr><tr><td>1969</td><td>Ferrari</td><td>4</td><td>23</td><td>5.75</td></tr><tr><td>1970</td><td>Ferrari</td><td>15</td><td>119</td><td>7.933333333333334</td></tr><tr><td>1971</td><td>Ferrari</td><td>11</td><td>79</td><td>7.181818181818182</td></tr><tr><td>1971</td><td>McLaren</td><td>11</td><td>46</td><td>4.181818181818182</td></tr><tr><td>1972</td><td>McLaren</td><td>20</td><td>136</td><td>6.8</td></tr><tr><td>1972</td><td>Ferrari</td><td>15</td><td>99</td><td>6.6</td></tr><tr><td>1973</td><td>McLaren</td><td>24</td><td>147</td><td>6.125</td></tr><tr><td>1973</td><td>Ferrari</td><td>11</td><td>54</td><td>4.909090909090909</td></tr><tr><td>1974</td><td>Ferrari</td><td>17</td><td>142</td><td>8.352941176470589</td></tr><tr><td>1974</td><td>McLaren</td><td>31</td><td>187</td><td>6.032258064516129</td></tr><tr><td>1975</td><td>Ferrari</td><td>20</td><td>150</td><td>7.5</td></tr><tr><td>1975</td><td>McLaren</td><td>18</td><td>127</td><td>7.055555555555555</td></tr><tr><td>1975</td><td>Williams</td><td>2</td><td>13</td><td>6.5</td></tr><tr><td>1976</td><td>McLaren</td><td>20</td><td>147</td><td>7.35</td></tr><tr><td>1976</td><td>Ferrari</td><td>22</td><td>159</td><td>7.2272727272727275</td></tr><tr><td>1976</td><td>Williams</td><td>1</td><td>2</td><td>2.0</td></tr><tr><td>1977</td><td>Ferrari</td><td>24</td><td>189</td><td>7.875</td></tr><tr><td>1977</td><td>McLaren</td><td>20</td><td>124</td><td>6.2</td></tr><tr><td>1978</td><td>Ferrari</td><td>20</td><td>119</td><td>5.95</td></tr><tr><td>1978</td><td>Williams</td><td>7</td><td>32</td><td>4.571428571428571</td></tr><tr><td>1978</td><td>McLaren</td><td>21</td><td>86</td><td>4.095238095238095</td></tr><tr><td>1979</td><td>Ferrari</td><td>24</td><td>183</td><td>7.625</td></tr><tr><td>1979</td><td>Williams</td><td>17</td><td>117</td><td>6.882352941176471</td></tr><tr><td>1979</td><td>McLaren</td><td>13</td><td>55</td><td>4.230769230769231</td></tr><tr><td>1980</td><td>Williams</td><td>22</td><td>182</td><td>8.272727272727273</td></tr><tr><td>1980</td><td>McLaren</td><td>10</td><td>50</td><td>5.0</td></tr><tr><td>1980</td><td>Ferrari</td><td>12</td><td>47</td><td>3.9166666666666665</td></tr><tr><td>1981</td><td>Williams</td><td>21</td><td>154</td><td>7.333333333333333</td></tr><tr><td>1981</td><td>Ferrari</td><td>13</td><td>72</td><td>5.538461538461538</td></tr><tr><td>1981</td><td>McLaren</td><td>13</td><td>70</td><td>5.384615384615385</td></tr><tr><td>1982</td><td>Ferrari</td><td>16</td><td>122</td><td>7.625</td></tr><tr><td>1982</td><td>McLaren</td><td>17</td><td>118</td><td>6.9411764705882355</td></tr><tr><td>1982</td><td>Williams</td><td>20</td><td>128</td><td>6.4</td></tr><tr><td>1983</td><td>Ferrari</td><td>20</td><td>148</td><td>7.4</td></tr><tr><td>1983</td><td>McLaren</td><td>12</td><td>74</td><td>6.166666666666667</td></tr><tr><td>1983</td><td>Williams</td><td>16</td><td>94</td><td>5.875</td></tr><tr><td>1984</td><td>McLaren</td><td>21</td><td>191</td><td>9.095238095238095</td></tr><tr><td>1984</td><td>Ferrari</td><td>18</td><td>123</td><td>6.833333333333333</td></tr><tr><td>1984</td><td>Williams</td><td>10</td><td>60</td><td>6.0</td></tr><tr><td>1985</td><td>McLaren</td><td>16</td><td>134</td><td>8.375</td></tr><tr><td>1985</td><td>Ferrari</td><td>20</td><td>147</td><td>7.35</td></tr><tr><td>1985</td><td>Williams</td><td>17</td><td>123</td><td>7.235294117647059</td></tr><tr><td>1986</td><td>Williams</td><td>24</td><td>205</td><td>8.541666666666666</td></tr><tr><td>1986</td><td>McLaren</td><td>21</td><td>161</td><td>7.666666666666667</td></tr><tr><td>1986</td><td>Ferrari</td><td>15</td><td>88</td><td>5.866666666666666</td></tr><tr><td>1987</td><td>Williams</td><td>22</td><td>189</td><td>8.590909090909092</td></tr><tr><td>1987</td><td>Ferrari</td><td>12</td><td>92</td><td>7.666666666666667</td></tr><tr><td>1987</td><td>McLaren</td><td>22</td><td>149</td><td>6.7727272727272725</td></tr><tr><td>1988</td><td>McLaren</td><td>28</td><td>253</td><td>9.035714285714286</td></tr><tr><td>1988</td><td>Ferrari</td><td>18</td><td>129</td><td>7.166666666666667</td></tr><tr><td>1988</td><td>Williams</td><td>10</td><td>57</td><td>5.7</td></tr><tr><td>1989</td><td>Ferrari</td><td>9</td><td>82</td><td>9.11111111111111</td></tr><tr><td>1989</td><td>McLaren</td><td>21</td><td>188</td><td>8.952380952380953</td></tr><tr><td>1989</td><td>Williams</td><td>19</td><td>137</td><td>7.2105263157894735</td></tr><tr><td>1990</td><td>Ferrari</td><td>19</td><td>163</td><td>8.578947368421053</td></tr><tr><td>1990</td><td>McLaren</td><td>22</td><td>187</td><td>8.5</td></tr><tr><td>1990</td><td>Williams</td><td>21</td><td>130</td><td>6.190476190476191</td></tr><tr><td>1991</td><td>Williams</td><td>21</td><td>179</td><td>8.523809523809524</td></tr><tr><td>1991</td><td>McLaren</td><td>24</td><td>204</td><td>8.5</td></tr><tr><td>1991</td><td>Ferrari</td><td>16</td><td>117</td><td>7.3125</td></tr><tr><td>1992</td><td>Williams</td><td>23</td><td>206</td><td>8.956521739130435</td></tr><tr><td>1992</td><td>McLaren</td><td>19</td><td>150</td><td>7.894736842105263</td></tr><tr><td>1992</td><td>Ferrari</td><td>10</td><td>56</td><td>5.6</td></tr><tr><td>1993</td><td>Williams</td><td>24</td><td>217</td><td>9.041666666666666</td></tr><tr><td>1993</td><td>McLaren</td><td>17</td><td>128</td><td>7.529411764705882</td></tr><tr><td>1993</td><td>Ferrari</td><td>14</td><td>77</td><td>5.5</td></tr><tr><td>1994</td><td>Williams</td><td>20</td><td>163</td><td>8.15</td></tr><tr><td>1994</td><td>Ferrari</td><td>17</td><td>127</td><td>7.470588235294118</td></tr><tr><td>1994</td><td>McLaren</td><td>13</td><td>91</td><td>7.0</td></tr><tr><td>1995</td><td>Williams</td><td>19</td><td>167</td><td>8.789473684210526</td></tr><tr><td>1995</td><td>Ferrari</td><td>18</td><td>137</td><td>7.611111111111111</td></tr><tr><td>1995</td><td>McLaren</td><td>17</td><td>85</td><td>5.0</td></tr><tr><td>1996</td><td>Williams</td><td>24</td><td>216</td><td>9.0</td></tr><tr><td>1996</td><td>Ferrari</td><td>16</td><td>117</td><td>7.3125</td></tr><tr><td>1996</td><td>McLaren</td><td>21</td><td>129</td><td>6.142857142857143</td></tr><tr><td>1997</td><td>Williams</td><td>23</td><td>177</td><td>7.695652173913044</td></tr><tr><td>1997</td><td>Ferrari</td><td>22</td><td>160</td><td>7.2727272727272725</td></tr><tr><td>1997</td><td>McLaren</td><td>19</td><td>117</td><td>6.157894736842105</td></tr><tr><td>1998</td><td>McLaren</td><td>25</td><td>212</td><td>8.48</td></tr><tr><td>1998</td><td>Ferrari</td><td>26</td><td>203</td><td>7.8076923076923075</td></tr><tr><td>1998</td><td>Williams</td><td>24</td><td>125</td><td>5.208333333333333</td></tr><tr><td>1999</td><td>McLaren</td><td>20</td><td>170</td><td>8.5</td></tr><tr><td>1999</td><td>Ferrari</td><td>27</td><td>203</td><td>7.518518518518518</td></tr><tr><td>1999</td><td>Williams</td><td>16</td><td>91</td><td>5.6875</td></tr><tr><td>2000</td><td>Ferrari</td><td>26</td><td>228</td><td>8.76923076923077</td></tr><tr><td>2000</td><td>McLaren</td><td>28</td><td>236</td><td>8.428571428571429</td></tr><tr><td>2000</td><td>Williams</td><td>18</td><td>102</td><td>5.666666666666667</td></tr><tr><td>2001</td><td>Ferrari</td><td>28</td><td>245</td><td>8.75</td></tr><tr><td>2001</td><td>Williams</td><td>16</td><td>123</td><td>7.6875</td></tr><tr><td>2001</td><td>McLaren</td><td>23</td><td>173</td><td>7.521739130434782</td></tr><tr><td>2002</td><td>Ferrari</td><td>29</td><td>267</td><td>9.206896551724139</td></tr><tr><td>2002</td><td>Williams</td><td>24</td><td>178</td><td>7.416666666666667</td></tr><tr><td>2002</td><td>McLaren</td><td>19</td><td>132</td><td>6.947368421052632</td></tr><tr><td>2003</td><td>McLaren</td><td>23</td><td>176</td><td>7.6521739130434785</td></tr><tr><td>2003</td><td>Ferrari</td><td>26</td><td>193</td><td>7.423076923076923</td></tr><tr><td>2003</td><td>Williams</td><td>25</td><td>180</td><td>7.2</td></tr><tr><td>2004</td><td>Ferrari</td><td>32</td><td>287</td><td>8.96875</td></tr><tr><td>2004</td><td>Williams</td><td>24</td><td>130</td><td>5.416666666666667</td></tr><tr><td>2004</td><td>McLaren</td><td>21</td><td>106</td><td>5.0476190476190474</td></tr><tr><td>2005</td><td>McLaren</td><td>27</td><td>212</td><td>7.851851851851852</td></tr><tr><td>2005</td><td>Williams</td><td>17</td><td>97</td><td>5.705882352941177</td></tr><tr><td>2005</td><td>Ferrari</td><td>27</td><td>143</td><td>5.296296296296297</td></tr><tr><td>2005</td><td>Red Bull</td><td>22</td><td>77</td><td>3.5</td></tr><tr><td>2006</td><td>Ferrari</td><td>32</td><td>240</td><td>7.5</td></tr><tr><td>2006</td><td>McLaren</td><td>22</td><td>150</td><td>6.818181818181818</td></tr><tr><td>2006</td><td>Red Bull</td><td>10</td><td>35</td><td>3.5</td></tr><tr><td>2006</td><td>Williams</td><td>11</td><td>30</td><td>2.727272727272727</td></tr><tr><td>2007</td><td>Ferrari</td><td>29</td><td>238</td><td>8.206896551724139</td></tr><tr><td>2007</td><td>McLaren</td><td>32</td><td>257</td><td>8.03125</td></tr><tr><td>2007</td><td>Williams</td><td>16</td><td>61</td><td>3.8125</td></tr><tr><td>2007</td><td>Red Bull</td><td>14</td><td>49</td><td>3.5</td></tr><tr><td>2008</td><td>Ferrari</td><td>27</td><td>206</td><td>7.62962962962963</td></tr><tr><td>2008</td><td>McLaren</td><td>29</td><td>191</td><td>6.586206896551724</td></tr><tr><td>2008</td><td>Williams</td><td>13</td><td>49</td><td>3.769230769230769</td></tr><tr><td>2008</td><td>Red Bull</td><td>18</td><td>63</td><td>3.5</td></tr><tr><td>2009</td><td>Red Bull</td><td>24</td><td>185</td><td>7.708333333333333</td></tr><tr><td>2009</td><td>McLaren</td><td>17</td><td>101</td><td>5.9411764705882355</td></tr><tr><td>2009</td><td>Ferrari</td><td>19</td><td>103</td><td>5.421052631578948</td></tr><tr><td>2009</td><td>Williams</td><td>16</td><td>66</td><td>4.125</td></tr><tr><td>2010</td><td>Red Bull</td><td>32</td><td>241</td><td>7.53125</td></tr><tr><td>2010</td><td>McLaren</td><td>31</td><td>231</td><td>7.451612903225806</td></tr><tr><td>2010</td><td>Ferrari</td><td>30</td><td>203</td><td>6.766666666666667</td></tr><tr><td>2010</td><td>Mercedes</td><td>27</td><td>131</td><td>4.851851851851852</td></tr><tr><td>2010</td><td>Williams</td><td>17</td><td>48</td><td>2.823529411764706</td></tr><tr><td>2011</td><td>Red Bull</td><td>36</td><td>308</td><td>8.555555555555555</td></tr><tr><td>2011</td><td>McLaren</td><td>33</td><td>251</td><td>7.606060606060606</td></tr><tr><td>2011</td><td>Ferrari</td><td>33</td><td>210</td><td>6.363636363636363</td></tr><tr><td>2011</td><td>Mercedes</td><td>25</td><td>107</td><td>4.28</td></tr><tr><td>2011</td><td>Williams</td><td>3</td><td>5</td><td>1.6666666666666667</td></tr><tr><td>2012</td><td>Red Bull</td><td>32</td><td>232</td><td>7.25</td></tr><tr><td>2012</td><td>McLaren</td><td>28</td><td>187</td><td>6.678571428571429</td></tr><tr><td>2012</td><td>Ferrari</td><td>32</td><td>212</td><td>6.625</td></tr><tr><td>2012</td><td>Mercedes</td><td>18</td><td>82</td><td>4.555555555555555</td></tr><tr><td>2012</td><td>Williams</td><td>15</td><td>47</td><td>3.1333333333333333</td></tr><tr><td>2013</td><td>Red Bull</td><td>33</td><td>277</td><td>8.393939393939394</td></tr><tr><td>2013</td><td>Ferrari</td><td>32</td><td>195</td><td>6.09375</td></tr><tr><td>2013</td><td>Mercedes</td><td>33</td><td>199</td><td>6.03030303030303</td></tr><tr><td>2013</td><td>McLaren</td><td>25</td><td>84</td><td>3.36</td></tr><tr><td>2013</td><td>Williams</td><td>2</td><td>4</td><td>2.0</td></tr><tr><td>2014</td><td>Mercedes</td><td>32</td><td>300</td><td>9.375</td></tr><tr><td>2014</td><td>Red Bull</td><td>32</td><td>211</td><td>6.59375</td></tr><tr><td>2014</td><td>Williams</td><td>28</td><td>165</td><td>5.892857142857143</td></tr><tr><td>2014</td><td>Ferrari</td><td>30</td><td>133</td><td>4.433333333333334</td></tr><tr><td>2014</td><td>McLaren</td><td>25</td><td>107</td><td>4.28</td></tr><tr><td>2015</td><td>Mercedes</td><td>35</td><td>316</td><td>9.028571428571428</td></tr><tr><td>2015</td><td>Ferrari</td><td>31</td><td>226</td><td>7.290322580645161</td></tr><tr><td>2015</td><td>Williams</td><td>26</td><td>152</td><td>5.846153846153846</td></tr><tr><td>2015</td><td>Red Bull</td><td>27</td><td>115</td><td>4.2592592592592595</td></tr><tr><td>2015</td><td>McLaren</td><td>6</td><td>19</td><td>3.1666666666666665</td></tr><tr><td>2016</td><td>Mercedes</td><td>39</td><td>344</td><td>8.820512820512821</td></tr><tr><td>2016</td><td>Red Bull</td><td>36</td><td>252</td><td>7.0</td></tr><tr><td>2016</td><td>Ferrari</td><td>34</td><td>225</td><td>6.617647058823529</td></tr><tr><td>2016</td><td>Williams</td><td>28</td><td>94</td><td>3.357142857142857</td></tr><tr><td>2016</td><td>McLaren</td><td>17</td><td>53</td><td>3.1176470588235294</td></tr><tr><td>2017</td><td>Mercedes</td><td>39</td><td>319</td><td>8.179487179487179</td></tr><tr><td>2017</td><td>Ferrari</td><td>34</td><td>266</td><td>7.823529411764706</td></tr><tr><td>2017</td><td>Red Bull</td><td>27</td><td>194</td><td>7.185185185185185</td></tr><tr><td>2017</td><td>Williams</td><td>20</td><td>59</td><td>2.95</td></tr><tr><td>2017</td><td>McLaren</td><td>8</td><td>22</td><td>2.75</td></tr><tr><td>2018</td><td>Mercedes</td><td>39</td><td>316</td><td>8.102564102564102</td></tr><tr><td>2018</td><td>Ferrari</td><td>37</td><td>289</td><td>7.8108108108108105</td></tr><tr><td>2018</td><td>Red Bull</td><td>30</td><td>219</td><td>7.3</td></tr><tr><td>2018</td><td>McLaren</td><td>13</td><td>44</td><td>3.3846153846153846</td></tr><tr><td>2018</td><td>Williams</td><td>2</td><td>4</td><td>2.0</td></tr><tr><td>2019</td><td>Mercedes</td><td>40</td><td>339</td><td>8.475</td></tr><tr><td>2019</td><td>Ferrari</td><td>34</td><td>261</td><td>7.676470588235294</td></tr><tr><td>2019</td><td>Red Bull</td><td>36</td><td>227</td><td>6.305555555555555</td></tr><tr><td>2019</td><td>McLaren</td><td>24</td><td>95</td><td>3.9583333333333335</td></tr><tr><td>2019</td><td>Williams</td><td>1</td><td>1</td><td>1.0</td></tr><tr><td>2020</td><td>Mercedes</td><td>31</td><td>258</td><td>8.32258064516129</td></tr><tr><td>2020</td><td>Red Bull</td><td>24</td><td>166</td><td>6.916666666666667</td></tr><tr><td>2020</td><td>McLaren</td><td>25</td><td>122</td><td>4.88</td></tr><tr><td>2020</td><td>Ferrari</td><td>17</td><td>78</td><td>4.588235294117647</td></tr></tbody></table></div>"
      ]
     },
     "metadata": {
      "application/vnd.databricks.v1+output": {
       "addedWidgets": {},
       "aggData": [],
       "aggError": "",
       "aggOverflow": false,
       "aggSchema": [],
       "aggSeriesLimitReached": false,
       "aggType": "",
       "arguments": {},
       "columnCustomDisplayInfos": {},
       "data": [
        [
         1950,
         "Ferrari",
         8,
         57,
         7.125
        ],
        [
         1951,
         "Ferrari",
         22,
         168,
         7.636363636363637
        ],
        [
         1952,
         "Ferrari",
         28,
         202,
         7.214285714285714
        ],
        [
         1953,
         "Ferrari",
         35,
         230,
         6.571428571428571
        ],
        [
         1954,
         "Mercedes",
         12,
         96,
         8.0
        ],
        [
         1954,
         "Ferrari",
         25,
         175,
         7.0
        ],
        [
         1955,
         "Mercedes",
         15,
         124,
         8.266666666666667
        ],
        [
         1955,
         "Ferrari",
         21,
         131,
         6.238095238095238
        ],
        [
         1956,
         "Ferrari",
         23,
         172,
         7.478260869565218
        ],
        [
         1957,
         "Ferrari",
         20,
         130,
         6.5
        ],
        [
         1958,
         "Ferrari",
         21,
         159,
         7.571428571428571
        ],
        [
         1959,
         "Ferrari",
         19,
         132,
         6.947368421052632
        ],
        [
         1960,
         "Ferrari",
         17,
         102,
         6.0
        ],
        [
         1961,
         "Ferrari",
         19,
         152,
         8.0
        ],
        [
         1962,
         "Ferrari",
         12,
         73,
         6.083333333333333
        ],
        [
         1963,
         "Ferrari",
         8,
         53,
         6.625
        ],
        [
         1964,
         "Ferrari",
         15,
         105,
         7.0
        ],
        [
         1965,
         "Ferrari",
         16,
         86,
         5.375
        ],
        [
         1966,
         "Ferrari",
         8,
         65,
         8.125
        ],
        [
         1967,
         "Ferrari",
         11,
         64,
         5.818181818181818
        ],
        [
         1968,
         "Ferrari",
         10,
         70,
         7.0
        ],
        [
         1969,
         "Ferrari",
         4,
         23,
         5.75
        ],
        [
         1970,
         "Ferrari",
         15,
         119,
         7.933333333333334
        ],
        [
         1971,
         "Ferrari",
         11,
         79,
         7.181818181818182
        ],
        [
         1971,
         "McLaren",
         11,
         46,
         4.181818181818182
        ],
        [
         1972,
         "McLaren",
         20,
         136,
         6.8
        ],
        [
         1972,
         "Ferrari",
         15,
         99,
         6.6
        ],
        [
         1973,
         "McLaren",
         24,
         147,
         6.125
        ],
        [
         1973,
         "Ferrari",
         11,
         54,
         4.909090909090909
        ],
        [
         1974,
         "Ferrari",
         17,
         142,
         8.352941176470589
        ],
        [
         1974,
         "McLaren",
         31,
         187,
         6.032258064516129
        ],
        [
         1975,
         "Ferrari",
         20,
         150,
         7.5
        ],
        [
         1975,
         "McLaren",
         18,
         127,
         7.055555555555555
        ],
        [
         1975,
         "Williams",
         2,
         13,
         6.5
        ],
        [
         1976,
         "McLaren",
         20,
         147,
         7.35
        ],
        [
         1976,
         "Ferrari",
         22,
         159,
         7.2272727272727275
        ],
        [
         1976,
         "Williams",
         1,
         2,
         2.0
        ],
        [
         1977,
         "Ferrari",
         24,
         189,
         7.875
        ],
        [
         1977,
         "McLaren",
         20,
         124,
         6.2
        ],
        [
         1978,
         "Ferrari",
         20,
         119,
         5.95
        ],
        [
         1978,
         "Williams",
         7,
         32,
         4.571428571428571
        ],
        [
         1978,
         "McLaren",
         21,
         86,
         4.095238095238095
        ],
        [
         1979,
         "Ferrari",
         24,
         183,
         7.625
        ],
        [
         1979,
         "Williams",
         17,
         117,
         6.882352941176471
        ],
        [
         1979,
         "McLaren",
         13,
         55,
         4.230769230769231
        ],
        [
         1980,
         "Williams",
         22,
         182,
         8.272727272727273
        ],
        [
         1980,
         "McLaren",
         10,
         50,
         5.0
        ],
        [
         1980,
         "Ferrari",
         12,
         47,
         3.9166666666666665
        ],
        [
         1981,
         "Williams",
         21,
         154,
         7.333333333333333
        ],
        [
         1981,
         "Ferrari",
         13,
         72,
         5.538461538461538
        ],
        [
         1981,
         "McLaren",
         13,
         70,
         5.384615384615385
        ],
        [
         1982,
         "Ferrari",
         16,
         122,
         7.625
        ],
        [
         1982,
         "McLaren",
         17,
         118,
         6.9411764705882355
        ],
        [
         1982,
         "Williams",
         20,
         128,
         6.4
        ],
        [
         1983,
         "Ferrari",
         20,
         148,
         7.4
        ],
        [
         1983,
         "McLaren",
         12,
         74,
         6.166666666666667
        ],
        [
         1983,
         "Williams",
         16,
         94,
         5.875
        ],
        [
         1984,
         "McLaren",
         21,
         191,
         9.095238095238095
        ],
        [
         1984,
         "Ferrari",
         18,
         123,
         6.833333333333333
        ],
        [
         1984,
         "Williams",
         10,
         60,
         6.0
        ],
        [
         1985,
         "McLaren",
         16,
         134,
         8.375
        ],
        [
         1985,
         "Ferrari",
         20,
         147,
         7.35
        ],
        [
         1985,
         "Williams",
         17,
         123,
         7.235294117647059
        ],
        [
         1986,
         "Williams",
         24,
         205,
         8.541666666666666
        ],
        [
         1986,
         "McLaren",
         21,
         161,
         7.666666666666667
        ],
        [
         1986,
         "Ferrari",
         15,
         88,
         5.866666666666666
        ],
        [
         1987,
         "Williams",
         22,
         189,
         8.590909090909092
        ],
        [
         1987,
         "Ferrari",
         12,
         92,
         7.666666666666667
        ],
        [
         1987,
         "McLaren",
         22,
         149,
         6.7727272727272725
        ],
        [
         1988,
         "McLaren",
         28,
         253,
         9.035714285714286
        ],
        [
         1988,
         "Ferrari",
         18,
         129,
         7.166666666666667
        ],
        [
         1988,
         "Williams",
         10,
         57,
         5.7
        ],
        [
         1989,
         "Ferrari",
         9,
         82,
         9.11111111111111
        ],
        [
         1989,
         "McLaren",
         21,
         188,
         8.952380952380953
        ],
        [
         1989,
         "Williams",
         19,
         137,
         7.2105263157894735
        ],
        [
         1990,
         "Ferrari",
         19,
         163,
         8.578947368421053
        ],
        [
         1990,
         "McLaren",
         22,
         187,
         8.5
        ],
        [
         1990,
         "Williams",
         21,
         130,
         6.190476190476191
        ],
        [
         1991,
         "Williams",
         21,
         179,
         8.523809523809524
        ],
        [
         1991,
         "McLaren",
         24,
         204,
         8.5
        ],
        [
         1991,
         "Ferrari",
         16,
         117,
         7.3125
        ],
        [
         1992,
         "Williams",
         23,
         206,
         8.956521739130435
        ],
        [
         1992,
         "McLaren",
         19,
         150,
         7.894736842105263
        ],
        [
         1992,
         "Ferrari",
         10,
         56,
         5.6
        ],
        [
         1993,
         "Williams",
         24,
         217,
         9.041666666666666
        ],
        [
         1993,
         "McLaren",
         17,
         128,
         7.529411764705882
        ],
        [
         1993,
         "Ferrari",
         14,
         77,
         5.5
        ],
        [
         1994,
         "Williams",
         20,
         163,
         8.15
        ],
        [
         1994,
         "Ferrari",
         17,
         127,
         7.470588235294118
        ],
        [
         1994,
         "McLaren",
         13,
         91,
         7.0
        ],
        [
         1995,
         "Williams",
         19,
         167,
         8.789473684210526
        ],
        [
         1995,
         "Ferrari",
         18,
         137,
         7.611111111111111
        ],
        [
         1995,
         "McLaren",
         17,
         85,
         5.0
        ],
        [
         1996,
         "Williams",
         24,
         216,
         9.0
        ],
        [
         1996,
         "Ferrari",
         16,
         117,
         7.3125
        ],
        [
         1996,
         "McLaren",
         21,
         129,
         6.142857142857143
        ],
        [
         1997,
         "Williams",
         23,
         177,
         7.695652173913044
        ],
        [
         1997,
         "Ferrari",
         22,
         160,
         7.2727272727272725
        ],
        [
         1997,
         "McLaren",
         19,
         117,
         6.157894736842105
        ],
        [
         1998,
         "McLaren",
         25,
         212,
         8.48
        ],
        [
         1998,
         "Ferrari",
         26,
         203,
         7.8076923076923075
        ],
        [
         1998,
         "Williams",
         24,
         125,
         5.208333333333333
        ],
        [
         1999,
         "McLaren",
         20,
         170,
         8.5
        ],
        [
         1999,
         "Ferrari",
         27,
         203,
         7.518518518518518
        ],
        [
         1999,
         "Williams",
         16,
         91,
         5.6875
        ],
        [
         2000,
         "Ferrari",
         26,
         228,
         8.76923076923077
        ],
        [
         2000,
         "McLaren",
         28,
         236,
         8.428571428571429
        ],
        [
         2000,
         "Williams",
         18,
         102,
         5.666666666666667
        ],
        [
         2001,
         "Ferrari",
         28,
         245,
         8.75
        ],
        [
         2001,
         "Williams",
         16,
         123,
         7.6875
        ],
        [
         2001,
         "McLaren",
         23,
         173,
         7.521739130434782
        ],
        [
         2002,
         "Ferrari",
         29,
         267,
         9.206896551724139
        ],
        [
         2002,
         "Williams",
         24,
         178,
         7.416666666666667
        ],
        [
         2002,
         "McLaren",
         19,
         132,
         6.947368421052632
        ],
        [
         2003,
         "McLaren",
         23,
         176,
         7.6521739130434785
        ],
        [
         2003,
         "Ferrari",
         26,
         193,
         7.423076923076923
        ],
        [
         2003,
         "Williams",
         25,
         180,
         7.2
        ],
        [
         2004,
         "Ferrari",
         32,
         287,
         8.96875
        ],
        [
         2004,
         "Williams",
         24,
         130,
         5.416666666666667
        ],
        [
         2004,
         "McLaren",
         21,
         106,
         5.0476190476190474
        ],
        [
         2005,
         "McLaren",
         27,
         212,
         7.851851851851852
        ],
        [
         2005,
         "Williams",
         17,
         97,
         5.705882352941177
        ],
        [
         2005,
         "Ferrari",
         27,
         143,
         5.296296296296297
        ],
        [
         2005,
         "Red Bull",
         22,
         77,
         3.5
        ],
        [
         2006,
         "Ferrari",
         32,
         240,
         7.5
        ],
        [
         2006,
         "McLaren",
         22,
         150,
         6.818181818181818
        ],
        [
         2006,
         "Red Bull",
         10,
         35,
         3.5
        ],
        [
         2006,
         "Williams",
         11,
         30,
         2.727272727272727
        ],
        [
         2007,
         "Ferrari",
         29,
         238,
         8.206896551724139
        ],
        [
         2007,
         "McLaren",
         32,
         257,
         8.03125
        ],
        [
         2007,
         "Williams",
         16,
         61,
         3.8125
        ],
        [
         2007,
         "Red Bull",
         14,
         49,
         3.5
        ],
        [
         2008,
         "Ferrari",
         27,
         206,
         7.62962962962963
        ],
        [
         2008,
         "McLaren",
         29,
         191,
         6.586206896551724
        ],
        [
         2008,
         "Williams",
         13,
         49,
         3.769230769230769
        ],
        [
         2008,
         "Red Bull",
         18,
         63,
         3.5
        ],
        [
         2009,
         "Red Bull",
         24,
         185,
         7.708333333333333
        ],
        [
         2009,
         "McLaren",
         17,
         101,
         5.9411764705882355
        ],
        [
         2009,
         "Ferrari",
         19,
         103,
         5.421052631578948
        ],
        [
         2009,
         "Williams",
         16,
         66,
         4.125
        ],
        [
         2010,
         "Red Bull",
         32,
         241,
         7.53125
        ],
        [
         2010,
         "McLaren",
         31,
         231,
         7.451612903225806
        ],
        [
         2010,
         "Ferrari",
         30,
         203,
         6.766666666666667
        ],
        [
         2010,
         "Mercedes",
         27,
         131,
         4.851851851851852
        ],
        [
         2010,
         "Williams",
         17,
         48,
         2.823529411764706
        ],
        [
         2011,
         "Red Bull",
         36,
         308,
         8.555555555555555
        ],
        [
         2011,
         "McLaren",
         33,
         251,
         7.606060606060606
        ],
        [
         2011,
         "Ferrari",
         33,
         210,
         6.363636363636363
        ],
        [
         2011,
         "Mercedes",
         25,
         107,
         4.28
        ],
        [
         2011,
         "Williams",
         3,
         5,
         1.6666666666666667
        ],
        [
         2012,
         "Red Bull",
         32,
         232,
         7.25
        ],
        [
         2012,
         "McLaren",
         28,
         187,
         6.678571428571429
        ],
        [
         2012,
         "Ferrari",
         32,
         212,
         6.625
        ],
        [
         2012,
         "Mercedes",
         18,
         82,
         4.555555555555555
        ],
        [
         2012,
         "Williams",
         15,
         47,
         3.1333333333333333
        ],
        [
         2013,
         "Red Bull",
         33,
         277,
         8.393939393939394
        ],
        [
         2013,
         "Ferrari",
         32,
         195,
         6.09375
        ],
        [
         2013,
         "Mercedes",
         33,
         199,
         6.03030303030303
        ],
        [
         2013,
         "McLaren",
         25,
         84,
         3.36
        ],
        [
         2013,
         "Williams",
         2,
         4,
         2.0
        ],
        [
         2014,
         "Mercedes",
         32,
         300,
         9.375
        ],
        [
         2014,
         "Red Bull",
         32,
         211,
         6.59375
        ],
        [
         2014,
         "Williams",
         28,
         165,
         5.892857142857143
        ],
        [
         2014,
         "Ferrari",
         30,
         133,
         4.433333333333334
        ],
        [
         2014,
         "McLaren",
         25,
         107,
         4.28
        ],
        [
         2015,
         "Mercedes",
         35,
         316,
         9.028571428571428
        ],
        [
         2015,
         "Ferrari",
         31,
         226,
         7.290322580645161
        ],
        [
         2015,
         "Williams",
         26,
         152,
         5.846153846153846
        ],
        [
         2015,
         "Red Bull",
         27,
         115,
         4.2592592592592595
        ],
        [
         2015,
         "McLaren",
         6,
         19,
         3.1666666666666665
        ],
        [
         2016,
         "Mercedes",
         39,
         344,
         8.820512820512821
        ],
        [
         2016,
         "Red Bull",
         36,
         252,
         7.0
        ],
        [
         2016,
         "Ferrari",
         34,
         225,
         6.617647058823529
        ],
        [
         2016,
         "Williams",
         28,
         94,
         3.357142857142857
        ],
        [
         2016,
         "McLaren",
         17,
         53,
         3.1176470588235294
        ],
        [
         2017,
         "Mercedes",
         39,
         319,
         8.179487179487179
        ],
        [
         2017,
         "Ferrari",
         34,
         266,
         7.823529411764706
        ],
        [
         2017,
         "Red Bull",
         27,
         194,
         7.185185185185185
        ],
        [
         2017,
         "Williams",
         20,
         59,
         2.95
        ],
        [
         2017,
         "McLaren",
         8,
         22,
         2.75
        ],
        [
         2018,
         "Mercedes",
         39,
         316,
         8.102564102564102
        ],
        [
         2018,
         "Ferrari",
         37,
         289,
         7.8108108108108105
        ],
        [
         2018,
         "Red Bull",
         30,
         219,
         7.3
        ],
        [
         2018,
         "McLaren",
         13,
         44,
         3.3846153846153846
        ],
        [
         2018,
         "Williams",
         2,
         4,
         2.0
        ],
        [
         2019,
         "Mercedes",
         40,
         339,
         8.475
        ],
        [
         2019,
         "Ferrari",
         34,
         261,
         7.676470588235294
        ],
        [
         2019,
         "Red Bull",
         36,
         227,
         6.305555555555555
        ],
        [
         2019,
         "McLaren",
         24,
         95,
         3.9583333333333335
        ],
        [
         2019,
         "Williams",
         1,
         1,
         1.0
        ],
        [
         2020,
         "Mercedes",
         31,
         258,
         8.32258064516129
        ],
        [
         2020,
         "Red Bull",
         24,
         166,
         6.916666666666667
        ],
        [
         2020,
         "McLaren",
         25,
         122,
         4.88
        ],
        [
         2020,
         "Ferrari",
         17,
         78,
         4.588235294117647
        ]
       ],
       "datasetInfos": [],
       "dbfsResultPath": null,
       "isJsonSchema": true,
       "metadata": {
        "dataframeName": "_sqldf",
        "executionCount": 2
       },
       "overflow": false,
       "plotOptions": {
        "customPlotOptions": {},
        "displayType": "table",
        "pivotAggregation": null,
        "pivotColumns": null,
        "xColumns": null,
        "yColumns": null
       },
       "removedWidgets": [],
       "schema": [
        {
         "metadata": "{}",
         "name": "race_year",
         "type": "\"integer\""
        },
        {
         "metadata": "{}",
         "name": "team_name",
         "type": "\"string\""
        },
        {
         "metadata": "{}",
         "name": "total_races",
         "type": "\"long\""
        },
        {
         "metadata": "{}",
         "name": "total_points",
         "type": "\"long\""
        },
        {
         "metadata": "{}",
         "name": "avg_points",
         "type": "\"double\""
        }
       ],
       "type": "table"
      }
     },
     "output_type": "display_data"
    },
    {
     "output_type": "display_data",
     "data": {
      "text/plain": [
       "Databricks visualization. Run in Databricks to view."
      ]
     },
     "metadata": {
      "application/vnd.databricks.v1.subcommand+json": {
       "bindings": {},
       "collapsed": false,
       "command": "%sql WITH q AS (SELECT race_year, \n       team_name,\n       COUNT(1) AS total_races,\n       SUM(calculated_points) AS total_points,\n       AVG(calculated_points) AS avg_points\n  FROM f1_presentation.calculated_race_results\n WHERE team_name IN (SELECT team_name FROM v_dominant_teams WHERE team_rank <= 5)\nGROUP BY race_year, team_name\nORDER BY race_year, avg_points DESC) SELECT `race_year`,SUM(`avg_points`) `column_6b31dd39816`,`team_name` FROM q GROUP BY `race_year`,`team_name`",
       "commandTitle": "Visualization 1",
       "commandType": "auto",
       "commandVersion": 0,
       "commentThread": [],
       "commentsVisible": false,
       "contentSha256Hex": null,
       "customPlotOptions": {
        "redashChart": [
         {
          "key": "type",
          "value": "CHART"
         },
         {
          "key": "options",
          "value": {
           "alignYAxesAtZero": true,
           "coefficient": 1,
           "columnConfigurationMap": {
            "series": {
             "column": "team_name",
             "id": "column_6b31dd39817"
            },
            "x": {
             "column": "race_year",
             "id": "column_6b31dd39814"
            },
            "y": [
             {
              "column": "avg_points",
              "id": "column_6b31dd39816",
              "transform": "SUM"
             }
            ]
           },
           "dateTimeFormat": "DD/MM/YYYY HH:mm",
           "direction": {
            "type": "counterclockwise"
           },
           "error_y": {
            "type": "data",
            "visible": true
           },
           "globalSeriesType": "line",
           "hideXAxis": false,
           "isAggregationOn": true,
           "legend": {
            "traceorder": "normal"
           },
           "missingValuesAsZero": true,
           "numberFormat": "0,0[.]00000",
           "percentFormat": "0[.]00%",
           "series": {
            "error_y": {
             "type": "data",
             "visible": true
            },
            "stacking": null
           },
           "seriesOptions": {
            "column_6b31dd39816": {
             "type": "line",
             "yAxis": 0
            }
           },
           "showDataLabels": false,
           "sizemode": "diameter",
           "sortX": true,
           "sortY": true,
           "swappedAxes": false,
           "textFormat": "",
           "useAggregationsUi": true,
           "valuesOptions": {},
           "version": 2,
           "xAxis": {
            "labels": {
             "enabled": false
            },
            "type": "-"
           },
           "yAxis": [
            {
             "type": "-"
            },
            {
             "opposite": true,
             "type": "-"
            }
           ]
          }
         }
        ]
       },
       "datasetPreviewNameToCmdIdMap": {},
       "diffDeletes": [],
       "diffInserts": [],
       "displayType": "redashChart",
       "error": null,
       "errorSummary": null,
       "errorTraceType": null,
       "finishTime": 0,
       "globalVars": {},
       "guid": "",
       "height": "auto",
       "hideCommandCode": false,
       "hideCommandResult": false,
       "iPythonMetadata": null,
       "inputWidgets": {},
       "isLockedInExamMode": false,
       "latestUser": "a user",
       "latestUserId": null,
       "listResultMetadata": null,
       "metadata": {},
       "nuid": "3cf571fe-5431-4e7c-bcfc-2677058b5f3b",
       "origId": 0,
       "parentHierarchy": [],
       "pivotAggregation": null,
       "pivotColumns": null,
       "position": 5.0,
       "resultDbfsErrorMessage": null,
       "resultDbfsStatus": "INLINED_IN_TREE",
       "results": null,
       "showCommandTitle": false,
       "startTime": 0,
       "state": "input",
       "streamStates": {},
       "subcommandOptions": {
        "queryPlan": {
         "groups": [
          {
           "column": "race_year",
           "type": "column"
          },
          {
           "column": "team_name",
           "type": "column"
          }
         ],
         "selects": [
          {
           "column": "race_year",
           "type": "column"
          },
          {
           "alias": "column_6b31dd39816",
           "args": [
            {
             "column": "avg_points",
             "type": "column"
            }
           ],
           "function": "SUM",
           "type": "function"
          },
          {
           "column": "team_name",
           "type": "column"
          }
         ]
        }
       },
       "submitTime": 0,
       "subtype": "tableResultSubCmd.visualization",
       "tableResultIndex": 0,
       "useConsistentColors": false,
       "version": "CommandV1",
       "width": "auto",
       "workflows": [],
       "xColumns": null,
       "yColumns": null
      }
     },
     "output_type": "display_data"
    }
   ],
   "source": [
    "%sql\n",
    "\n",
    "SELECT race_year, \n",
    "       team_name,\n",
    "       COUNT(1) AS total_races,\n",
    "       SUM(calculated_points) AS total_points,\n",
    "       AVG(calculated_points) AS avg_points\n",
    "  FROM f1_presentation.calculated_race_results\n",
    " WHERE team_name IN (SELECT team_name FROM v_dominant_teams WHERE team_rank <= 5)\n",
    "GROUP BY race_year, team_name\n",
    "ORDER BY race_year, avg_points DESC\n"
   ]
  },
  {
   "cell_type": "code",
   "execution_count": 0,
   "metadata": {
    "application/vnd.databricks.v1+cell": {
     "cellMetadata": {
      "byteLimit": 2048000,
      "implicitDf": true,
      "rowLimit": 10000
     },
     "inputWidgets": {},
     "nuid": "1d046d34-c784-4dd2-88e5-d7c758d150fb",
     "showTitle": false,
     "title": ""
    }
   },
   "outputs": [
    {
     "output_type": "display_data",
     "data": {
      "text/html": [
       "<style scoped>\n",
       "  .table-result-container {\n",
       "    max-height: 300px;\n",
       "    overflow: auto;\n",
       "  }\n",
       "  table, th, td {\n",
       "    border: 1px solid black;\n",
       "    border-collapse: collapse;\n",
       "  }\n",
       "  th, td {\n",
       "    padding: 5px;\n",
       "  }\n",
       "  th {\n",
       "    text-align: left;\n",
       "  }\n",
       "</style><div class='table-result-container'><table class='table-result'><thead style='background-color: white'><tr><th>race_year</th><th>team_name</th><th>total_races</th><th>total_points</th><th>avg_points</th></tr></thead><tbody><tr><td>1950</td><td>Ferrari</td><td>8</td><td>57</td><td>7.125</td></tr><tr><td>1951</td><td>Ferrari</td><td>22</td><td>168</td><td>7.636363636363637</td></tr><tr><td>1952</td><td>Ferrari</td><td>28</td><td>202</td><td>7.214285714285714</td></tr><tr><td>1953</td><td>Ferrari</td><td>35</td><td>230</td><td>6.571428571428571</td></tr><tr><td>1954</td><td>Mercedes</td><td>12</td><td>96</td><td>8.0</td></tr><tr><td>1954</td><td>Ferrari</td><td>25</td><td>175</td><td>7.0</td></tr><tr><td>1955</td><td>Mercedes</td><td>15</td><td>124</td><td>8.266666666666667</td></tr><tr><td>1955</td><td>Ferrari</td><td>21</td><td>131</td><td>6.238095238095238</td></tr><tr><td>1956</td><td>Ferrari</td><td>23</td><td>172</td><td>7.478260869565218</td></tr><tr><td>1957</td><td>Ferrari</td><td>20</td><td>130</td><td>6.5</td></tr><tr><td>1958</td><td>Ferrari</td><td>21</td><td>159</td><td>7.571428571428571</td></tr><tr><td>1959</td><td>Ferrari</td><td>19</td><td>132</td><td>6.947368421052632</td></tr><tr><td>1960</td><td>Ferrari</td><td>17</td><td>102</td><td>6.0</td></tr><tr><td>1961</td><td>Ferrari</td><td>19</td><td>152</td><td>8.0</td></tr><tr><td>1962</td><td>Ferrari</td><td>12</td><td>73</td><td>6.083333333333333</td></tr><tr><td>1963</td><td>Ferrari</td><td>8</td><td>53</td><td>6.625</td></tr><tr><td>1964</td><td>Ferrari</td><td>15</td><td>105</td><td>7.0</td></tr><tr><td>1965</td><td>Ferrari</td><td>16</td><td>86</td><td>5.375</td></tr><tr><td>1966</td><td>Ferrari</td><td>8</td><td>65</td><td>8.125</td></tr><tr><td>1967</td><td>Ferrari</td><td>11</td><td>64</td><td>5.818181818181818</td></tr><tr><td>1968</td><td>Ferrari</td><td>10</td><td>70</td><td>7.0</td></tr><tr><td>1969</td><td>Ferrari</td><td>4</td><td>23</td><td>5.75</td></tr><tr><td>1970</td><td>Ferrari</td><td>15</td><td>119</td><td>7.933333333333334</td></tr><tr><td>1971</td><td>Ferrari</td><td>11</td><td>79</td><td>7.181818181818182</td></tr><tr><td>1971</td><td>McLaren</td><td>11</td><td>46</td><td>4.181818181818182</td></tr><tr><td>1972</td><td>McLaren</td><td>20</td><td>136</td><td>6.8</td></tr><tr><td>1972</td><td>Ferrari</td><td>15</td><td>99</td><td>6.6</td></tr><tr><td>1973</td><td>McLaren</td><td>24</td><td>147</td><td>6.125</td></tr><tr><td>1973</td><td>Ferrari</td><td>11</td><td>54</td><td>4.909090909090909</td></tr><tr><td>1974</td><td>Ferrari</td><td>17</td><td>142</td><td>8.352941176470589</td></tr><tr><td>1974</td><td>McLaren</td><td>31</td><td>187</td><td>6.032258064516129</td></tr><tr><td>1975</td><td>Ferrari</td><td>20</td><td>150</td><td>7.5</td></tr><tr><td>1975</td><td>McLaren</td><td>18</td><td>127</td><td>7.055555555555555</td></tr><tr><td>1975</td><td>Williams</td><td>2</td><td>13</td><td>6.5</td></tr><tr><td>1976</td><td>McLaren</td><td>20</td><td>147</td><td>7.35</td></tr><tr><td>1976</td><td>Ferrari</td><td>22</td><td>159</td><td>7.2272727272727275</td></tr><tr><td>1976</td><td>Williams</td><td>1</td><td>2</td><td>2.0</td></tr><tr><td>1977</td><td>Ferrari</td><td>24</td><td>189</td><td>7.875</td></tr><tr><td>1977</td><td>McLaren</td><td>20</td><td>124</td><td>6.2</td></tr><tr><td>1978</td><td>Ferrari</td><td>20</td><td>119</td><td>5.95</td></tr><tr><td>1978</td><td>Williams</td><td>7</td><td>32</td><td>4.571428571428571</td></tr><tr><td>1978</td><td>McLaren</td><td>21</td><td>86</td><td>4.095238095238095</td></tr><tr><td>1979</td><td>Ferrari</td><td>24</td><td>183</td><td>7.625</td></tr><tr><td>1979</td><td>Williams</td><td>17</td><td>117</td><td>6.882352941176471</td></tr><tr><td>1979</td><td>McLaren</td><td>13</td><td>55</td><td>4.230769230769231</td></tr><tr><td>1980</td><td>Williams</td><td>22</td><td>182</td><td>8.272727272727273</td></tr><tr><td>1980</td><td>McLaren</td><td>10</td><td>50</td><td>5.0</td></tr><tr><td>1980</td><td>Ferrari</td><td>12</td><td>47</td><td>3.9166666666666665</td></tr><tr><td>1981</td><td>Williams</td><td>21</td><td>154</td><td>7.333333333333333</td></tr><tr><td>1981</td><td>Ferrari</td><td>13</td><td>72</td><td>5.538461538461538</td></tr><tr><td>1981</td><td>McLaren</td><td>13</td><td>70</td><td>5.384615384615385</td></tr><tr><td>1982</td><td>Ferrari</td><td>16</td><td>122</td><td>7.625</td></tr><tr><td>1982</td><td>McLaren</td><td>17</td><td>118</td><td>6.9411764705882355</td></tr><tr><td>1982</td><td>Williams</td><td>20</td><td>128</td><td>6.4</td></tr><tr><td>1983</td><td>Ferrari</td><td>20</td><td>148</td><td>7.4</td></tr><tr><td>1983</td><td>McLaren</td><td>12</td><td>74</td><td>6.166666666666667</td></tr><tr><td>1983</td><td>Williams</td><td>16</td><td>94</td><td>5.875</td></tr><tr><td>1984</td><td>McLaren</td><td>21</td><td>191</td><td>9.095238095238095</td></tr><tr><td>1984</td><td>Ferrari</td><td>18</td><td>123</td><td>6.833333333333333</td></tr><tr><td>1984</td><td>Williams</td><td>10</td><td>60</td><td>6.0</td></tr><tr><td>1985</td><td>McLaren</td><td>16</td><td>134</td><td>8.375</td></tr><tr><td>1985</td><td>Ferrari</td><td>20</td><td>147</td><td>7.35</td></tr><tr><td>1985</td><td>Williams</td><td>17</td><td>123</td><td>7.235294117647059</td></tr><tr><td>1986</td><td>Williams</td><td>24</td><td>205</td><td>8.541666666666666</td></tr><tr><td>1986</td><td>McLaren</td><td>21</td><td>161</td><td>7.666666666666667</td></tr><tr><td>1986</td><td>Ferrari</td><td>15</td><td>88</td><td>5.866666666666666</td></tr><tr><td>1987</td><td>Williams</td><td>22</td><td>189</td><td>8.590909090909092</td></tr><tr><td>1987</td><td>Ferrari</td><td>12</td><td>92</td><td>7.666666666666667</td></tr><tr><td>1987</td><td>McLaren</td><td>22</td><td>149</td><td>6.7727272727272725</td></tr><tr><td>1988</td><td>McLaren</td><td>28</td><td>253</td><td>9.035714285714286</td></tr><tr><td>1988</td><td>Ferrari</td><td>18</td><td>129</td><td>7.166666666666667</td></tr><tr><td>1988</td><td>Williams</td><td>10</td><td>57</td><td>5.7</td></tr><tr><td>1989</td><td>Ferrari</td><td>9</td><td>82</td><td>9.11111111111111</td></tr><tr><td>1989</td><td>McLaren</td><td>21</td><td>188</td><td>8.952380952380953</td></tr><tr><td>1989</td><td>Williams</td><td>19</td><td>137</td><td>7.2105263157894735</td></tr><tr><td>1990</td><td>Ferrari</td><td>19</td><td>163</td><td>8.578947368421053</td></tr><tr><td>1990</td><td>McLaren</td><td>22</td><td>187</td><td>8.5</td></tr><tr><td>1990</td><td>Williams</td><td>21</td><td>130</td><td>6.190476190476191</td></tr><tr><td>1991</td><td>Williams</td><td>21</td><td>179</td><td>8.523809523809524</td></tr><tr><td>1991</td><td>McLaren</td><td>24</td><td>204</td><td>8.5</td></tr><tr><td>1991</td><td>Ferrari</td><td>16</td><td>117</td><td>7.3125</td></tr><tr><td>1992</td><td>Williams</td><td>23</td><td>206</td><td>8.956521739130435</td></tr><tr><td>1992</td><td>McLaren</td><td>19</td><td>150</td><td>7.894736842105263</td></tr><tr><td>1992</td><td>Ferrari</td><td>10</td><td>56</td><td>5.6</td></tr><tr><td>1993</td><td>Williams</td><td>24</td><td>217</td><td>9.041666666666666</td></tr><tr><td>1993</td><td>McLaren</td><td>17</td><td>128</td><td>7.529411764705882</td></tr><tr><td>1993</td><td>Ferrari</td><td>14</td><td>77</td><td>5.5</td></tr><tr><td>1994</td><td>Williams</td><td>20</td><td>163</td><td>8.15</td></tr><tr><td>1994</td><td>Ferrari</td><td>17</td><td>127</td><td>7.470588235294118</td></tr><tr><td>1994</td><td>McLaren</td><td>13</td><td>91</td><td>7.0</td></tr><tr><td>1995</td><td>Williams</td><td>19</td><td>167</td><td>8.789473684210526</td></tr><tr><td>1995</td><td>Ferrari</td><td>18</td><td>137</td><td>7.611111111111111</td></tr><tr><td>1995</td><td>McLaren</td><td>17</td><td>85</td><td>5.0</td></tr><tr><td>1996</td><td>Williams</td><td>24</td><td>216</td><td>9.0</td></tr><tr><td>1996</td><td>Ferrari</td><td>16</td><td>117</td><td>7.3125</td></tr><tr><td>1996</td><td>McLaren</td><td>21</td><td>129</td><td>6.142857142857143</td></tr><tr><td>1997</td><td>Williams</td><td>23</td><td>177</td><td>7.695652173913044</td></tr><tr><td>1997</td><td>Ferrari</td><td>22</td><td>160</td><td>7.2727272727272725</td></tr><tr><td>1997</td><td>McLaren</td><td>19</td><td>117</td><td>6.157894736842105</td></tr><tr><td>1998</td><td>McLaren</td><td>25</td><td>212</td><td>8.48</td></tr><tr><td>1998</td><td>Ferrari</td><td>26</td><td>203</td><td>7.8076923076923075</td></tr><tr><td>1998</td><td>Williams</td><td>24</td><td>125</td><td>5.208333333333333</td></tr><tr><td>1999</td><td>McLaren</td><td>20</td><td>170</td><td>8.5</td></tr><tr><td>1999</td><td>Ferrari</td><td>27</td><td>203</td><td>7.518518518518518</td></tr><tr><td>1999</td><td>Williams</td><td>16</td><td>91</td><td>5.6875</td></tr><tr><td>2000</td><td>Ferrari</td><td>26</td><td>228</td><td>8.76923076923077</td></tr><tr><td>2000</td><td>McLaren</td><td>28</td><td>236</td><td>8.428571428571429</td></tr><tr><td>2000</td><td>Williams</td><td>18</td><td>102</td><td>5.666666666666667</td></tr><tr><td>2001</td><td>Ferrari</td><td>28</td><td>245</td><td>8.75</td></tr><tr><td>2001</td><td>Williams</td><td>16</td><td>123</td><td>7.6875</td></tr><tr><td>2001</td><td>McLaren</td><td>23</td><td>173</td><td>7.521739130434782</td></tr><tr><td>2002</td><td>Ferrari</td><td>29</td><td>267</td><td>9.206896551724139</td></tr><tr><td>2002</td><td>Williams</td><td>24</td><td>178</td><td>7.416666666666667</td></tr><tr><td>2002</td><td>McLaren</td><td>19</td><td>132</td><td>6.947368421052632</td></tr><tr><td>2003</td><td>McLaren</td><td>23</td><td>176</td><td>7.6521739130434785</td></tr><tr><td>2003</td><td>Ferrari</td><td>26</td><td>193</td><td>7.423076923076923</td></tr><tr><td>2003</td><td>Williams</td><td>25</td><td>180</td><td>7.2</td></tr><tr><td>2004</td><td>Ferrari</td><td>32</td><td>287</td><td>8.96875</td></tr><tr><td>2004</td><td>Williams</td><td>24</td><td>130</td><td>5.416666666666667</td></tr><tr><td>2004</td><td>McLaren</td><td>21</td><td>106</td><td>5.0476190476190474</td></tr><tr><td>2005</td><td>McLaren</td><td>27</td><td>212</td><td>7.851851851851852</td></tr><tr><td>2005</td><td>Williams</td><td>17</td><td>97</td><td>5.705882352941177</td></tr><tr><td>2005</td><td>Ferrari</td><td>27</td><td>143</td><td>5.296296296296297</td></tr><tr><td>2005</td><td>Red Bull</td><td>22</td><td>77</td><td>3.5</td></tr><tr><td>2006</td><td>Ferrari</td><td>32</td><td>240</td><td>7.5</td></tr><tr><td>2006</td><td>McLaren</td><td>22</td><td>150</td><td>6.818181818181818</td></tr><tr><td>2006</td><td>Red Bull</td><td>10</td><td>35</td><td>3.5</td></tr><tr><td>2006</td><td>Williams</td><td>11</td><td>30</td><td>2.727272727272727</td></tr><tr><td>2007</td><td>Ferrari</td><td>29</td><td>238</td><td>8.206896551724139</td></tr><tr><td>2007</td><td>McLaren</td><td>32</td><td>257</td><td>8.03125</td></tr><tr><td>2007</td><td>Williams</td><td>16</td><td>61</td><td>3.8125</td></tr><tr><td>2007</td><td>Red Bull</td><td>14</td><td>49</td><td>3.5</td></tr><tr><td>2008</td><td>Ferrari</td><td>27</td><td>206</td><td>7.62962962962963</td></tr><tr><td>2008</td><td>McLaren</td><td>29</td><td>191</td><td>6.586206896551724</td></tr><tr><td>2008</td><td>Williams</td><td>13</td><td>49</td><td>3.769230769230769</td></tr><tr><td>2008</td><td>Red Bull</td><td>18</td><td>63</td><td>3.5</td></tr><tr><td>2009</td><td>Red Bull</td><td>24</td><td>185</td><td>7.708333333333333</td></tr><tr><td>2009</td><td>McLaren</td><td>17</td><td>101</td><td>5.9411764705882355</td></tr><tr><td>2009</td><td>Ferrari</td><td>19</td><td>103</td><td>5.421052631578948</td></tr><tr><td>2009</td><td>Williams</td><td>16</td><td>66</td><td>4.125</td></tr><tr><td>2010</td><td>Red Bull</td><td>32</td><td>241</td><td>7.53125</td></tr><tr><td>2010</td><td>McLaren</td><td>31</td><td>231</td><td>7.451612903225806</td></tr><tr><td>2010</td><td>Ferrari</td><td>30</td><td>203</td><td>6.766666666666667</td></tr><tr><td>2010</td><td>Mercedes</td><td>27</td><td>131</td><td>4.851851851851852</td></tr><tr><td>2010</td><td>Williams</td><td>17</td><td>48</td><td>2.823529411764706</td></tr><tr><td>2011</td><td>Red Bull</td><td>36</td><td>308</td><td>8.555555555555555</td></tr><tr><td>2011</td><td>McLaren</td><td>33</td><td>251</td><td>7.606060606060606</td></tr><tr><td>2011</td><td>Ferrari</td><td>33</td><td>210</td><td>6.363636363636363</td></tr><tr><td>2011</td><td>Mercedes</td><td>25</td><td>107</td><td>4.28</td></tr><tr><td>2011</td><td>Williams</td><td>3</td><td>5</td><td>1.6666666666666667</td></tr><tr><td>2012</td><td>Red Bull</td><td>32</td><td>232</td><td>7.25</td></tr><tr><td>2012</td><td>McLaren</td><td>28</td><td>187</td><td>6.678571428571429</td></tr><tr><td>2012</td><td>Ferrari</td><td>32</td><td>212</td><td>6.625</td></tr><tr><td>2012</td><td>Mercedes</td><td>18</td><td>82</td><td>4.555555555555555</td></tr><tr><td>2012</td><td>Williams</td><td>15</td><td>47</td><td>3.1333333333333333</td></tr><tr><td>2013</td><td>Red Bull</td><td>33</td><td>277</td><td>8.393939393939394</td></tr><tr><td>2013</td><td>Ferrari</td><td>32</td><td>195</td><td>6.09375</td></tr><tr><td>2013</td><td>Mercedes</td><td>33</td><td>199</td><td>6.03030303030303</td></tr><tr><td>2013</td><td>McLaren</td><td>25</td><td>84</td><td>3.36</td></tr><tr><td>2013</td><td>Williams</td><td>2</td><td>4</td><td>2.0</td></tr><tr><td>2014</td><td>Mercedes</td><td>32</td><td>300</td><td>9.375</td></tr><tr><td>2014</td><td>Red Bull</td><td>32</td><td>211</td><td>6.59375</td></tr><tr><td>2014</td><td>Williams</td><td>28</td><td>165</td><td>5.892857142857143</td></tr><tr><td>2014</td><td>Ferrari</td><td>30</td><td>133</td><td>4.433333333333334</td></tr><tr><td>2014</td><td>McLaren</td><td>25</td><td>107</td><td>4.28</td></tr><tr><td>2015</td><td>Mercedes</td><td>35</td><td>316</td><td>9.028571428571428</td></tr><tr><td>2015</td><td>Ferrari</td><td>31</td><td>226</td><td>7.290322580645161</td></tr><tr><td>2015</td><td>Williams</td><td>26</td><td>152</td><td>5.846153846153846</td></tr><tr><td>2015</td><td>Red Bull</td><td>27</td><td>115</td><td>4.2592592592592595</td></tr><tr><td>2015</td><td>McLaren</td><td>6</td><td>19</td><td>3.1666666666666665</td></tr><tr><td>2016</td><td>Mercedes</td><td>39</td><td>344</td><td>8.820512820512821</td></tr><tr><td>2016</td><td>Red Bull</td><td>36</td><td>252</td><td>7.0</td></tr><tr><td>2016</td><td>Ferrari</td><td>34</td><td>225</td><td>6.617647058823529</td></tr><tr><td>2016</td><td>Williams</td><td>28</td><td>94</td><td>3.357142857142857</td></tr><tr><td>2016</td><td>McLaren</td><td>17</td><td>53</td><td>3.1176470588235294</td></tr><tr><td>2017</td><td>Mercedes</td><td>39</td><td>319</td><td>8.179487179487179</td></tr><tr><td>2017</td><td>Ferrari</td><td>34</td><td>266</td><td>7.823529411764706</td></tr><tr><td>2017</td><td>Red Bull</td><td>27</td><td>194</td><td>7.185185185185185</td></tr><tr><td>2017</td><td>Williams</td><td>20</td><td>59</td><td>2.95</td></tr><tr><td>2017</td><td>McLaren</td><td>8</td><td>22</td><td>2.75</td></tr><tr><td>2018</td><td>Mercedes</td><td>39</td><td>316</td><td>8.102564102564102</td></tr><tr><td>2018</td><td>Ferrari</td><td>37</td><td>289</td><td>7.8108108108108105</td></tr><tr><td>2018</td><td>Red Bull</td><td>30</td><td>219</td><td>7.3</td></tr><tr><td>2018</td><td>McLaren</td><td>13</td><td>44</td><td>3.3846153846153846</td></tr><tr><td>2018</td><td>Williams</td><td>2</td><td>4</td><td>2.0</td></tr><tr><td>2019</td><td>Mercedes</td><td>40</td><td>339</td><td>8.475</td></tr><tr><td>2019</td><td>Ferrari</td><td>34</td><td>261</td><td>7.676470588235294</td></tr><tr><td>2019</td><td>Red Bull</td><td>36</td><td>227</td><td>6.305555555555555</td></tr><tr><td>2019</td><td>McLaren</td><td>24</td><td>95</td><td>3.9583333333333335</td></tr><tr><td>2019</td><td>Williams</td><td>1</td><td>1</td><td>1.0</td></tr><tr><td>2020</td><td>Mercedes</td><td>31</td><td>258</td><td>8.32258064516129</td></tr><tr><td>2020</td><td>Red Bull</td><td>24</td><td>166</td><td>6.916666666666667</td></tr><tr><td>2020</td><td>McLaren</td><td>25</td><td>122</td><td>4.88</td></tr><tr><td>2020</td><td>Ferrari</td><td>17</td><td>78</td><td>4.588235294117647</td></tr></tbody></table></div>"
      ]
     },
     "metadata": {
      "application/vnd.databricks.v1+output": {
       "addedWidgets": {},
       "aggData": [],
       "aggError": "",
       "aggOverflow": false,
       "aggSchema": [],
       "aggSeriesLimitReached": false,
       "aggType": "",
       "arguments": {},
       "columnCustomDisplayInfos": {},
       "data": [
        [
         1950,
         "Ferrari",
         8,
         57,
         7.125
        ],
        [
         1951,
         "Ferrari",
         22,
         168,
         7.636363636363637
        ],
        [
         1952,
         "Ferrari",
         28,
         202,
         7.214285714285714
        ],
        [
         1953,
         "Ferrari",
         35,
         230,
         6.571428571428571
        ],
        [
         1954,
         "Mercedes",
         12,
         96,
         8.0
        ],
        [
         1954,
         "Ferrari",
         25,
         175,
         7.0
        ],
        [
         1955,
         "Mercedes",
         15,
         124,
         8.266666666666667
        ],
        [
         1955,
         "Ferrari",
         21,
         131,
         6.238095238095238
        ],
        [
         1956,
         "Ferrari",
         23,
         172,
         7.478260869565218
        ],
        [
         1957,
         "Ferrari",
         20,
         130,
         6.5
        ],
        [
         1958,
         "Ferrari",
         21,
         159,
         7.571428571428571
        ],
        [
         1959,
         "Ferrari",
         19,
         132,
         6.947368421052632
        ],
        [
         1960,
         "Ferrari",
         17,
         102,
         6.0
        ],
        [
         1961,
         "Ferrari",
         19,
         152,
         8.0
        ],
        [
         1962,
         "Ferrari",
         12,
         73,
         6.083333333333333
        ],
        [
         1963,
         "Ferrari",
         8,
         53,
         6.625
        ],
        [
         1964,
         "Ferrari",
         15,
         105,
         7.0
        ],
        [
         1965,
         "Ferrari",
         16,
         86,
         5.375
        ],
        [
         1966,
         "Ferrari",
         8,
         65,
         8.125
        ],
        [
         1967,
         "Ferrari",
         11,
         64,
         5.818181818181818
        ],
        [
         1968,
         "Ferrari",
         10,
         70,
         7.0
        ],
        [
         1969,
         "Ferrari",
         4,
         23,
         5.75
        ],
        [
         1970,
         "Ferrari",
         15,
         119,
         7.933333333333334
        ],
        [
         1971,
         "Ferrari",
         11,
         79,
         7.181818181818182
        ],
        [
         1971,
         "McLaren",
         11,
         46,
         4.181818181818182
        ],
        [
         1972,
         "McLaren",
         20,
         136,
         6.8
        ],
        [
         1972,
         "Ferrari",
         15,
         99,
         6.6
        ],
        [
         1973,
         "McLaren",
         24,
         147,
         6.125
        ],
        [
         1973,
         "Ferrari",
         11,
         54,
         4.909090909090909
        ],
        [
         1974,
         "Ferrari",
         17,
         142,
         8.352941176470589
        ],
        [
         1974,
         "McLaren",
         31,
         187,
         6.032258064516129
        ],
        [
         1975,
         "Ferrari",
         20,
         150,
         7.5
        ],
        [
         1975,
         "McLaren",
         18,
         127,
         7.055555555555555
        ],
        [
         1975,
         "Williams",
         2,
         13,
         6.5
        ],
        [
         1976,
         "McLaren",
         20,
         147,
         7.35
        ],
        [
         1976,
         "Ferrari",
         22,
         159,
         7.2272727272727275
        ],
        [
         1976,
         "Williams",
         1,
         2,
         2.0
        ],
        [
         1977,
         "Ferrari",
         24,
         189,
         7.875
        ],
        [
         1977,
         "McLaren",
         20,
         124,
         6.2
        ],
        [
         1978,
         "Ferrari",
         20,
         119,
         5.95
        ],
        [
         1978,
         "Williams",
         7,
         32,
         4.571428571428571
        ],
        [
         1978,
         "McLaren",
         21,
         86,
         4.095238095238095
        ],
        [
         1979,
         "Ferrari",
         24,
         183,
         7.625
        ],
        [
         1979,
         "Williams",
         17,
         117,
         6.882352941176471
        ],
        [
         1979,
         "McLaren",
         13,
         55,
         4.230769230769231
        ],
        [
         1980,
         "Williams",
         22,
         182,
         8.272727272727273
        ],
        [
         1980,
         "McLaren",
         10,
         50,
         5.0
        ],
        [
         1980,
         "Ferrari",
         12,
         47,
         3.9166666666666665
        ],
        [
         1981,
         "Williams",
         21,
         154,
         7.333333333333333
        ],
        [
         1981,
         "Ferrari",
         13,
         72,
         5.538461538461538
        ],
        [
         1981,
         "McLaren",
         13,
         70,
         5.384615384615385
        ],
        [
         1982,
         "Ferrari",
         16,
         122,
         7.625
        ],
        [
         1982,
         "McLaren",
         17,
         118,
         6.9411764705882355
        ],
        [
         1982,
         "Williams",
         20,
         128,
         6.4
        ],
        [
         1983,
         "Ferrari",
         20,
         148,
         7.4
        ],
        [
         1983,
         "McLaren",
         12,
         74,
         6.166666666666667
        ],
        [
         1983,
         "Williams",
         16,
         94,
         5.875
        ],
        [
         1984,
         "McLaren",
         21,
         191,
         9.095238095238095
        ],
        [
         1984,
         "Ferrari",
         18,
         123,
         6.833333333333333
        ],
        [
         1984,
         "Williams",
         10,
         60,
         6.0
        ],
        [
         1985,
         "McLaren",
         16,
         134,
         8.375
        ],
        [
         1985,
         "Ferrari",
         20,
         147,
         7.35
        ],
        [
         1985,
         "Williams",
         17,
         123,
         7.235294117647059
        ],
        [
         1986,
         "Williams",
         24,
         205,
         8.541666666666666
        ],
        [
         1986,
         "McLaren",
         21,
         161,
         7.666666666666667
        ],
        [
         1986,
         "Ferrari",
         15,
         88,
         5.866666666666666
        ],
        [
         1987,
         "Williams",
         22,
         189,
         8.590909090909092
        ],
        [
         1987,
         "Ferrari",
         12,
         92,
         7.666666666666667
        ],
        [
         1987,
         "McLaren",
         22,
         149,
         6.7727272727272725
        ],
        [
         1988,
         "McLaren",
         28,
         253,
         9.035714285714286
        ],
        [
         1988,
         "Ferrari",
         18,
         129,
         7.166666666666667
        ],
        [
         1988,
         "Williams",
         10,
         57,
         5.7
        ],
        [
         1989,
         "Ferrari",
         9,
         82,
         9.11111111111111
        ],
        [
         1989,
         "McLaren",
         21,
         188,
         8.952380952380953
        ],
        [
         1989,
         "Williams",
         19,
         137,
         7.2105263157894735
        ],
        [
         1990,
         "Ferrari",
         19,
         163,
         8.578947368421053
        ],
        [
         1990,
         "McLaren",
         22,
         187,
         8.5
        ],
        [
         1990,
         "Williams",
         21,
         130,
         6.190476190476191
        ],
        [
         1991,
         "Williams",
         21,
         179,
         8.523809523809524
        ],
        [
         1991,
         "McLaren",
         24,
         204,
         8.5
        ],
        [
         1991,
         "Ferrari",
         16,
         117,
         7.3125
        ],
        [
         1992,
         "Williams",
         23,
         206,
         8.956521739130435
        ],
        [
         1992,
         "McLaren",
         19,
         150,
         7.894736842105263
        ],
        [
         1992,
         "Ferrari",
         10,
         56,
         5.6
        ],
        [
         1993,
         "Williams",
         24,
         217,
         9.041666666666666
        ],
        [
         1993,
         "McLaren",
         17,
         128,
         7.529411764705882
        ],
        [
         1993,
         "Ferrari",
         14,
         77,
         5.5
        ],
        [
         1994,
         "Williams",
         20,
         163,
         8.15
        ],
        [
         1994,
         "Ferrari",
         17,
         127,
         7.470588235294118
        ],
        [
         1994,
         "McLaren",
         13,
         91,
         7.0
        ],
        [
         1995,
         "Williams",
         19,
         167,
         8.789473684210526
        ],
        [
         1995,
         "Ferrari",
         18,
         137,
         7.611111111111111
        ],
        [
         1995,
         "McLaren",
         17,
         85,
         5.0
        ],
        [
         1996,
         "Williams",
         24,
         216,
         9.0
        ],
        [
         1996,
         "Ferrari",
         16,
         117,
         7.3125
        ],
        [
         1996,
         "McLaren",
         21,
         129,
         6.142857142857143
        ],
        [
         1997,
         "Williams",
         23,
         177,
         7.695652173913044
        ],
        [
         1997,
         "Ferrari",
         22,
         160,
         7.2727272727272725
        ],
        [
         1997,
         "McLaren",
         19,
         117,
         6.157894736842105
        ],
        [
         1998,
         "McLaren",
         25,
         212,
         8.48
        ],
        [
         1998,
         "Ferrari",
         26,
         203,
         7.8076923076923075
        ],
        [
         1998,
         "Williams",
         24,
         125,
         5.208333333333333
        ],
        [
         1999,
         "McLaren",
         20,
         170,
         8.5
        ],
        [
         1999,
         "Ferrari",
         27,
         203,
         7.518518518518518
        ],
        [
         1999,
         "Williams",
         16,
         91,
         5.6875
        ],
        [
         2000,
         "Ferrari",
         26,
         228,
         8.76923076923077
        ],
        [
         2000,
         "McLaren",
         28,
         236,
         8.428571428571429
        ],
        [
         2000,
         "Williams",
         18,
         102,
         5.666666666666667
        ],
        [
         2001,
         "Ferrari",
         28,
         245,
         8.75
        ],
        [
         2001,
         "Williams",
         16,
         123,
         7.6875
        ],
        [
         2001,
         "McLaren",
         23,
         173,
         7.521739130434782
        ],
        [
         2002,
         "Ferrari",
         29,
         267,
         9.206896551724139
        ],
        [
         2002,
         "Williams",
         24,
         178,
         7.416666666666667
        ],
        [
         2002,
         "McLaren",
         19,
         132,
         6.947368421052632
        ],
        [
         2003,
         "McLaren",
         23,
         176,
         7.6521739130434785
        ],
        [
         2003,
         "Ferrari",
         26,
         193,
         7.423076923076923
        ],
        [
         2003,
         "Williams",
         25,
         180,
         7.2
        ],
        [
         2004,
         "Ferrari",
         32,
         287,
         8.96875
        ],
        [
         2004,
         "Williams",
         24,
         130,
         5.416666666666667
        ],
        [
         2004,
         "McLaren",
         21,
         106,
         5.0476190476190474
        ],
        [
         2005,
         "McLaren",
         27,
         212,
         7.851851851851852
        ],
        [
         2005,
         "Williams",
         17,
         97,
         5.705882352941177
        ],
        [
         2005,
         "Ferrari",
         27,
         143,
         5.296296296296297
        ],
        [
         2005,
         "Red Bull",
         22,
         77,
         3.5
        ],
        [
         2006,
         "Ferrari",
         32,
         240,
         7.5
        ],
        [
         2006,
         "McLaren",
         22,
         150,
         6.818181818181818
        ],
        [
         2006,
         "Red Bull",
         10,
         35,
         3.5
        ],
        [
         2006,
         "Williams",
         11,
         30,
         2.727272727272727
        ],
        [
         2007,
         "Ferrari",
         29,
         238,
         8.206896551724139
        ],
        [
         2007,
         "McLaren",
         32,
         257,
         8.03125
        ],
        [
         2007,
         "Williams",
         16,
         61,
         3.8125
        ],
        [
         2007,
         "Red Bull",
         14,
         49,
         3.5
        ],
        [
         2008,
         "Ferrari",
         27,
         206,
         7.62962962962963
        ],
        [
         2008,
         "McLaren",
         29,
         191,
         6.586206896551724
        ],
        [
         2008,
         "Williams",
         13,
         49,
         3.769230769230769
        ],
        [
         2008,
         "Red Bull",
         18,
         63,
         3.5
        ],
        [
         2009,
         "Red Bull",
         24,
         185,
         7.708333333333333
        ],
        [
         2009,
         "McLaren",
         17,
         101,
         5.9411764705882355
        ],
        [
         2009,
         "Ferrari",
         19,
         103,
         5.421052631578948
        ],
        [
         2009,
         "Williams",
         16,
         66,
         4.125
        ],
        [
         2010,
         "Red Bull",
         32,
         241,
         7.53125
        ],
        [
         2010,
         "McLaren",
         31,
         231,
         7.451612903225806
        ],
        [
         2010,
         "Ferrari",
         30,
         203,
         6.766666666666667
        ],
        [
         2010,
         "Mercedes",
         27,
         131,
         4.851851851851852
        ],
        [
         2010,
         "Williams",
         17,
         48,
         2.823529411764706
        ],
        [
         2011,
         "Red Bull",
         36,
         308,
         8.555555555555555
        ],
        [
         2011,
         "McLaren",
         33,
         251,
         7.606060606060606
        ],
        [
         2011,
         "Ferrari",
         33,
         210,
         6.363636363636363
        ],
        [
         2011,
         "Mercedes",
         25,
         107,
         4.28
        ],
        [
         2011,
         "Williams",
         3,
         5,
         1.6666666666666667
        ],
        [
         2012,
         "Red Bull",
         32,
         232,
         7.25
        ],
        [
         2012,
         "McLaren",
         28,
         187,
         6.678571428571429
        ],
        [
         2012,
         "Ferrari",
         32,
         212,
         6.625
        ],
        [
         2012,
         "Mercedes",
         18,
         82,
         4.555555555555555
        ],
        [
         2012,
         "Williams",
         15,
         47,
         3.1333333333333333
        ],
        [
         2013,
         "Red Bull",
         33,
         277,
         8.393939393939394
        ],
        [
         2013,
         "Ferrari",
         32,
         195,
         6.09375
        ],
        [
         2013,
         "Mercedes",
         33,
         199,
         6.03030303030303
        ],
        [
         2013,
         "McLaren",
         25,
         84,
         3.36
        ],
        [
         2013,
         "Williams",
         2,
         4,
         2.0
        ],
        [
         2014,
         "Mercedes",
         32,
         300,
         9.375
        ],
        [
         2014,
         "Red Bull",
         32,
         211,
         6.59375
        ],
        [
         2014,
         "Williams",
         28,
         165,
         5.892857142857143
        ],
        [
         2014,
         "Ferrari",
         30,
         133,
         4.433333333333334
        ],
        [
         2014,
         "McLaren",
         25,
         107,
         4.28
        ],
        [
         2015,
         "Mercedes",
         35,
         316,
         9.028571428571428
        ],
        [
         2015,
         "Ferrari",
         31,
         226,
         7.290322580645161
        ],
        [
         2015,
         "Williams",
         26,
         152,
         5.846153846153846
        ],
        [
         2015,
         "Red Bull",
         27,
         115,
         4.2592592592592595
        ],
        [
         2015,
         "McLaren",
         6,
         19,
         3.1666666666666665
        ],
        [
         2016,
         "Mercedes",
         39,
         344,
         8.820512820512821
        ],
        [
         2016,
         "Red Bull",
         36,
         252,
         7.0
        ],
        [
         2016,
         "Ferrari",
         34,
         225,
         6.617647058823529
        ],
        [
         2016,
         "Williams",
         28,
         94,
         3.357142857142857
        ],
        [
         2016,
         "McLaren",
         17,
         53,
         3.1176470588235294
        ],
        [
         2017,
         "Mercedes",
         39,
         319,
         8.179487179487179
        ],
        [
         2017,
         "Ferrari",
         34,
         266,
         7.823529411764706
        ],
        [
         2017,
         "Red Bull",
         27,
         194,
         7.185185185185185
        ],
        [
         2017,
         "Williams",
         20,
         59,
         2.95
        ],
        [
         2017,
         "McLaren",
         8,
         22,
         2.75
        ],
        [
         2018,
         "Mercedes",
         39,
         316,
         8.102564102564102
        ],
        [
         2018,
         "Ferrari",
         37,
         289,
         7.8108108108108105
        ],
        [
         2018,
         "Red Bull",
         30,
         219,
         7.3
        ],
        [
         2018,
         "McLaren",
         13,
         44,
         3.3846153846153846
        ],
        [
         2018,
         "Williams",
         2,
         4,
         2.0
        ],
        [
         2019,
         "Mercedes",
         40,
         339,
         8.475
        ],
        [
         2019,
         "Ferrari",
         34,
         261,
         7.676470588235294
        ],
        [
         2019,
         "Red Bull",
         36,
         227,
         6.305555555555555
        ],
        [
         2019,
         "McLaren",
         24,
         95,
         3.9583333333333335
        ],
        [
         2019,
         "Williams",
         1,
         1,
         1.0
        ],
        [
         2020,
         "Mercedes",
         31,
         258,
         8.32258064516129
        ],
        [
         2020,
         "Red Bull",
         24,
         166,
         6.916666666666667
        ],
        [
         2020,
         "McLaren",
         25,
         122,
         4.88
        ],
        [
         2020,
         "Ferrari",
         17,
         78,
         4.588235294117647
        ]
       ],
       "datasetInfos": [],
       "dbfsResultPath": null,
       "isJsonSchema": true,
       "metadata": {
        "dataframeName": "_sqldf",
        "executionCount": 3
       },
       "overflow": false,
       "plotOptions": {
        "customPlotOptions": {},
        "displayType": "table",
        "pivotAggregation": null,
        "pivotColumns": null,
        "xColumns": null,
        "yColumns": null
       },
       "removedWidgets": [],
       "schema": [
        {
         "metadata": "{}",
         "name": "race_year",
         "type": "\"integer\""
        },
        {
         "metadata": "{}",
         "name": "team_name",
         "type": "\"string\""
        },
        {
         "metadata": "{}",
         "name": "total_races",
         "type": "\"long\""
        },
        {
         "metadata": "{}",
         "name": "total_points",
         "type": "\"long\""
        },
        {
         "metadata": "{}",
         "name": "avg_points",
         "type": "\"double\""
        }
       ],
       "type": "table"
      }
     },
     "output_type": "display_data"
    },
    {
     "output_type": "display_data",
     "data": {
      "text/plain": [
       "Databricks visualization. Run in Databricks to view."
      ]
     },
     "metadata": {
      "application/vnd.databricks.v1.subcommand+json": {
       "bindings": {},
       "collapsed": false,
       "command": "%sql WITH q AS (SELECT race_year, \n       team_name,\n       COUNT(1) AS total_races,\n       SUM(calculated_points) AS total_points,\n       AVG(calculated_points) AS avg_points\n  FROM f1_presentation.calculated_race_results\n WHERE team_name IN (SELECT team_name FROM v_dominant_teams WHERE team_rank <= 5)\nGROUP BY race_year, team_name\nORDER BY race_year, avg_points DESC) SELECT `race_year`,SUM(`avg_points`) `column_6b31dd39852`,`team_name` FROM q GROUP BY `race_year`,`team_name`",
       "commandTitle": "Visualization 1",
       "commandType": "auto",
       "commandVersion": 0,
       "commentThread": [],
       "commentsVisible": false,
       "contentSha256Hex": null,
       "customPlotOptions": {
        "redashChart": [
         {
          "key": "type",
          "value": "CHART"
         },
         {
          "key": "options",
          "value": {
           "alignYAxesAtZero": true,
           "coefficient": 1,
           "columnConfigurationMap": {
            "series": {
             "column": "team_name",
             "id": "column_6b31dd39845"
            },
            "x": {
             "column": "race_year",
             "id": "column_6b31dd39844"
            },
            "y": [
             {
              "column": "avg_points",
              "id": "column_6b31dd39852",
              "transform": "SUM"
             }
            ]
           },
           "dateTimeFormat": "DD/MM/YYYY HH:mm",
           "direction": {
            "type": "counterclockwise"
           },
           "error_y": {
            "type": "data",
            "visible": true
           },
           "globalSeriesType": "area",
           "isAggregationOn": true,
           "legend": {
            "traceorder": "normal"
           },
           "missingValuesAsZero": true,
           "numberFormat": "0,0[.]00000",
           "percentFormat": "0[.]00%",
           "series": {
            "error_y": {
             "type": "data",
             "visible": true
            },
            "stacking": null
           },
           "seriesOptions": {
            "column_6b31dd39852": {
             "type": "area",
             "yAxis": 0
            }
           },
           "showDataLabels": false,
           "sizemode": "diameter",
           "sortX": true,
           "sortY": true,
           "swappedAxes": false,
           "textFormat": "",
           "useAggregationsUi": true,
           "valuesOptions": {},
           "version": 2,
           "xAxis": {
            "labels": {
             "enabled": true
            },
            "type": "-"
           },
           "yAxis": [
            {
             "type": "-"
            },
            {
             "opposite": true,
             "type": "-"
            }
           ]
          }
         }
        ]
       },
       "datasetPreviewNameToCmdIdMap": {},
       "diffDeletes": [],
       "diffInserts": [],
       "displayType": "redashChart",
       "error": null,
       "errorSummary": null,
       "errorTraceType": null,
       "finishTime": 0,
       "globalVars": {},
       "guid": "",
       "height": "auto",
       "hideCommandCode": false,
       "hideCommandResult": false,
       "iPythonMetadata": null,
       "inputWidgets": {},
       "isLockedInExamMode": false,
       "latestUser": "a user",
       "latestUserId": null,
       "listResultMetadata": null,
       "metadata": {},
       "nuid": "e077e7b8-ec3f-463a-87e9-a9661648e28c",
       "origId": 0,
       "parentHierarchy": [],
       "pivotAggregation": null,
       "pivotColumns": null,
       "position": 6.0,
       "resultDbfsErrorMessage": null,
       "resultDbfsStatus": "INLINED_IN_TREE",
       "results": null,
       "showCommandTitle": false,
       "startTime": 0,
       "state": "input",
       "streamStates": {},
       "subcommandOptions": {
        "queryPlan": {
         "groups": [
          {
           "column": "race_year",
           "type": "column"
          },
          {
           "column": "team_name",
           "type": "column"
          }
         ],
         "selects": [
          {
           "column": "race_year",
           "type": "column"
          },
          {
           "alias": "column_6b31dd39852",
           "args": [
            {
             "column": "avg_points",
             "type": "column"
            }
           ],
           "function": "SUM",
           "type": "function"
          },
          {
           "column": "team_name",
           "type": "column"
          }
         ]
        }
       },
       "submitTime": 0,
       "subtype": "tableResultSubCmd.visualization",
       "tableResultIndex": 0,
       "useConsistentColors": false,
       "version": "CommandV1",
       "width": "auto",
       "workflows": [],
       "xColumns": null,
       "yColumns": null
      }
     },
     "output_type": "display_data"
    }
   ],
   "source": [
    "%sql\n",
    "\n",
    "SELECT race_year, \n",
    "       team_name,\n",
    "       COUNT(1) AS total_races,\n",
    "       SUM(calculated_points) AS total_points,\n",
    "       AVG(calculated_points) AS avg_points\n",
    "  FROM f1_presentation.calculated_race_results\n",
    " WHERE team_name IN (SELECT team_name FROM v_dominant_teams WHERE team_rank <= 5)\n",
    "GROUP BY race_year, team_name\n",
    "ORDER BY race_year, avg_points DESC\n"
   ]
  },
  {
   "cell_type": "code",
   "execution_count": 0,
   "metadata": {
    "application/vnd.databricks.v1+cell": {
     "cellMetadata": {},
     "inputWidgets": {},
     "nuid": "2905474f-dd56-4f49-a2fe-8ccae296b879",
     "showTitle": false,
     "title": ""
    }
   },
   "outputs": [],
   "source": []
  }
 ],
 "metadata": {
  "application/vnd.databricks.v1+notebook": {
   "dashboards": [],
   "language": "python",
   "notebookMetadata": {
    "mostRecentlyExecutedCommandWithImplicitDF": {
     "commandId": 242502336054848,
     "dataframes": [
      "_sqldf"
     ]
    },
    "pythonIndentUnit": 4
   },
   "notebookName": "04-VizDominantTeams",
   "widgets": {}
  }
 },
 "nbformat": 4,
 "nbformat_minor": 0
}
